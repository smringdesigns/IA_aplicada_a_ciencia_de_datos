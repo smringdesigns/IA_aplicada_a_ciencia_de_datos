{
  "nbformat": 4,
  "nbformat_minor": 0,
  "metadata": {
    "colab": {
      "provenance": [],
      "include_colab_link": true
    },
    "kernelspec": {
      "name": "python3",
      "display_name": "Python 3"
    },
    "language_info": {
      "name": "python"
    }
  },
  "cells": [
    {
      "cell_type": "markdown",
      "metadata": {
        "id": "view-in-github",
        "colab_type": "text"
      },
      "source": [
        "<a href=\"https://colab.research.google.com/github/smringdesigns/IA_aplicada_a_ciencia_de_datos/blob/main/IA_aplicada_a_ciencia_de_datos.ipynb\" target=\"_parent\"><img src=\"https://colab.research.google.com/assets/colab-badge.svg\" alt=\"Open In Colab\"/></a>"
      ]
    },
    {
      "cell_type": "markdown",
      "source": [
        "# <strong><font color=\"7b71ff\">IA aplicada a Data Science: Utilizando IA en la construcción de visualizaciones de datos</font></strong>\n",
        "\n",
        "\n",
        "---"
      ],
      "metadata": {
        "id": "xH5tFkmkRt_n"
      }
    },
    {
      "cell_type": "markdown",
      "source": [
        "<img src=\"https://raw.githubusercontent.com/alura-cursos/ia-datascience-dataviz/main/imagens/logos/logo_branca_fundo_azul.png\" alt=\"inserir alt\">"
      ],
      "metadata": {
        "id": "sQ_RdGPMSWeu"
      }
    },
    {
      "cell_type": "markdown",
      "source": [
        "# **Aula 1 - Conociendo los datos**"
      ],
      "metadata": {
        "id": "heBVzgb0SeZH"
      }
    },
    {
      "cell_type": "markdown",
      "source": [
        " Zoop es una gran minorista que atiende a todas las regiones de México a través de su e-commerce. Es conocida por la amplia variedad de productos que ofrece, buscando satisfacer a todo tipo de público. Posee una serie de centros de distribución (CDs) para la entrega de sus productos, la mayoría de ellos situados en el estado de Mexico.\n",
        "\n",
        "Para gestionar su alcance, así como la facturación de su sector en tiendas online, consolida los datos en diferentes períodos de tiempo y evalúa estos datos para generar insights y tomar decisiones estratégicas en su negocio. En este proyecto, tendremos acceso a los datos de parte de su clientela de e-commerce durante el año 2023.\n",
        "\n",
        "Tú, como analista de datos de la empresa, necesitarás generar visualizaciones que ayuden en la elaboración de informes de acuerdo con algunas premisas proporcionadas por las partes interesadas, realizando un rápido análisis de la clientela que tenemos en la tienda virtual y de la facturación de la empresa.\n",
        "\n",
        "**Problema de negocio:**\n",
        "\n",
        "El equipo de datos de Zoop necesita extraer los datos y generar información a través de visuales que puedan presentarse a la directiva de la empresa, destacando los datos de facturación, perfil del cliente y otros indicadores que puedan ayudar en la toma de decisiones en su tienda online.\n",
        "\n",
        "**Base de datos**\n",
        "\n",
        "Vamos a importar dos bases de datos:\n",
        "\n",
        "Datos de los clientes del e-commerce de Zoop, separados por el código identificador de la compra.\n",
        "\n",
        "Datos de ventas del e-commerce de Zoop en 2023, separados por el código identificador de la compra.\n",
        "\n",
        "Estos datos se leerán desde el repositorio compartido en GitHub.\n",
        "\n",
        "**Desafío**\n",
        "\n",
        "Tú, como analista de datos del equipo de datos de Zoop, tienes el desafío de extraer los datos de ambas bases y construir visualizaciones que puedan agregar valor a la presentación de los resultados de Zoop en 2023. Para ello, se te presentarán 7 preguntas para que puedas contribuir en la construcción del storytelling de las ventas de la empresa.\n",
        "\n",
        "Para agilizar el proceso de análisis exploratorio de datos (AED) y la creación de visuales, utilizaremos la IA de ChatGPT como nuestra asistente, teniendo en cuenta el corto plazo para los análisis y la calidad de la entrega."
      ],
      "metadata": {
        "id": "o9mGhpCVSxFt"
      }
    },
    {
      "cell_type": "markdown",
      "source": [
        "## **1.2 - Obteniendo los datos**\n",
        "\n",
        "---\n",
        "\n"
      ],
      "metadata": {
        "id": "Gug4N1McUbeN"
      }
    },
    {
      "cell_type": "markdown",
      "source": [
        "Vamos inicialmente a proveer el link del repositorio con las dos bases que utilizaremos en el proyecto:"
      ],
      "metadata": {
        "id": "xI-XtppmUii6"
      }
    },
    {
      "cell_type": "code",
      "source": [
        "url_clientes = \"https://gist.githubusercontent.com/ahcamachod/d08898e1cc84c7271856e78d9558ca3d/raw/2f7e1fa53711efe6433a5c5ec79948f600591cb9/clientes_zoop.csv\"\n",
        "url_ventas = \"https://gist.githubusercontent.com/ahcamachod/966d7162a3c3a2769b8770b35abf1bcc/raw/d79941b3fa46a450f3611589abd8663399c1277b/ventas_zoop.csv\""
      ],
      "metadata": {
        "id": "t6OFqAHOSOeJ"
      },
      "execution_count": null,
      "outputs": []
    },
    {
      "cell_type": "markdown",
      "source": [
        "Después de esta etapa, vamos a crear 2 dataframes con los datos de los clientes y de las ventas de Zoop separadamente y realizar una pequeña verificación en las tablas extraídas."
      ],
      "metadata": {
        "id": "B6dG4mpIU1st"
      }
    },
    {
      "cell_type": "code",
      "source": [
        "import pandas as pd\n",
        "import warnings\n",
        "\n",
        "warnings.filterwarnings('ignore')"
      ],
      "metadata": {
        "id": "pKX3QMfJ-vsP"
      },
      "execution_count": null,
      "outputs": []
    },
    {
      "cell_type": "code",
      "source": [
        "clientes = pd.read_csv(url_clientes)"
      ],
      "metadata": {
        "id": "yN2USgCt-vor"
      },
      "execution_count": null,
      "outputs": []
    },
    {
      "cell_type": "code",
      "source": [
        "clientes.head()"
      ],
      "metadata": {
        "id": "TP7FS5Va-vl6",
        "colab": {
          "base_uri": "https://localhost:8080/",
          "height": 206
        },
        "outputId": "21f745da-8efc-4c47-ee25-07600eb8f207"
      },
      "execution_count": null,
      "outputs": [
        {
          "output_type": "execute_result",
          "data": {
            "text/plain": [
              "   ID_compra  ID_cliente            ciudad            estado    region  edad  \\\n",
              "0        904        8972  Oaxaca de Juárez            Oaxaca       Sur    49   \n",
              "1       4613        5120  Ciudad de México  Ciudad de México    Centro    49   \n",
              "2       5579        1847  Ciudad de México  Ciudad de México    Centro    24   \n",
              "3       2405        2846  Ciudad de México  Ciudad de México    Centro    38   \n",
              "4       2485        2715         Chihuahua         Chihuahua  Noroeste    30   \n",
              "\n",
              "  sexo_biologico cashback  nota  \n",
              "0      Masculino       No     9  \n",
              "1       Femenino       No     9  \n",
              "2       Femenino       No     8  \n",
              "3       Femenino       Sí     7  \n",
              "4       Femenino       No    10  "
            ],
            "text/html": [
              "\n",
              "  <div id=\"df-e6e1b75c-fb1e-4e8b-8184-7f8a4de4efc2\" class=\"colab-df-container\">\n",
              "    <div>\n",
              "<style scoped>\n",
              "    .dataframe tbody tr th:only-of-type {\n",
              "        vertical-align: middle;\n",
              "    }\n",
              "\n",
              "    .dataframe tbody tr th {\n",
              "        vertical-align: top;\n",
              "    }\n",
              "\n",
              "    .dataframe thead th {\n",
              "        text-align: right;\n",
              "    }\n",
              "</style>\n",
              "<table border=\"1\" class=\"dataframe\">\n",
              "  <thead>\n",
              "    <tr style=\"text-align: right;\">\n",
              "      <th></th>\n",
              "      <th>ID_compra</th>\n",
              "      <th>ID_cliente</th>\n",
              "      <th>ciudad</th>\n",
              "      <th>estado</th>\n",
              "      <th>region</th>\n",
              "      <th>edad</th>\n",
              "      <th>sexo_biologico</th>\n",
              "      <th>cashback</th>\n",
              "      <th>nota</th>\n",
              "    </tr>\n",
              "  </thead>\n",
              "  <tbody>\n",
              "    <tr>\n",
              "      <th>0</th>\n",
              "      <td>904</td>\n",
              "      <td>8972</td>\n",
              "      <td>Oaxaca de Juárez</td>\n",
              "      <td>Oaxaca</td>\n",
              "      <td>Sur</td>\n",
              "      <td>49</td>\n",
              "      <td>Masculino</td>\n",
              "      <td>No</td>\n",
              "      <td>9</td>\n",
              "    </tr>\n",
              "    <tr>\n",
              "      <th>1</th>\n",
              "      <td>4613</td>\n",
              "      <td>5120</td>\n",
              "      <td>Ciudad de México</td>\n",
              "      <td>Ciudad de México</td>\n",
              "      <td>Centro</td>\n",
              "      <td>49</td>\n",
              "      <td>Femenino</td>\n",
              "      <td>No</td>\n",
              "      <td>9</td>\n",
              "    </tr>\n",
              "    <tr>\n",
              "      <th>2</th>\n",
              "      <td>5579</td>\n",
              "      <td>1847</td>\n",
              "      <td>Ciudad de México</td>\n",
              "      <td>Ciudad de México</td>\n",
              "      <td>Centro</td>\n",
              "      <td>24</td>\n",
              "      <td>Femenino</td>\n",
              "      <td>No</td>\n",
              "      <td>8</td>\n",
              "    </tr>\n",
              "    <tr>\n",
              "      <th>3</th>\n",
              "      <td>2405</td>\n",
              "      <td>2846</td>\n",
              "      <td>Ciudad de México</td>\n",
              "      <td>Ciudad de México</td>\n",
              "      <td>Centro</td>\n",
              "      <td>38</td>\n",
              "      <td>Femenino</td>\n",
              "      <td>Sí</td>\n",
              "      <td>7</td>\n",
              "    </tr>\n",
              "    <tr>\n",
              "      <th>4</th>\n",
              "      <td>2485</td>\n",
              "      <td>2715</td>\n",
              "      <td>Chihuahua</td>\n",
              "      <td>Chihuahua</td>\n",
              "      <td>Noroeste</td>\n",
              "      <td>30</td>\n",
              "      <td>Femenino</td>\n",
              "      <td>No</td>\n",
              "      <td>10</td>\n",
              "    </tr>\n",
              "  </tbody>\n",
              "</table>\n",
              "</div>\n",
              "    <div class=\"colab-df-buttons\">\n",
              "\n",
              "  <div class=\"colab-df-container\">\n",
              "    <button class=\"colab-df-convert\" onclick=\"convertToInteractive('df-e6e1b75c-fb1e-4e8b-8184-7f8a4de4efc2')\"\n",
              "            title=\"Convert this dataframe to an interactive table.\"\n",
              "            style=\"display:none;\">\n",
              "\n",
              "  <svg xmlns=\"http://www.w3.org/2000/svg\" height=\"24px\" viewBox=\"0 -960 960 960\">\n",
              "    <path d=\"M120-120v-720h720v720H120Zm60-500h600v-160H180v160Zm220 220h160v-160H400v160Zm0 220h160v-160H400v160ZM180-400h160v-160H180v160Zm440 0h160v-160H620v160ZM180-180h160v-160H180v160Zm440 0h160v-160H620v160Z\"/>\n",
              "  </svg>\n",
              "    </button>\n",
              "\n",
              "  <style>\n",
              "    .colab-df-container {\n",
              "      display:flex;\n",
              "      gap: 12px;\n",
              "    }\n",
              "\n",
              "    .colab-df-convert {\n",
              "      background-color: #E8F0FE;\n",
              "      border: none;\n",
              "      border-radius: 50%;\n",
              "      cursor: pointer;\n",
              "      display: none;\n",
              "      fill: #1967D2;\n",
              "      height: 32px;\n",
              "      padding: 0 0 0 0;\n",
              "      width: 32px;\n",
              "    }\n",
              "\n",
              "    .colab-df-convert:hover {\n",
              "      background-color: #E2EBFA;\n",
              "      box-shadow: 0px 1px 2px rgba(60, 64, 67, 0.3), 0px 1px 3px 1px rgba(60, 64, 67, 0.15);\n",
              "      fill: #174EA6;\n",
              "    }\n",
              "\n",
              "    .colab-df-buttons div {\n",
              "      margin-bottom: 4px;\n",
              "    }\n",
              "\n",
              "    [theme=dark] .colab-df-convert {\n",
              "      background-color: #3B4455;\n",
              "      fill: #D2E3FC;\n",
              "    }\n",
              "\n",
              "    [theme=dark] .colab-df-convert:hover {\n",
              "      background-color: #434B5C;\n",
              "      box-shadow: 0px 1px 3px 1px rgba(0, 0, 0, 0.15);\n",
              "      filter: drop-shadow(0px 1px 2px rgba(0, 0, 0, 0.3));\n",
              "      fill: #FFFFFF;\n",
              "    }\n",
              "  </style>\n",
              "\n",
              "    <script>\n",
              "      const buttonEl =\n",
              "        document.querySelector('#df-e6e1b75c-fb1e-4e8b-8184-7f8a4de4efc2 button.colab-df-convert');\n",
              "      buttonEl.style.display =\n",
              "        google.colab.kernel.accessAllowed ? 'block' : 'none';\n",
              "\n",
              "      async function convertToInteractive(key) {\n",
              "        const element = document.querySelector('#df-e6e1b75c-fb1e-4e8b-8184-7f8a4de4efc2');\n",
              "        const dataTable =\n",
              "          await google.colab.kernel.invokeFunction('convertToInteractive',\n",
              "                                                    [key], {});\n",
              "        if (!dataTable) return;\n",
              "\n",
              "        const docLinkHtml = 'Like what you see? Visit the ' +\n",
              "          '<a target=\"_blank\" href=https://colab.research.google.com/notebooks/data_table.ipynb>data table notebook</a>'\n",
              "          + ' to learn more about interactive tables.';\n",
              "        element.innerHTML = '';\n",
              "        dataTable['output_type'] = 'display_data';\n",
              "        await google.colab.output.renderOutput(dataTable, element);\n",
              "        const docLink = document.createElement('div');\n",
              "        docLink.innerHTML = docLinkHtml;\n",
              "        element.appendChild(docLink);\n",
              "      }\n",
              "    </script>\n",
              "  </div>\n",
              "\n",
              "\n",
              "    <div id=\"df-7bc9c7cf-b511-47a3-994b-f7d6e1bca1d3\">\n",
              "      <button class=\"colab-df-quickchart\" onclick=\"quickchart('df-7bc9c7cf-b511-47a3-994b-f7d6e1bca1d3')\"\n",
              "                title=\"Suggest charts\"\n",
              "                style=\"display:none;\">\n",
              "\n",
              "<svg xmlns=\"http://www.w3.org/2000/svg\" height=\"24px\"viewBox=\"0 0 24 24\"\n",
              "     width=\"24px\">\n",
              "    <g>\n",
              "        <path d=\"M19 3H5c-1.1 0-2 .9-2 2v14c0 1.1.9 2 2 2h14c1.1 0 2-.9 2-2V5c0-1.1-.9-2-2-2zM9 17H7v-7h2v7zm4 0h-2V7h2v10zm4 0h-2v-4h2v4z\"/>\n",
              "    </g>\n",
              "</svg>\n",
              "      </button>\n",
              "\n",
              "<style>\n",
              "  .colab-df-quickchart {\n",
              "      --bg-color: #E8F0FE;\n",
              "      --fill-color: #1967D2;\n",
              "      --hover-bg-color: #E2EBFA;\n",
              "      --hover-fill-color: #174EA6;\n",
              "      --disabled-fill-color: #AAA;\n",
              "      --disabled-bg-color: #DDD;\n",
              "  }\n",
              "\n",
              "  [theme=dark] .colab-df-quickchart {\n",
              "      --bg-color: #3B4455;\n",
              "      --fill-color: #D2E3FC;\n",
              "      --hover-bg-color: #434B5C;\n",
              "      --hover-fill-color: #FFFFFF;\n",
              "      --disabled-bg-color: #3B4455;\n",
              "      --disabled-fill-color: #666;\n",
              "  }\n",
              "\n",
              "  .colab-df-quickchart {\n",
              "    background-color: var(--bg-color);\n",
              "    border: none;\n",
              "    border-radius: 50%;\n",
              "    cursor: pointer;\n",
              "    display: none;\n",
              "    fill: var(--fill-color);\n",
              "    height: 32px;\n",
              "    padding: 0;\n",
              "    width: 32px;\n",
              "  }\n",
              "\n",
              "  .colab-df-quickchart:hover {\n",
              "    background-color: var(--hover-bg-color);\n",
              "    box-shadow: 0 1px 2px rgba(60, 64, 67, 0.3), 0 1px 3px 1px rgba(60, 64, 67, 0.15);\n",
              "    fill: var(--button-hover-fill-color);\n",
              "  }\n",
              "\n",
              "  .colab-df-quickchart-complete:disabled,\n",
              "  .colab-df-quickchart-complete:disabled:hover {\n",
              "    background-color: var(--disabled-bg-color);\n",
              "    fill: var(--disabled-fill-color);\n",
              "    box-shadow: none;\n",
              "  }\n",
              "\n",
              "  .colab-df-spinner {\n",
              "    border: 2px solid var(--fill-color);\n",
              "    border-color: transparent;\n",
              "    border-bottom-color: var(--fill-color);\n",
              "    animation:\n",
              "      spin 1s steps(1) infinite;\n",
              "  }\n",
              "\n",
              "  @keyframes spin {\n",
              "    0% {\n",
              "      border-color: transparent;\n",
              "      border-bottom-color: var(--fill-color);\n",
              "      border-left-color: var(--fill-color);\n",
              "    }\n",
              "    20% {\n",
              "      border-color: transparent;\n",
              "      border-left-color: var(--fill-color);\n",
              "      border-top-color: var(--fill-color);\n",
              "    }\n",
              "    30% {\n",
              "      border-color: transparent;\n",
              "      border-left-color: var(--fill-color);\n",
              "      border-top-color: var(--fill-color);\n",
              "      border-right-color: var(--fill-color);\n",
              "    }\n",
              "    40% {\n",
              "      border-color: transparent;\n",
              "      border-right-color: var(--fill-color);\n",
              "      border-top-color: var(--fill-color);\n",
              "    }\n",
              "    60% {\n",
              "      border-color: transparent;\n",
              "      border-right-color: var(--fill-color);\n",
              "    }\n",
              "    80% {\n",
              "      border-color: transparent;\n",
              "      border-right-color: var(--fill-color);\n",
              "      border-bottom-color: var(--fill-color);\n",
              "    }\n",
              "    90% {\n",
              "      border-color: transparent;\n",
              "      border-bottom-color: var(--fill-color);\n",
              "    }\n",
              "  }\n",
              "</style>\n",
              "\n",
              "      <script>\n",
              "        async function quickchart(key) {\n",
              "          const quickchartButtonEl =\n",
              "            document.querySelector('#' + key + ' button');\n",
              "          quickchartButtonEl.disabled = true;  // To prevent multiple clicks.\n",
              "          quickchartButtonEl.classList.add('colab-df-spinner');\n",
              "          try {\n",
              "            const charts = await google.colab.kernel.invokeFunction(\n",
              "                'suggestCharts', [key], {});\n",
              "          } catch (error) {\n",
              "            console.error('Error during call to suggestCharts:', error);\n",
              "          }\n",
              "          quickchartButtonEl.classList.remove('colab-df-spinner');\n",
              "          quickchartButtonEl.classList.add('colab-df-quickchart-complete');\n",
              "        }\n",
              "        (() => {\n",
              "          let quickchartButtonEl =\n",
              "            document.querySelector('#df-7bc9c7cf-b511-47a3-994b-f7d6e1bca1d3 button');\n",
              "          quickchartButtonEl.style.display =\n",
              "            google.colab.kernel.accessAllowed ? 'block' : 'none';\n",
              "        })();\n",
              "      </script>\n",
              "    </div>\n",
              "\n",
              "    </div>\n",
              "  </div>\n"
            ],
            "application/vnd.google.colaboratory.intrinsic+json": {
              "type": "dataframe",
              "variable_name": "clientes",
              "summary": "{\n  \"name\": \"clientes\",\n  \"rows\": 6169,\n  \"fields\": [\n    {\n      \"column\": \"ID_compra\",\n      \"properties\": {\n        \"dtype\": \"number\",\n        \"std\": 1780,\n        \"min\": 1,\n        \"max\": 6169,\n        \"num_unique_values\": 6169,\n        \"samples\": [\n          1418,\n          5069,\n          64\n        ],\n        \"semantic_type\": \"\",\n        \"description\": \"\"\n      }\n    },\n    {\n      \"column\": \"ID_cliente\",\n      \"properties\": {\n        \"dtype\": \"number\",\n        \"std\": 2610,\n        \"min\": 1005,\n        \"max\": 9999,\n        \"num_unique_values\": 4453,\n        \"samples\": [\n          5545,\n          1982,\n          6905\n        ],\n        \"semantic_type\": \"\",\n        \"description\": \"\"\n      }\n    },\n    {\n      \"column\": \"ciudad\",\n      \"properties\": {\n        \"dtype\": \"category\",\n        \"num_unique_values\": 94,\n        \"samples\": [\n          \"Tizimin\",\n          \"Tuxtla Guti\\u00e9rrez\",\n          \"Coacalco de Berrioz\\u00e1bal\"\n        ],\n        \"semantic_type\": \"\",\n        \"description\": \"\"\n      }\n    },\n    {\n      \"column\": \"estado\",\n      \"properties\": {\n        \"dtype\": \"category\",\n        \"num_unique_values\": 28,\n        \"samples\": [\n          \"Veracruz\",\n          \"Campeche\",\n          \"Estado de M\\u00e9xico\"\n        ],\n        \"semantic_type\": \"\",\n        \"description\": \"\"\n      }\n    },\n    {\n      \"column\": \"region\",\n      \"properties\": {\n        \"dtype\": \"category\",\n        \"num_unique_values\": 9,\n        \"samples\": [\n          \"Centro-Norte\",\n          \"Centro\",\n          \"Centro-Sur\"\n        ],\n        \"semantic_type\": \"\",\n        \"description\": \"\"\n      }\n    },\n    {\n      \"column\": \"edad\",\n      \"properties\": {\n        \"dtype\": \"number\",\n        \"std\": 9,\n        \"min\": 18,\n        \"max\": 70,\n        \"num_unique_values\": 53,\n        \"samples\": [\n          45,\n          57,\n          66\n        ],\n        \"semantic_type\": \"\",\n        \"description\": \"\"\n      }\n    },\n    {\n      \"column\": \"sexo_biologico\",\n      \"properties\": {\n        \"dtype\": \"category\",\n        \"num_unique_values\": 2,\n        \"samples\": [\n          \"Femenino\",\n          \"Masculino\"\n        ],\n        \"semantic_type\": \"\",\n        \"description\": \"\"\n      }\n    },\n    {\n      \"column\": \"cashback\",\n      \"properties\": {\n        \"dtype\": \"category\",\n        \"num_unique_values\": 2,\n        \"samples\": [\n          \"S\\u00ed\",\n          \"No\"\n        ],\n        \"semantic_type\": \"\",\n        \"description\": \"\"\n      }\n    },\n    {\n      \"column\": \"nota\",\n      \"properties\": {\n        \"dtype\": \"number\",\n        \"std\": 1,\n        \"min\": 0,\n        \"max\": 10,\n        \"num_unique_values\": 11,\n        \"samples\": [\n          4,\n          9\n        ],\n        \"semantic_type\": \"\",\n        \"description\": \"\"\n      }\n    }\n  ]\n}"
            }
          },
          "metadata": {},
          "execution_count": 40
        }
      ]
    },
    {
      "cell_type": "code",
      "source": [
        "ventas = pd.read_csv(url_ventas)"
      ],
      "metadata": {
        "id": "ssCTn_Em-xp6"
      },
      "execution_count": null,
      "outputs": []
    },
    {
      "cell_type": "code",
      "source": [
        "ventas.tail()"
      ],
      "metadata": {
        "colab": {
          "base_uri": "https://localhost:8080/",
          "height": 206
        },
        "id": "VV_gD8-DPrgh",
        "outputId": "178f26f9-be8b-492a-c5f6-c5f517e34678"
      },
      "execution_count": null,
      "outputs": [
        {
          "output_type": "execute_result",
          "data": {
            "text/plain": [
              "      ID_compra       fecha horario            categoria  precio_unitario  \\\n",
              "6164       6141  2023-12-31   17:49    Electrodomésticos           1509.9   \n",
              "6165       6148  2023-12-31   23:02  Papelería y oficina             14.0   \n",
              "6166       6123  2023-12-31   21:25  Alimentos y bebidas             77.9   \n",
              "6167       6147  2023-12-31   21:38               Libros            142.9   \n",
              "6168       6122  2023-12-31   22:11    Belleza e higiene             89.9   \n",
              "\n",
              "      cantidad   envio         metodo_pago  \n",
              "6164         5  377.48  Tarjeta de Crédito  \n",
              "6165         2    3.36       Transferencia  \n",
              "6166         1    7.79  Tarjeta de Crédito  \n",
              "6167         4   17.15  Tarjeta de Crédito  \n",
              "6168         5   13.48  Tarjeta de Crédito  "
            ],
            "text/html": [
              "\n",
              "  <div id=\"df-e6577073-4019-43d4-9db4-130495229ddf\" class=\"colab-df-container\">\n",
              "    <div>\n",
              "<style scoped>\n",
              "    .dataframe tbody tr th:only-of-type {\n",
              "        vertical-align: middle;\n",
              "    }\n",
              "\n",
              "    .dataframe tbody tr th {\n",
              "        vertical-align: top;\n",
              "    }\n",
              "\n",
              "    .dataframe thead th {\n",
              "        text-align: right;\n",
              "    }\n",
              "</style>\n",
              "<table border=\"1\" class=\"dataframe\">\n",
              "  <thead>\n",
              "    <tr style=\"text-align: right;\">\n",
              "      <th></th>\n",
              "      <th>ID_compra</th>\n",
              "      <th>fecha</th>\n",
              "      <th>horario</th>\n",
              "      <th>categoria</th>\n",
              "      <th>precio_unitario</th>\n",
              "      <th>cantidad</th>\n",
              "      <th>envio</th>\n",
              "      <th>metodo_pago</th>\n",
              "    </tr>\n",
              "  </thead>\n",
              "  <tbody>\n",
              "    <tr>\n",
              "      <th>6164</th>\n",
              "      <td>6141</td>\n",
              "      <td>2023-12-31</td>\n",
              "      <td>17:49</td>\n",
              "      <td>Electrodomésticos</td>\n",
              "      <td>1509.9</td>\n",
              "      <td>5</td>\n",
              "      <td>377.48</td>\n",
              "      <td>Tarjeta de Crédito</td>\n",
              "    </tr>\n",
              "    <tr>\n",
              "      <th>6165</th>\n",
              "      <td>6148</td>\n",
              "      <td>2023-12-31</td>\n",
              "      <td>23:02</td>\n",
              "      <td>Papelería y oficina</td>\n",
              "      <td>14.0</td>\n",
              "      <td>2</td>\n",
              "      <td>3.36</td>\n",
              "      <td>Transferencia</td>\n",
              "    </tr>\n",
              "    <tr>\n",
              "      <th>6166</th>\n",
              "      <td>6123</td>\n",
              "      <td>2023-12-31</td>\n",
              "      <td>21:25</td>\n",
              "      <td>Alimentos y bebidas</td>\n",
              "      <td>77.9</td>\n",
              "      <td>1</td>\n",
              "      <td>7.79</td>\n",
              "      <td>Tarjeta de Crédito</td>\n",
              "    </tr>\n",
              "    <tr>\n",
              "      <th>6167</th>\n",
              "      <td>6147</td>\n",
              "      <td>2023-12-31</td>\n",
              "      <td>21:38</td>\n",
              "      <td>Libros</td>\n",
              "      <td>142.9</td>\n",
              "      <td>4</td>\n",
              "      <td>17.15</td>\n",
              "      <td>Tarjeta de Crédito</td>\n",
              "    </tr>\n",
              "    <tr>\n",
              "      <th>6168</th>\n",
              "      <td>6122</td>\n",
              "      <td>2023-12-31</td>\n",
              "      <td>22:11</td>\n",
              "      <td>Belleza e higiene</td>\n",
              "      <td>89.9</td>\n",
              "      <td>5</td>\n",
              "      <td>13.48</td>\n",
              "      <td>Tarjeta de Crédito</td>\n",
              "    </tr>\n",
              "  </tbody>\n",
              "</table>\n",
              "</div>\n",
              "    <div class=\"colab-df-buttons\">\n",
              "\n",
              "  <div class=\"colab-df-container\">\n",
              "    <button class=\"colab-df-convert\" onclick=\"convertToInteractive('df-e6577073-4019-43d4-9db4-130495229ddf')\"\n",
              "            title=\"Convert this dataframe to an interactive table.\"\n",
              "            style=\"display:none;\">\n",
              "\n",
              "  <svg xmlns=\"http://www.w3.org/2000/svg\" height=\"24px\" viewBox=\"0 -960 960 960\">\n",
              "    <path d=\"M120-120v-720h720v720H120Zm60-500h600v-160H180v160Zm220 220h160v-160H400v160Zm0 220h160v-160H400v160ZM180-400h160v-160H180v160Zm440 0h160v-160H620v160ZM180-180h160v-160H180v160Zm440 0h160v-160H620v160Z\"/>\n",
              "  </svg>\n",
              "    </button>\n",
              "\n",
              "  <style>\n",
              "    .colab-df-container {\n",
              "      display:flex;\n",
              "      gap: 12px;\n",
              "    }\n",
              "\n",
              "    .colab-df-convert {\n",
              "      background-color: #E8F0FE;\n",
              "      border: none;\n",
              "      border-radius: 50%;\n",
              "      cursor: pointer;\n",
              "      display: none;\n",
              "      fill: #1967D2;\n",
              "      height: 32px;\n",
              "      padding: 0 0 0 0;\n",
              "      width: 32px;\n",
              "    }\n",
              "\n",
              "    .colab-df-convert:hover {\n",
              "      background-color: #E2EBFA;\n",
              "      box-shadow: 0px 1px 2px rgba(60, 64, 67, 0.3), 0px 1px 3px 1px rgba(60, 64, 67, 0.15);\n",
              "      fill: #174EA6;\n",
              "    }\n",
              "\n",
              "    .colab-df-buttons div {\n",
              "      margin-bottom: 4px;\n",
              "    }\n",
              "\n",
              "    [theme=dark] .colab-df-convert {\n",
              "      background-color: #3B4455;\n",
              "      fill: #D2E3FC;\n",
              "    }\n",
              "\n",
              "    [theme=dark] .colab-df-convert:hover {\n",
              "      background-color: #434B5C;\n",
              "      box-shadow: 0px 1px 3px 1px rgba(0, 0, 0, 0.15);\n",
              "      filter: drop-shadow(0px 1px 2px rgba(0, 0, 0, 0.3));\n",
              "      fill: #FFFFFF;\n",
              "    }\n",
              "  </style>\n",
              "\n",
              "    <script>\n",
              "      const buttonEl =\n",
              "        document.querySelector('#df-e6577073-4019-43d4-9db4-130495229ddf button.colab-df-convert');\n",
              "      buttonEl.style.display =\n",
              "        google.colab.kernel.accessAllowed ? 'block' : 'none';\n",
              "\n",
              "      async function convertToInteractive(key) {\n",
              "        const element = document.querySelector('#df-e6577073-4019-43d4-9db4-130495229ddf');\n",
              "        const dataTable =\n",
              "          await google.colab.kernel.invokeFunction('convertToInteractive',\n",
              "                                                    [key], {});\n",
              "        if (!dataTable) return;\n",
              "\n",
              "        const docLinkHtml = 'Like what you see? Visit the ' +\n",
              "          '<a target=\"_blank\" href=https://colab.research.google.com/notebooks/data_table.ipynb>data table notebook</a>'\n",
              "          + ' to learn more about interactive tables.';\n",
              "        element.innerHTML = '';\n",
              "        dataTable['output_type'] = 'display_data';\n",
              "        await google.colab.output.renderOutput(dataTable, element);\n",
              "        const docLink = document.createElement('div');\n",
              "        docLink.innerHTML = docLinkHtml;\n",
              "        element.appendChild(docLink);\n",
              "      }\n",
              "    </script>\n",
              "  </div>\n",
              "\n",
              "\n",
              "    <div id=\"df-19f0e625-8166-47a8-9325-171f155034fe\">\n",
              "      <button class=\"colab-df-quickchart\" onclick=\"quickchart('df-19f0e625-8166-47a8-9325-171f155034fe')\"\n",
              "                title=\"Suggest charts\"\n",
              "                style=\"display:none;\">\n",
              "\n",
              "<svg xmlns=\"http://www.w3.org/2000/svg\" height=\"24px\"viewBox=\"0 0 24 24\"\n",
              "     width=\"24px\">\n",
              "    <g>\n",
              "        <path d=\"M19 3H5c-1.1 0-2 .9-2 2v14c0 1.1.9 2 2 2h14c1.1 0 2-.9 2-2V5c0-1.1-.9-2-2-2zM9 17H7v-7h2v7zm4 0h-2V7h2v10zm4 0h-2v-4h2v4z\"/>\n",
              "    </g>\n",
              "</svg>\n",
              "      </button>\n",
              "\n",
              "<style>\n",
              "  .colab-df-quickchart {\n",
              "      --bg-color: #E8F0FE;\n",
              "      --fill-color: #1967D2;\n",
              "      --hover-bg-color: #E2EBFA;\n",
              "      --hover-fill-color: #174EA6;\n",
              "      --disabled-fill-color: #AAA;\n",
              "      --disabled-bg-color: #DDD;\n",
              "  }\n",
              "\n",
              "  [theme=dark] .colab-df-quickchart {\n",
              "      --bg-color: #3B4455;\n",
              "      --fill-color: #D2E3FC;\n",
              "      --hover-bg-color: #434B5C;\n",
              "      --hover-fill-color: #FFFFFF;\n",
              "      --disabled-bg-color: #3B4455;\n",
              "      --disabled-fill-color: #666;\n",
              "  }\n",
              "\n",
              "  .colab-df-quickchart {\n",
              "    background-color: var(--bg-color);\n",
              "    border: none;\n",
              "    border-radius: 50%;\n",
              "    cursor: pointer;\n",
              "    display: none;\n",
              "    fill: var(--fill-color);\n",
              "    height: 32px;\n",
              "    padding: 0;\n",
              "    width: 32px;\n",
              "  }\n",
              "\n",
              "  .colab-df-quickchart:hover {\n",
              "    background-color: var(--hover-bg-color);\n",
              "    box-shadow: 0 1px 2px rgba(60, 64, 67, 0.3), 0 1px 3px 1px rgba(60, 64, 67, 0.15);\n",
              "    fill: var(--button-hover-fill-color);\n",
              "  }\n",
              "\n",
              "  .colab-df-quickchart-complete:disabled,\n",
              "  .colab-df-quickchart-complete:disabled:hover {\n",
              "    background-color: var(--disabled-bg-color);\n",
              "    fill: var(--disabled-fill-color);\n",
              "    box-shadow: none;\n",
              "  }\n",
              "\n",
              "  .colab-df-spinner {\n",
              "    border: 2px solid var(--fill-color);\n",
              "    border-color: transparent;\n",
              "    border-bottom-color: var(--fill-color);\n",
              "    animation:\n",
              "      spin 1s steps(1) infinite;\n",
              "  }\n",
              "\n",
              "  @keyframes spin {\n",
              "    0% {\n",
              "      border-color: transparent;\n",
              "      border-bottom-color: var(--fill-color);\n",
              "      border-left-color: var(--fill-color);\n",
              "    }\n",
              "    20% {\n",
              "      border-color: transparent;\n",
              "      border-left-color: var(--fill-color);\n",
              "      border-top-color: var(--fill-color);\n",
              "    }\n",
              "    30% {\n",
              "      border-color: transparent;\n",
              "      border-left-color: var(--fill-color);\n",
              "      border-top-color: var(--fill-color);\n",
              "      border-right-color: var(--fill-color);\n",
              "    }\n",
              "    40% {\n",
              "      border-color: transparent;\n",
              "      border-right-color: var(--fill-color);\n",
              "      border-top-color: var(--fill-color);\n",
              "    }\n",
              "    60% {\n",
              "      border-color: transparent;\n",
              "      border-right-color: var(--fill-color);\n",
              "    }\n",
              "    80% {\n",
              "      border-color: transparent;\n",
              "      border-right-color: var(--fill-color);\n",
              "      border-bottom-color: var(--fill-color);\n",
              "    }\n",
              "    90% {\n",
              "      border-color: transparent;\n",
              "      border-bottom-color: var(--fill-color);\n",
              "    }\n",
              "  }\n",
              "</style>\n",
              "\n",
              "      <script>\n",
              "        async function quickchart(key) {\n",
              "          const quickchartButtonEl =\n",
              "            document.querySelector('#' + key + ' button');\n",
              "          quickchartButtonEl.disabled = true;  // To prevent multiple clicks.\n",
              "          quickchartButtonEl.classList.add('colab-df-spinner');\n",
              "          try {\n",
              "            const charts = await google.colab.kernel.invokeFunction(\n",
              "                'suggestCharts', [key], {});\n",
              "          } catch (error) {\n",
              "            console.error('Error during call to suggestCharts:', error);\n",
              "          }\n",
              "          quickchartButtonEl.classList.remove('colab-df-spinner');\n",
              "          quickchartButtonEl.classList.add('colab-df-quickchart-complete');\n",
              "        }\n",
              "        (() => {\n",
              "          let quickchartButtonEl =\n",
              "            document.querySelector('#df-19f0e625-8166-47a8-9325-171f155034fe button');\n",
              "          quickchartButtonEl.style.display =\n",
              "            google.colab.kernel.accessAllowed ? 'block' : 'none';\n",
              "        })();\n",
              "      </script>\n",
              "    </div>\n",
              "\n",
              "    </div>\n",
              "  </div>\n"
            ],
            "application/vnd.google.colaboratory.intrinsic+json": {
              "type": "dataframe",
              "repr_error": "0"
            }
          },
          "metadata": {},
          "execution_count": 42
        }
      ]
    },
    {
      "cell_type": "markdown",
      "source": [
        "## **1.3 - Entendiendo los datos**\n",
        "\n",
        "---\n"
      ],
      "metadata": {
        "id": "sGD1TbXWimjs"
      }
    },
    {
      "cell_type": "markdown",
      "source": [
        "Ahora, vamos a explorar los datos comprendiendo lo que significan y cómo podemos relacionarlos en la construcción de las visualizaciones."
      ],
      "metadata": {
        "id": "_j0wSj0Rjkjn"
      }
    },
    {
      "cell_type": "markdown",
      "source": [
        "### **Base de clientes**"
      ],
      "metadata": {
        "id": "jQExeDtTkC4G"
      }
    },
    {
      "cell_type": "markdown",
      "source": [
        "> #### <strong><font color=\"7b71ff\" size =6>Prompt:</font></strong>\n",
        "\n",
        "Vamos a actuar como analistas de datos de una e-commerce. Recibimos dos bases de datos con los datos de los clientes y de las ventas en 2023, respectivamente.\n",
        "\n",
        "En este primer momento, vamos a explorar la base de clientes en formato de un DataFrame de pandas, llamado \"clientes\". Contiene datos de los clientes que realizaron compras en la tienda virtual, siendo estos: ID de la compra, ID del cliente, la ciudad, estado y región de la compra, edad, sexo biológico, si participan en el programa de cashback y la calificación, o nota, de la compra.\n",
        "\n",
        "Queremos hacer una breve exploración de los datos para comprender un poco sobre ellos. Recordando que los datos de esta base ya están limpios y tratados. Construye el código para ejecutar esta etapa utilizando Python con el objetivo de conocer mejor el dataframe \"clientes\" y algunos de sus atributos.\n",
        "\n",
        "No es necesario utilizar \"print()\" para mostrar el resultado de las consultas."
      ],
      "metadata": {
        "id": "VzsWSK91lIPb"
      }
    },
    {
      "cell_type": "code",
      "source": [
        "# 1. Visualiza las primeras 5 filas del DataFrame para tener una idea de la estructura de los datos\n",
        "clientes.head()"
      ],
      "metadata": {
        "id": "ONCdgaeB-qz-",
        "colab": {
          "base_uri": "https://localhost:8080/",
          "height": 206
        },
        "outputId": "26761d9e-757e-40c1-a730-44e16d5acb47"
      },
      "execution_count": null,
      "outputs": [
        {
          "output_type": "execute_result",
          "data": {
            "text/plain": [
              "   ID_compra  ID_cliente            ciudad            estado    region  edad  \\\n",
              "0        904        8972  Oaxaca de Juárez            Oaxaca       Sur    49   \n",
              "1       4613        5120  Ciudad de México  Ciudad de México    Centro    49   \n",
              "2       5579        1847  Ciudad de México  Ciudad de México    Centro    24   \n",
              "3       2405        2846  Ciudad de México  Ciudad de México    Centro    38   \n",
              "4       2485        2715         Chihuahua         Chihuahua  Noroeste    30   \n",
              "\n",
              "  sexo_biologico cashback  nota  \n",
              "0      Masculino       No     9  \n",
              "1       Femenino       No     9  \n",
              "2       Femenino       No     8  \n",
              "3       Femenino       Sí     7  \n",
              "4       Femenino       No    10  "
            ],
            "text/html": [
              "\n",
              "  <div id=\"df-a9ec3b02-2926-40d8-8f46-761125622cd1\" class=\"colab-df-container\">\n",
              "    <div>\n",
              "<style scoped>\n",
              "    .dataframe tbody tr th:only-of-type {\n",
              "        vertical-align: middle;\n",
              "    }\n",
              "\n",
              "    .dataframe tbody tr th {\n",
              "        vertical-align: top;\n",
              "    }\n",
              "\n",
              "    .dataframe thead th {\n",
              "        text-align: right;\n",
              "    }\n",
              "</style>\n",
              "<table border=\"1\" class=\"dataframe\">\n",
              "  <thead>\n",
              "    <tr style=\"text-align: right;\">\n",
              "      <th></th>\n",
              "      <th>ID_compra</th>\n",
              "      <th>ID_cliente</th>\n",
              "      <th>ciudad</th>\n",
              "      <th>estado</th>\n",
              "      <th>region</th>\n",
              "      <th>edad</th>\n",
              "      <th>sexo_biologico</th>\n",
              "      <th>cashback</th>\n",
              "      <th>nota</th>\n",
              "    </tr>\n",
              "  </thead>\n",
              "  <tbody>\n",
              "    <tr>\n",
              "      <th>0</th>\n",
              "      <td>904</td>\n",
              "      <td>8972</td>\n",
              "      <td>Oaxaca de Juárez</td>\n",
              "      <td>Oaxaca</td>\n",
              "      <td>Sur</td>\n",
              "      <td>49</td>\n",
              "      <td>Masculino</td>\n",
              "      <td>No</td>\n",
              "      <td>9</td>\n",
              "    </tr>\n",
              "    <tr>\n",
              "      <th>1</th>\n",
              "      <td>4613</td>\n",
              "      <td>5120</td>\n",
              "      <td>Ciudad de México</td>\n",
              "      <td>Ciudad de México</td>\n",
              "      <td>Centro</td>\n",
              "      <td>49</td>\n",
              "      <td>Femenino</td>\n",
              "      <td>No</td>\n",
              "      <td>9</td>\n",
              "    </tr>\n",
              "    <tr>\n",
              "      <th>2</th>\n",
              "      <td>5579</td>\n",
              "      <td>1847</td>\n",
              "      <td>Ciudad de México</td>\n",
              "      <td>Ciudad de México</td>\n",
              "      <td>Centro</td>\n",
              "      <td>24</td>\n",
              "      <td>Femenino</td>\n",
              "      <td>No</td>\n",
              "      <td>8</td>\n",
              "    </tr>\n",
              "    <tr>\n",
              "      <th>3</th>\n",
              "      <td>2405</td>\n",
              "      <td>2846</td>\n",
              "      <td>Ciudad de México</td>\n",
              "      <td>Ciudad de México</td>\n",
              "      <td>Centro</td>\n",
              "      <td>38</td>\n",
              "      <td>Femenino</td>\n",
              "      <td>Sí</td>\n",
              "      <td>7</td>\n",
              "    </tr>\n",
              "    <tr>\n",
              "      <th>4</th>\n",
              "      <td>2485</td>\n",
              "      <td>2715</td>\n",
              "      <td>Chihuahua</td>\n",
              "      <td>Chihuahua</td>\n",
              "      <td>Noroeste</td>\n",
              "      <td>30</td>\n",
              "      <td>Femenino</td>\n",
              "      <td>No</td>\n",
              "      <td>10</td>\n",
              "    </tr>\n",
              "  </tbody>\n",
              "</table>\n",
              "</div>\n",
              "    <div class=\"colab-df-buttons\">\n",
              "\n",
              "  <div class=\"colab-df-container\">\n",
              "    <button class=\"colab-df-convert\" onclick=\"convertToInteractive('df-a9ec3b02-2926-40d8-8f46-761125622cd1')\"\n",
              "            title=\"Convert this dataframe to an interactive table.\"\n",
              "            style=\"display:none;\">\n",
              "\n",
              "  <svg xmlns=\"http://www.w3.org/2000/svg\" height=\"24px\" viewBox=\"0 -960 960 960\">\n",
              "    <path d=\"M120-120v-720h720v720H120Zm60-500h600v-160H180v160Zm220 220h160v-160H400v160Zm0 220h160v-160H400v160ZM180-400h160v-160H180v160Zm440 0h160v-160H620v160ZM180-180h160v-160H180v160Zm440 0h160v-160H620v160Z\"/>\n",
              "  </svg>\n",
              "    </button>\n",
              "\n",
              "  <style>\n",
              "    .colab-df-container {\n",
              "      display:flex;\n",
              "      gap: 12px;\n",
              "    }\n",
              "\n",
              "    .colab-df-convert {\n",
              "      background-color: #E8F0FE;\n",
              "      border: none;\n",
              "      border-radius: 50%;\n",
              "      cursor: pointer;\n",
              "      display: none;\n",
              "      fill: #1967D2;\n",
              "      height: 32px;\n",
              "      padding: 0 0 0 0;\n",
              "      width: 32px;\n",
              "    }\n",
              "\n",
              "    .colab-df-convert:hover {\n",
              "      background-color: #E2EBFA;\n",
              "      box-shadow: 0px 1px 2px rgba(60, 64, 67, 0.3), 0px 1px 3px 1px rgba(60, 64, 67, 0.15);\n",
              "      fill: #174EA6;\n",
              "    }\n",
              "\n",
              "    .colab-df-buttons div {\n",
              "      margin-bottom: 4px;\n",
              "    }\n",
              "\n",
              "    [theme=dark] .colab-df-convert {\n",
              "      background-color: #3B4455;\n",
              "      fill: #D2E3FC;\n",
              "    }\n",
              "\n",
              "    [theme=dark] .colab-df-convert:hover {\n",
              "      background-color: #434B5C;\n",
              "      box-shadow: 0px 1px 3px 1px rgba(0, 0, 0, 0.15);\n",
              "      filter: drop-shadow(0px 1px 2px rgba(0, 0, 0, 0.3));\n",
              "      fill: #FFFFFF;\n",
              "    }\n",
              "  </style>\n",
              "\n",
              "    <script>\n",
              "      const buttonEl =\n",
              "        document.querySelector('#df-a9ec3b02-2926-40d8-8f46-761125622cd1 button.colab-df-convert');\n",
              "      buttonEl.style.display =\n",
              "        google.colab.kernel.accessAllowed ? 'block' : 'none';\n",
              "\n",
              "      async function convertToInteractive(key) {\n",
              "        const element = document.querySelector('#df-a9ec3b02-2926-40d8-8f46-761125622cd1');\n",
              "        const dataTable =\n",
              "          await google.colab.kernel.invokeFunction('convertToInteractive',\n",
              "                                                    [key], {});\n",
              "        if (!dataTable) return;\n",
              "\n",
              "        const docLinkHtml = 'Like what you see? Visit the ' +\n",
              "          '<a target=\"_blank\" href=https://colab.research.google.com/notebooks/data_table.ipynb>data table notebook</a>'\n",
              "          + ' to learn more about interactive tables.';\n",
              "        element.innerHTML = '';\n",
              "        dataTable['output_type'] = 'display_data';\n",
              "        await google.colab.output.renderOutput(dataTable, element);\n",
              "        const docLink = document.createElement('div');\n",
              "        docLink.innerHTML = docLinkHtml;\n",
              "        element.appendChild(docLink);\n",
              "      }\n",
              "    </script>\n",
              "  </div>\n",
              "\n",
              "\n",
              "    <div id=\"df-e9e4d07b-dde2-49ab-9b32-879e5ba77ce4\">\n",
              "      <button class=\"colab-df-quickchart\" onclick=\"quickchart('df-e9e4d07b-dde2-49ab-9b32-879e5ba77ce4')\"\n",
              "                title=\"Suggest charts\"\n",
              "                style=\"display:none;\">\n",
              "\n",
              "<svg xmlns=\"http://www.w3.org/2000/svg\" height=\"24px\"viewBox=\"0 0 24 24\"\n",
              "     width=\"24px\">\n",
              "    <g>\n",
              "        <path d=\"M19 3H5c-1.1 0-2 .9-2 2v14c0 1.1.9 2 2 2h14c1.1 0 2-.9 2-2V5c0-1.1-.9-2-2-2zM9 17H7v-7h2v7zm4 0h-2V7h2v10zm4 0h-2v-4h2v4z\"/>\n",
              "    </g>\n",
              "</svg>\n",
              "      </button>\n",
              "\n",
              "<style>\n",
              "  .colab-df-quickchart {\n",
              "      --bg-color: #E8F0FE;\n",
              "      --fill-color: #1967D2;\n",
              "      --hover-bg-color: #E2EBFA;\n",
              "      --hover-fill-color: #174EA6;\n",
              "      --disabled-fill-color: #AAA;\n",
              "      --disabled-bg-color: #DDD;\n",
              "  }\n",
              "\n",
              "  [theme=dark] .colab-df-quickchart {\n",
              "      --bg-color: #3B4455;\n",
              "      --fill-color: #D2E3FC;\n",
              "      --hover-bg-color: #434B5C;\n",
              "      --hover-fill-color: #FFFFFF;\n",
              "      --disabled-bg-color: #3B4455;\n",
              "      --disabled-fill-color: #666;\n",
              "  }\n",
              "\n",
              "  .colab-df-quickchart {\n",
              "    background-color: var(--bg-color);\n",
              "    border: none;\n",
              "    border-radius: 50%;\n",
              "    cursor: pointer;\n",
              "    display: none;\n",
              "    fill: var(--fill-color);\n",
              "    height: 32px;\n",
              "    padding: 0;\n",
              "    width: 32px;\n",
              "  }\n",
              "\n",
              "  .colab-df-quickchart:hover {\n",
              "    background-color: var(--hover-bg-color);\n",
              "    box-shadow: 0 1px 2px rgba(60, 64, 67, 0.3), 0 1px 3px 1px rgba(60, 64, 67, 0.15);\n",
              "    fill: var(--button-hover-fill-color);\n",
              "  }\n",
              "\n",
              "  .colab-df-quickchart-complete:disabled,\n",
              "  .colab-df-quickchart-complete:disabled:hover {\n",
              "    background-color: var(--disabled-bg-color);\n",
              "    fill: var(--disabled-fill-color);\n",
              "    box-shadow: none;\n",
              "  }\n",
              "\n",
              "  .colab-df-spinner {\n",
              "    border: 2px solid var(--fill-color);\n",
              "    border-color: transparent;\n",
              "    border-bottom-color: var(--fill-color);\n",
              "    animation:\n",
              "      spin 1s steps(1) infinite;\n",
              "  }\n",
              "\n",
              "  @keyframes spin {\n",
              "    0% {\n",
              "      border-color: transparent;\n",
              "      border-bottom-color: var(--fill-color);\n",
              "      border-left-color: var(--fill-color);\n",
              "    }\n",
              "    20% {\n",
              "      border-color: transparent;\n",
              "      border-left-color: var(--fill-color);\n",
              "      border-top-color: var(--fill-color);\n",
              "    }\n",
              "    30% {\n",
              "      border-color: transparent;\n",
              "      border-left-color: var(--fill-color);\n",
              "      border-top-color: var(--fill-color);\n",
              "      border-right-color: var(--fill-color);\n",
              "    }\n",
              "    40% {\n",
              "      border-color: transparent;\n",
              "      border-right-color: var(--fill-color);\n",
              "      border-top-color: var(--fill-color);\n",
              "    }\n",
              "    60% {\n",
              "      border-color: transparent;\n",
              "      border-right-color: var(--fill-color);\n",
              "    }\n",
              "    80% {\n",
              "      border-color: transparent;\n",
              "      border-right-color: var(--fill-color);\n",
              "      border-bottom-color: var(--fill-color);\n",
              "    }\n",
              "    90% {\n",
              "      border-color: transparent;\n",
              "      border-bottom-color: var(--fill-color);\n",
              "    }\n",
              "  }\n",
              "</style>\n",
              "\n",
              "      <script>\n",
              "        async function quickchart(key) {\n",
              "          const quickchartButtonEl =\n",
              "            document.querySelector('#' + key + ' button');\n",
              "          quickchartButtonEl.disabled = true;  // To prevent multiple clicks.\n",
              "          quickchartButtonEl.classList.add('colab-df-spinner');\n",
              "          try {\n",
              "            const charts = await google.colab.kernel.invokeFunction(\n",
              "                'suggestCharts', [key], {});\n",
              "          } catch (error) {\n",
              "            console.error('Error during call to suggestCharts:', error);\n",
              "          }\n",
              "          quickchartButtonEl.classList.remove('colab-df-spinner');\n",
              "          quickchartButtonEl.classList.add('colab-df-quickchart-complete');\n",
              "        }\n",
              "        (() => {\n",
              "          let quickchartButtonEl =\n",
              "            document.querySelector('#df-e9e4d07b-dde2-49ab-9b32-879e5ba77ce4 button');\n",
              "          quickchartButtonEl.style.display =\n",
              "            google.colab.kernel.accessAllowed ? 'block' : 'none';\n",
              "        })();\n",
              "      </script>\n",
              "    </div>\n",
              "\n",
              "    </div>\n",
              "  </div>\n"
            ],
            "application/vnd.google.colaboratory.intrinsic+json": {
              "type": "dataframe",
              "variable_name": "clientes",
              "summary": "{\n  \"name\": \"clientes\",\n  \"rows\": 6169,\n  \"fields\": [\n    {\n      \"column\": \"ID_compra\",\n      \"properties\": {\n        \"dtype\": \"number\",\n        \"std\": 1780,\n        \"min\": 1,\n        \"max\": 6169,\n        \"num_unique_values\": 6169,\n        \"samples\": [\n          1418,\n          5069,\n          64\n        ],\n        \"semantic_type\": \"\",\n        \"description\": \"\"\n      }\n    },\n    {\n      \"column\": \"ID_cliente\",\n      \"properties\": {\n        \"dtype\": \"number\",\n        \"std\": 2610,\n        \"min\": 1005,\n        \"max\": 9999,\n        \"num_unique_values\": 4453,\n        \"samples\": [\n          5545,\n          1982,\n          6905\n        ],\n        \"semantic_type\": \"\",\n        \"description\": \"\"\n      }\n    },\n    {\n      \"column\": \"ciudad\",\n      \"properties\": {\n        \"dtype\": \"category\",\n        \"num_unique_values\": 94,\n        \"samples\": [\n          \"Tizimin\",\n          \"Tuxtla Guti\\u00e9rrez\",\n          \"Coacalco de Berrioz\\u00e1bal\"\n        ],\n        \"semantic_type\": \"\",\n        \"description\": \"\"\n      }\n    },\n    {\n      \"column\": \"estado\",\n      \"properties\": {\n        \"dtype\": \"category\",\n        \"num_unique_values\": 28,\n        \"samples\": [\n          \"Veracruz\",\n          \"Campeche\",\n          \"Estado de M\\u00e9xico\"\n        ],\n        \"semantic_type\": \"\",\n        \"description\": \"\"\n      }\n    },\n    {\n      \"column\": \"region\",\n      \"properties\": {\n        \"dtype\": \"category\",\n        \"num_unique_values\": 9,\n        \"samples\": [\n          \"Centro-Norte\",\n          \"Centro\",\n          \"Centro-Sur\"\n        ],\n        \"semantic_type\": \"\",\n        \"description\": \"\"\n      }\n    },\n    {\n      \"column\": \"edad\",\n      \"properties\": {\n        \"dtype\": \"number\",\n        \"std\": 9,\n        \"min\": 18,\n        \"max\": 70,\n        \"num_unique_values\": 53,\n        \"samples\": [\n          45,\n          57,\n          66\n        ],\n        \"semantic_type\": \"\",\n        \"description\": \"\"\n      }\n    },\n    {\n      \"column\": \"sexo_biologico\",\n      \"properties\": {\n        \"dtype\": \"category\",\n        \"num_unique_values\": 2,\n        \"samples\": [\n          \"Femenino\",\n          \"Masculino\"\n        ],\n        \"semantic_type\": \"\",\n        \"description\": \"\"\n      }\n    },\n    {\n      \"column\": \"cashback\",\n      \"properties\": {\n        \"dtype\": \"category\",\n        \"num_unique_values\": 2,\n        \"samples\": [\n          \"S\\u00ed\",\n          \"No\"\n        ],\n        \"semantic_type\": \"\",\n        \"description\": \"\"\n      }\n    },\n    {\n      \"column\": \"nota\",\n      \"properties\": {\n        \"dtype\": \"number\",\n        \"std\": 1,\n        \"min\": 0,\n        \"max\": 10,\n        \"num_unique_values\": 11,\n        \"samples\": [\n          4,\n          9\n        ],\n        \"semantic_type\": \"\",\n        \"description\": \"\"\n      }\n    }\n  ]\n}"
            }
          },
          "metadata": {},
          "execution_count": 43
        }
      ]
    },
    {
      "cell_type": "code",
      "source": [
        "# 2. Muestra la cantidad de filas y columnas en el DataFrame (dimensiones de los datos)\n",
        "clientes.shape"
      ],
      "metadata": {
        "id": "tTkM8H4t-qxj",
        "colab": {
          "base_uri": "https://localhost:8080/"
        },
        "outputId": "e1a9199c-c4c8-47f5-a9bc-ea89cc1c9839"
      },
      "execution_count": null,
      "outputs": [
        {
          "output_type": "execute_result",
          "data": {
            "text/plain": [
              "(6169, 9)"
            ]
          },
          "metadata": {},
          "execution_count": 44
        }
      ]
    },
    {
      "cell_type": "code",
      "source": [
        "# 3. Presenta información general del DataFrame: nombres de columnas, tipo de datos y cantidad de valores no nulos\n",
        "clientes.info()"
      ],
      "metadata": {
        "id": "aEL-RHLK-q9C",
        "colab": {
          "base_uri": "https://localhost:8080/"
        },
        "outputId": "358cf0f3-629d-46e5-b84d-b9c8463fccc2"
      },
      "execution_count": null,
      "outputs": [
        {
          "output_type": "stream",
          "name": "stdout",
          "text": [
            "<class 'pandas.core.frame.DataFrame'>\n",
            "RangeIndex: 6169 entries, 0 to 6168\n",
            "Data columns (total 9 columns):\n",
            " #   Column          Non-Null Count  Dtype \n",
            "---  ------          --------------  ----- \n",
            " 0   ID_compra       6169 non-null   int64 \n",
            " 1   ID_cliente      6169 non-null   int64 \n",
            " 2   ciudad          6169 non-null   object\n",
            " 3   estado          6169 non-null   object\n",
            " 4   region          6169 non-null   object\n",
            " 5   edad            6169 non-null   int64 \n",
            " 6   sexo_biologico  6169 non-null   object\n",
            " 7   cashback        6169 non-null   object\n",
            " 8   nota            6169 non-null   int64 \n",
            "dtypes: int64(4), object(5)\n",
            "memory usage: 433.9+ KB\n"
          ]
        }
      ]
    },
    {
      "cell_type": "code",
      "source": [
        "# 4. Muestra estadísticas descriptivas de las columnas numéricas (como edad y calificación)\n",
        "clientes.describe()"
      ],
      "metadata": {
        "colab": {
          "base_uri": "https://localhost:8080/",
          "height": 300
        },
        "id": "T4kg5lz8TG9c",
        "outputId": "12e38295-fd59-4e0f-be8e-ffc44bd0bf96"
      },
      "execution_count": null,
      "outputs": [
        {
          "output_type": "execute_result",
          "data": {
            "text/plain": [
              "         ID_compra   ID_cliente         edad         nota\n",
              "count  6169.000000  6169.000000  6169.000000  6169.000000\n",
              "mean   3085.000000  5461.475280    38.260010     8.443670\n",
              "std    1780.981237  2610.959977     9.838951     1.730584\n",
              "min       1.000000  1005.000000    18.000000     0.000000\n",
              "25%    1543.000000  3148.000000    31.000000     8.000000\n",
              "50%    3085.000000  5436.000000    38.000000     9.000000\n",
              "75%    4627.000000  7748.000000    45.000000     9.000000\n",
              "max    6169.000000  9999.000000    70.000000    10.000000"
            ],
            "text/html": [
              "\n",
              "  <div id=\"df-6a82cb7a-53f1-4f23-b9c1-1e03afa64b6d\" class=\"colab-df-container\">\n",
              "    <div>\n",
              "<style scoped>\n",
              "    .dataframe tbody tr th:only-of-type {\n",
              "        vertical-align: middle;\n",
              "    }\n",
              "\n",
              "    .dataframe tbody tr th {\n",
              "        vertical-align: top;\n",
              "    }\n",
              "\n",
              "    .dataframe thead th {\n",
              "        text-align: right;\n",
              "    }\n",
              "</style>\n",
              "<table border=\"1\" class=\"dataframe\">\n",
              "  <thead>\n",
              "    <tr style=\"text-align: right;\">\n",
              "      <th></th>\n",
              "      <th>ID_compra</th>\n",
              "      <th>ID_cliente</th>\n",
              "      <th>edad</th>\n",
              "      <th>nota</th>\n",
              "    </tr>\n",
              "  </thead>\n",
              "  <tbody>\n",
              "    <tr>\n",
              "      <th>count</th>\n",
              "      <td>6169.000000</td>\n",
              "      <td>6169.000000</td>\n",
              "      <td>6169.000000</td>\n",
              "      <td>6169.000000</td>\n",
              "    </tr>\n",
              "    <tr>\n",
              "      <th>mean</th>\n",
              "      <td>3085.000000</td>\n",
              "      <td>5461.475280</td>\n",
              "      <td>38.260010</td>\n",
              "      <td>8.443670</td>\n",
              "    </tr>\n",
              "    <tr>\n",
              "      <th>std</th>\n",
              "      <td>1780.981237</td>\n",
              "      <td>2610.959977</td>\n",
              "      <td>9.838951</td>\n",
              "      <td>1.730584</td>\n",
              "    </tr>\n",
              "    <tr>\n",
              "      <th>min</th>\n",
              "      <td>1.000000</td>\n",
              "      <td>1005.000000</td>\n",
              "      <td>18.000000</td>\n",
              "      <td>0.000000</td>\n",
              "    </tr>\n",
              "    <tr>\n",
              "      <th>25%</th>\n",
              "      <td>1543.000000</td>\n",
              "      <td>3148.000000</td>\n",
              "      <td>31.000000</td>\n",
              "      <td>8.000000</td>\n",
              "    </tr>\n",
              "    <tr>\n",
              "      <th>50%</th>\n",
              "      <td>3085.000000</td>\n",
              "      <td>5436.000000</td>\n",
              "      <td>38.000000</td>\n",
              "      <td>9.000000</td>\n",
              "    </tr>\n",
              "    <tr>\n",
              "      <th>75%</th>\n",
              "      <td>4627.000000</td>\n",
              "      <td>7748.000000</td>\n",
              "      <td>45.000000</td>\n",
              "      <td>9.000000</td>\n",
              "    </tr>\n",
              "    <tr>\n",
              "      <th>max</th>\n",
              "      <td>6169.000000</td>\n",
              "      <td>9999.000000</td>\n",
              "      <td>70.000000</td>\n",
              "      <td>10.000000</td>\n",
              "    </tr>\n",
              "  </tbody>\n",
              "</table>\n",
              "</div>\n",
              "    <div class=\"colab-df-buttons\">\n",
              "\n",
              "  <div class=\"colab-df-container\">\n",
              "    <button class=\"colab-df-convert\" onclick=\"convertToInteractive('df-6a82cb7a-53f1-4f23-b9c1-1e03afa64b6d')\"\n",
              "            title=\"Convert this dataframe to an interactive table.\"\n",
              "            style=\"display:none;\">\n",
              "\n",
              "  <svg xmlns=\"http://www.w3.org/2000/svg\" height=\"24px\" viewBox=\"0 -960 960 960\">\n",
              "    <path d=\"M120-120v-720h720v720H120Zm60-500h600v-160H180v160Zm220 220h160v-160H400v160Zm0 220h160v-160H400v160ZM180-400h160v-160H180v160Zm440 0h160v-160H620v160ZM180-180h160v-160H180v160Zm440 0h160v-160H620v160Z\"/>\n",
              "  </svg>\n",
              "    </button>\n",
              "\n",
              "  <style>\n",
              "    .colab-df-container {\n",
              "      display:flex;\n",
              "      gap: 12px;\n",
              "    }\n",
              "\n",
              "    .colab-df-convert {\n",
              "      background-color: #E8F0FE;\n",
              "      border: none;\n",
              "      border-radius: 50%;\n",
              "      cursor: pointer;\n",
              "      display: none;\n",
              "      fill: #1967D2;\n",
              "      height: 32px;\n",
              "      padding: 0 0 0 0;\n",
              "      width: 32px;\n",
              "    }\n",
              "\n",
              "    .colab-df-convert:hover {\n",
              "      background-color: #E2EBFA;\n",
              "      box-shadow: 0px 1px 2px rgba(60, 64, 67, 0.3), 0px 1px 3px 1px rgba(60, 64, 67, 0.15);\n",
              "      fill: #174EA6;\n",
              "    }\n",
              "\n",
              "    .colab-df-buttons div {\n",
              "      margin-bottom: 4px;\n",
              "    }\n",
              "\n",
              "    [theme=dark] .colab-df-convert {\n",
              "      background-color: #3B4455;\n",
              "      fill: #D2E3FC;\n",
              "    }\n",
              "\n",
              "    [theme=dark] .colab-df-convert:hover {\n",
              "      background-color: #434B5C;\n",
              "      box-shadow: 0px 1px 3px 1px rgba(0, 0, 0, 0.15);\n",
              "      filter: drop-shadow(0px 1px 2px rgba(0, 0, 0, 0.3));\n",
              "      fill: #FFFFFF;\n",
              "    }\n",
              "  </style>\n",
              "\n",
              "    <script>\n",
              "      const buttonEl =\n",
              "        document.querySelector('#df-6a82cb7a-53f1-4f23-b9c1-1e03afa64b6d button.colab-df-convert');\n",
              "      buttonEl.style.display =\n",
              "        google.colab.kernel.accessAllowed ? 'block' : 'none';\n",
              "\n",
              "      async function convertToInteractive(key) {\n",
              "        const element = document.querySelector('#df-6a82cb7a-53f1-4f23-b9c1-1e03afa64b6d');\n",
              "        const dataTable =\n",
              "          await google.colab.kernel.invokeFunction('convertToInteractive',\n",
              "                                                    [key], {});\n",
              "        if (!dataTable) return;\n",
              "\n",
              "        const docLinkHtml = 'Like what you see? Visit the ' +\n",
              "          '<a target=\"_blank\" href=https://colab.research.google.com/notebooks/data_table.ipynb>data table notebook</a>'\n",
              "          + ' to learn more about interactive tables.';\n",
              "        element.innerHTML = '';\n",
              "        dataTable['output_type'] = 'display_data';\n",
              "        await google.colab.output.renderOutput(dataTable, element);\n",
              "        const docLink = document.createElement('div');\n",
              "        docLink.innerHTML = docLinkHtml;\n",
              "        element.appendChild(docLink);\n",
              "      }\n",
              "    </script>\n",
              "  </div>\n",
              "\n",
              "\n",
              "    <div id=\"df-be3fdd31-def2-4ce4-9eb3-0ab546614167\">\n",
              "      <button class=\"colab-df-quickchart\" onclick=\"quickchart('df-be3fdd31-def2-4ce4-9eb3-0ab546614167')\"\n",
              "                title=\"Suggest charts\"\n",
              "                style=\"display:none;\">\n",
              "\n",
              "<svg xmlns=\"http://www.w3.org/2000/svg\" height=\"24px\"viewBox=\"0 0 24 24\"\n",
              "     width=\"24px\">\n",
              "    <g>\n",
              "        <path d=\"M19 3H5c-1.1 0-2 .9-2 2v14c0 1.1.9 2 2 2h14c1.1 0 2-.9 2-2V5c0-1.1-.9-2-2-2zM9 17H7v-7h2v7zm4 0h-2V7h2v10zm4 0h-2v-4h2v4z\"/>\n",
              "    </g>\n",
              "</svg>\n",
              "      </button>\n",
              "\n",
              "<style>\n",
              "  .colab-df-quickchart {\n",
              "      --bg-color: #E8F0FE;\n",
              "      --fill-color: #1967D2;\n",
              "      --hover-bg-color: #E2EBFA;\n",
              "      --hover-fill-color: #174EA6;\n",
              "      --disabled-fill-color: #AAA;\n",
              "      --disabled-bg-color: #DDD;\n",
              "  }\n",
              "\n",
              "  [theme=dark] .colab-df-quickchart {\n",
              "      --bg-color: #3B4455;\n",
              "      --fill-color: #D2E3FC;\n",
              "      --hover-bg-color: #434B5C;\n",
              "      --hover-fill-color: #FFFFFF;\n",
              "      --disabled-bg-color: #3B4455;\n",
              "      --disabled-fill-color: #666;\n",
              "  }\n",
              "\n",
              "  .colab-df-quickchart {\n",
              "    background-color: var(--bg-color);\n",
              "    border: none;\n",
              "    border-radius: 50%;\n",
              "    cursor: pointer;\n",
              "    display: none;\n",
              "    fill: var(--fill-color);\n",
              "    height: 32px;\n",
              "    padding: 0;\n",
              "    width: 32px;\n",
              "  }\n",
              "\n",
              "  .colab-df-quickchart:hover {\n",
              "    background-color: var(--hover-bg-color);\n",
              "    box-shadow: 0 1px 2px rgba(60, 64, 67, 0.3), 0 1px 3px 1px rgba(60, 64, 67, 0.15);\n",
              "    fill: var(--button-hover-fill-color);\n",
              "  }\n",
              "\n",
              "  .colab-df-quickchart-complete:disabled,\n",
              "  .colab-df-quickchart-complete:disabled:hover {\n",
              "    background-color: var(--disabled-bg-color);\n",
              "    fill: var(--disabled-fill-color);\n",
              "    box-shadow: none;\n",
              "  }\n",
              "\n",
              "  .colab-df-spinner {\n",
              "    border: 2px solid var(--fill-color);\n",
              "    border-color: transparent;\n",
              "    border-bottom-color: var(--fill-color);\n",
              "    animation:\n",
              "      spin 1s steps(1) infinite;\n",
              "  }\n",
              "\n",
              "  @keyframes spin {\n",
              "    0% {\n",
              "      border-color: transparent;\n",
              "      border-bottom-color: var(--fill-color);\n",
              "      border-left-color: var(--fill-color);\n",
              "    }\n",
              "    20% {\n",
              "      border-color: transparent;\n",
              "      border-left-color: var(--fill-color);\n",
              "      border-top-color: var(--fill-color);\n",
              "    }\n",
              "    30% {\n",
              "      border-color: transparent;\n",
              "      border-left-color: var(--fill-color);\n",
              "      border-top-color: var(--fill-color);\n",
              "      border-right-color: var(--fill-color);\n",
              "    }\n",
              "    40% {\n",
              "      border-color: transparent;\n",
              "      border-right-color: var(--fill-color);\n",
              "      border-top-color: var(--fill-color);\n",
              "    }\n",
              "    60% {\n",
              "      border-color: transparent;\n",
              "      border-right-color: var(--fill-color);\n",
              "    }\n",
              "    80% {\n",
              "      border-color: transparent;\n",
              "      border-right-color: var(--fill-color);\n",
              "      border-bottom-color: var(--fill-color);\n",
              "    }\n",
              "    90% {\n",
              "      border-color: transparent;\n",
              "      border-bottom-color: var(--fill-color);\n",
              "    }\n",
              "  }\n",
              "</style>\n",
              "\n",
              "      <script>\n",
              "        async function quickchart(key) {\n",
              "          const quickchartButtonEl =\n",
              "            document.querySelector('#' + key + ' button');\n",
              "          quickchartButtonEl.disabled = true;  // To prevent multiple clicks.\n",
              "          quickchartButtonEl.classList.add('colab-df-spinner');\n",
              "          try {\n",
              "            const charts = await google.colab.kernel.invokeFunction(\n",
              "                'suggestCharts', [key], {});\n",
              "          } catch (error) {\n",
              "            console.error('Error during call to suggestCharts:', error);\n",
              "          }\n",
              "          quickchartButtonEl.classList.remove('colab-df-spinner');\n",
              "          quickchartButtonEl.classList.add('colab-df-quickchart-complete');\n",
              "        }\n",
              "        (() => {\n",
              "          let quickchartButtonEl =\n",
              "            document.querySelector('#df-be3fdd31-def2-4ce4-9eb3-0ab546614167 button');\n",
              "          quickchartButtonEl.style.display =\n",
              "            google.colab.kernel.accessAllowed ? 'block' : 'none';\n",
              "        })();\n",
              "      </script>\n",
              "    </div>\n",
              "\n",
              "    </div>\n",
              "  </div>\n"
            ],
            "application/vnd.google.colaboratory.intrinsic+json": {
              "type": "dataframe",
              "summary": "{\n  \"name\": \"clientes\",\n  \"rows\": 8,\n  \"fields\": [\n    {\n      \"column\": \"ID_compra\",\n      \"properties\": {\n        \"dtype\": \"number\",\n        \"std\": 2223.0326545909456,\n        \"min\": 1.0,\n        \"max\": 6169.0,\n        \"num_unique_values\": 6,\n        \"samples\": [\n          6169.0,\n          3085.0,\n          4627.0\n        ],\n        \"semantic_type\": \"\",\n        \"description\": \"\"\n      }\n    },\n    {\n      \"column\": \"ID_cliente\",\n      \"properties\": {\n        \"dtype\": \"number\",\n        \"std\": 2905.598657730617,\n        \"min\": 1005.0,\n        \"max\": 9999.0,\n        \"num_unique_values\": 8,\n        \"samples\": [\n          5461.475279623926,\n          5436.0,\n          6169.0\n        ],\n        \"semantic_type\": \"\",\n        \"description\": \"\"\n      }\n    },\n    {\n      \"column\": \"edad\",\n      \"properties\": {\n        \"dtype\": \"number\",\n        \"std\": 2168.514030397997,\n        \"min\": 9.838950760885592,\n        \"max\": 6169.0,\n        \"num_unique_values\": 8,\n        \"samples\": [\n          38.2600097260496,\n          38.0,\n          6169.0\n        ],\n        \"semantic_type\": \"\",\n        \"description\": \"\"\n      }\n    },\n    {\n      \"column\": \"nota\",\n      \"properties\": {\n        \"dtype\": \"number\",\n        \"std\": 2178.74185235415,\n        \"min\": 0.0,\n        \"max\": 6169.0,\n        \"num_unique_values\": 7,\n        \"samples\": [\n          6169.0,\n          8.44366996271681,\n          9.0\n        ],\n        \"semantic_type\": \"\",\n        \"description\": \"\"\n      }\n    }\n  ]\n}"
            }
          },
          "metadata": {},
          "execution_count": 46
        }
      ]
    },
    {
      "cell_type": "code",
      "source": [
        "# 5. Muestra cuántos valores únicos hay en cada columna (útil para entender si son categóricos o continuos)\n",
        "clientes.nunique()"
      ],
      "metadata": {
        "colab": {
          "base_uri": "https://localhost:8080/",
          "height": 366
        },
        "id": "X3Dn5LsuTHR8",
        "outputId": "edbb175a-26cd-465b-8d6c-5434fb15de0a"
      },
      "execution_count": null,
      "outputs": [
        {
          "output_type": "execute_result",
          "data": {
            "text/plain": [
              "ID_compra         6169\n",
              "ID_cliente        4453\n",
              "ciudad              94\n",
              "estado              28\n",
              "region               9\n",
              "edad                53\n",
              "sexo_biologico       2\n",
              "cashback             2\n",
              "nota                11\n",
              "dtype: int64"
            ],
            "text/html": [
              "<div>\n",
              "<style scoped>\n",
              "    .dataframe tbody tr th:only-of-type {\n",
              "        vertical-align: middle;\n",
              "    }\n",
              "\n",
              "    .dataframe tbody tr th {\n",
              "        vertical-align: top;\n",
              "    }\n",
              "\n",
              "    .dataframe thead th {\n",
              "        text-align: right;\n",
              "    }\n",
              "</style>\n",
              "<table border=\"1\" class=\"dataframe\">\n",
              "  <thead>\n",
              "    <tr style=\"text-align: right;\">\n",
              "      <th></th>\n",
              "      <th>0</th>\n",
              "    </tr>\n",
              "  </thead>\n",
              "  <tbody>\n",
              "    <tr>\n",
              "      <th>ID_compra</th>\n",
              "      <td>6169</td>\n",
              "    </tr>\n",
              "    <tr>\n",
              "      <th>ID_cliente</th>\n",
              "      <td>4453</td>\n",
              "    </tr>\n",
              "    <tr>\n",
              "      <th>ciudad</th>\n",
              "      <td>94</td>\n",
              "    </tr>\n",
              "    <tr>\n",
              "      <th>estado</th>\n",
              "      <td>28</td>\n",
              "    </tr>\n",
              "    <tr>\n",
              "      <th>region</th>\n",
              "      <td>9</td>\n",
              "    </tr>\n",
              "    <tr>\n",
              "      <th>edad</th>\n",
              "      <td>53</td>\n",
              "    </tr>\n",
              "    <tr>\n",
              "      <th>sexo_biologico</th>\n",
              "      <td>2</td>\n",
              "    </tr>\n",
              "    <tr>\n",
              "      <th>cashback</th>\n",
              "      <td>2</td>\n",
              "    </tr>\n",
              "    <tr>\n",
              "      <th>nota</th>\n",
              "      <td>11</td>\n",
              "    </tr>\n",
              "  </tbody>\n",
              "</table>\n",
              "</div><br><label><b>dtype:</b> int64</label>"
            ]
          },
          "metadata": {},
          "execution_count": 47
        }
      ]
    },
    {
      "cell_type": "code",
      "source": [
        "# 6. Muestra la cantidad de clientes por sexo biológico (frecuencia de cada categoría)\n",
        "clientes['sexo_biologico'].value_counts()"
      ],
      "metadata": {
        "colab": {
          "base_uri": "https://localhost:8080/",
          "height": 178
        },
        "id": "EL3o8CIITHWd",
        "outputId": "5eb17ae9-58bc-4131-dd12-308299290a02"
      },
      "execution_count": null,
      "outputs": [
        {
          "output_type": "execute_result",
          "data": {
            "text/plain": [
              "sexo_biologico\n",
              "Femenino     3371\n",
              "Masculino    2798\n",
              "Name: count, dtype: int64"
            ],
            "text/html": [
              "<div>\n",
              "<style scoped>\n",
              "    .dataframe tbody tr th:only-of-type {\n",
              "        vertical-align: middle;\n",
              "    }\n",
              "\n",
              "    .dataframe tbody tr th {\n",
              "        vertical-align: top;\n",
              "    }\n",
              "\n",
              "    .dataframe thead th {\n",
              "        text-align: right;\n",
              "    }\n",
              "</style>\n",
              "<table border=\"1\" class=\"dataframe\">\n",
              "  <thead>\n",
              "    <tr style=\"text-align: right;\">\n",
              "      <th></th>\n",
              "      <th>count</th>\n",
              "    </tr>\n",
              "    <tr>\n",
              "      <th>sexo_biologico</th>\n",
              "      <th></th>\n",
              "    </tr>\n",
              "  </thead>\n",
              "  <tbody>\n",
              "    <tr>\n",
              "      <th>Femenino</th>\n",
              "      <td>3371</td>\n",
              "    </tr>\n",
              "    <tr>\n",
              "      <th>Masculino</th>\n",
              "      <td>2798</td>\n",
              "    </tr>\n",
              "  </tbody>\n",
              "</table>\n",
              "</div><br><label><b>dtype:</b> int64</label>"
            ]
          },
          "metadata": {},
          "execution_count": 48
        }
      ]
    },
    {
      "cell_type": "code",
      "source": [
        "# 7. Muestra la cantidad de compras realizadas por región\n",
        "clientes['region'].value_counts()"
      ],
      "metadata": {
        "colab": {
          "base_uri": "https://localhost:8080/",
          "height": 397
        },
        "id": "Q8si0qGtTHaL",
        "outputId": "0af9dd59-da79-4572-bceb-9cbddb2def85"
      },
      "execution_count": null,
      "outputs": [
        {
          "output_type": "execute_result",
          "data": {
            "text/plain": [
              "region\n",
              "Centro          1540\n",
              "Noroeste        1276\n",
              "Noreste          907\n",
              "Occidente        556\n",
              "Centro-Norte     533\n",
              "Golfo            411\n",
              "Centro-Sur       383\n",
              "Sur              284\n",
              "Sureste          279\n",
              "Name: count, dtype: int64"
            ],
            "text/html": [
              "<div>\n",
              "<style scoped>\n",
              "    .dataframe tbody tr th:only-of-type {\n",
              "        vertical-align: middle;\n",
              "    }\n",
              "\n",
              "    .dataframe tbody tr th {\n",
              "        vertical-align: top;\n",
              "    }\n",
              "\n",
              "    .dataframe thead th {\n",
              "        text-align: right;\n",
              "    }\n",
              "</style>\n",
              "<table border=\"1\" class=\"dataframe\">\n",
              "  <thead>\n",
              "    <tr style=\"text-align: right;\">\n",
              "      <th></th>\n",
              "      <th>count</th>\n",
              "    </tr>\n",
              "    <tr>\n",
              "      <th>region</th>\n",
              "      <th></th>\n",
              "    </tr>\n",
              "  </thead>\n",
              "  <tbody>\n",
              "    <tr>\n",
              "      <th>Centro</th>\n",
              "      <td>1540</td>\n",
              "    </tr>\n",
              "    <tr>\n",
              "      <th>Noroeste</th>\n",
              "      <td>1276</td>\n",
              "    </tr>\n",
              "    <tr>\n",
              "      <th>Noreste</th>\n",
              "      <td>907</td>\n",
              "    </tr>\n",
              "    <tr>\n",
              "      <th>Occidente</th>\n",
              "      <td>556</td>\n",
              "    </tr>\n",
              "    <tr>\n",
              "      <th>Centro-Norte</th>\n",
              "      <td>533</td>\n",
              "    </tr>\n",
              "    <tr>\n",
              "      <th>Golfo</th>\n",
              "      <td>411</td>\n",
              "    </tr>\n",
              "    <tr>\n",
              "      <th>Centro-Sur</th>\n",
              "      <td>383</td>\n",
              "    </tr>\n",
              "    <tr>\n",
              "      <th>Sur</th>\n",
              "      <td>284</td>\n",
              "    </tr>\n",
              "    <tr>\n",
              "      <th>Sureste</th>\n",
              "      <td>279</td>\n",
              "    </tr>\n",
              "  </tbody>\n",
              "</table>\n",
              "</div><br><label><b>dtype:</b> int64</label>"
            ]
          },
          "metadata": {},
          "execution_count": 49
        }
      ]
    },
    {
      "cell_type": "code",
      "source": [
        "# 8. Muestra cuántos clientes participan o no en el programa de cashback\n",
        "clientes['cashback'].value_counts()"
      ],
      "metadata": {
        "colab": {
          "base_uri": "https://localhost:8080/",
          "height": 178
        },
        "id": "9_uJQiYfTHdD",
        "outputId": "419c3b86-91a4-485e-8538-fec8028f883b"
      },
      "execution_count": null,
      "outputs": [
        {
          "output_type": "execute_result",
          "data": {
            "text/plain": [
              "cashback\n",
              "No    3557\n",
              "Sí    2612\n",
              "Name: count, dtype: int64"
            ],
            "text/html": [
              "<div>\n",
              "<style scoped>\n",
              "    .dataframe tbody tr th:only-of-type {\n",
              "        vertical-align: middle;\n",
              "    }\n",
              "\n",
              "    .dataframe tbody tr th {\n",
              "        vertical-align: top;\n",
              "    }\n",
              "\n",
              "    .dataframe thead th {\n",
              "        text-align: right;\n",
              "    }\n",
              "</style>\n",
              "<table border=\"1\" class=\"dataframe\">\n",
              "  <thead>\n",
              "    <tr style=\"text-align: right;\">\n",
              "      <th></th>\n",
              "      <th>count</th>\n",
              "    </tr>\n",
              "    <tr>\n",
              "      <th>cashback</th>\n",
              "      <th></th>\n",
              "    </tr>\n",
              "  </thead>\n",
              "  <tbody>\n",
              "    <tr>\n",
              "      <th>No</th>\n",
              "      <td>3557</td>\n",
              "    </tr>\n",
              "    <tr>\n",
              "      <th>Sí</th>\n",
              "      <td>2612</td>\n",
              "    </tr>\n",
              "  </tbody>\n",
              "</table>\n",
              "</div><br><label><b>dtype:</b> int64</label>"
            ]
          },
          "metadata": {},
          "execution_count": 50
        }
      ]
    },
    {
      "cell_type": "code",
      "source": [
        "# 9. Muestra la distribución de las calificaciones otorgadas por los clientes, ordenadas por nota\n",
        "clientes['nota'].value_counts().sort_index()"
      ],
      "metadata": {
        "colab": {
          "base_uri": "https://localhost:8080/",
          "height": 460
        },
        "id": "0uPbU_PlTRPM",
        "outputId": "cb5c3e52-cfcd-46a7-f7f2-2fabad8515b9"
      },
      "execution_count": null,
      "outputs": [
        {
          "output_type": "execute_result",
          "data": {
            "text/plain": [
              "nota\n",
              "0       32\n",
              "1       33\n",
              "2       58\n",
              "3       60\n",
              "4      113\n",
              "5       90\n",
              "6      135\n",
              "7      689\n",
              "8      923\n",
              "9     2519\n",
              "10    1517\n",
              "Name: count, dtype: int64"
            ],
            "text/html": [
              "<div>\n",
              "<style scoped>\n",
              "    .dataframe tbody tr th:only-of-type {\n",
              "        vertical-align: middle;\n",
              "    }\n",
              "\n",
              "    .dataframe tbody tr th {\n",
              "        vertical-align: top;\n",
              "    }\n",
              "\n",
              "    .dataframe thead th {\n",
              "        text-align: right;\n",
              "    }\n",
              "</style>\n",
              "<table border=\"1\" class=\"dataframe\">\n",
              "  <thead>\n",
              "    <tr style=\"text-align: right;\">\n",
              "      <th></th>\n",
              "      <th>count</th>\n",
              "    </tr>\n",
              "    <tr>\n",
              "      <th>nota</th>\n",
              "      <th></th>\n",
              "    </tr>\n",
              "  </thead>\n",
              "  <tbody>\n",
              "    <tr>\n",
              "      <th>0</th>\n",
              "      <td>32</td>\n",
              "    </tr>\n",
              "    <tr>\n",
              "      <th>1</th>\n",
              "      <td>33</td>\n",
              "    </tr>\n",
              "    <tr>\n",
              "      <th>2</th>\n",
              "      <td>58</td>\n",
              "    </tr>\n",
              "    <tr>\n",
              "      <th>3</th>\n",
              "      <td>60</td>\n",
              "    </tr>\n",
              "    <tr>\n",
              "      <th>4</th>\n",
              "      <td>113</td>\n",
              "    </tr>\n",
              "    <tr>\n",
              "      <th>5</th>\n",
              "      <td>90</td>\n",
              "    </tr>\n",
              "    <tr>\n",
              "      <th>6</th>\n",
              "      <td>135</td>\n",
              "    </tr>\n",
              "    <tr>\n",
              "      <th>7</th>\n",
              "      <td>689</td>\n",
              "    </tr>\n",
              "    <tr>\n",
              "      <th>8</th>\n",
              "      <td>923</td>\n",
              "    </tr>\n",
              "    <tr>\n",
              "      <th>9</th>\n",
              "      <td>2519</td>\n",
              "    </tr>\n",
              "    <tr>\n",
              "      <th>10</th>\n",
              "      <td>1517</td>\n",
              "    </tr>\n",
              "  </tbody>\n",
              "</table>\n",
              "</div><br><label><b>dtype:</b> int64</label>"
            ]
          },
          "metadata": {},
          "execution_count": 51
        }
      ]
    },
    {
      "cell_type": "code",
      "source": [
        "# 10. Muestra el rango de edad de los clientes (edad mínima y máxima)\n",
        "clientes['edad'].min(), clientes['edad'].max()"
      ],
      "metadata": {
        "colab": {
          "base_uri": "https://localhost:8080/"
        },
        "id": "tdclLSTTTTRM",
        "outputId": "6bf5a219-00d1-45eb-a89f-e6c4d8e0a8af"
      },
      "execution_count": null,
      "outputs": [
        {
          "output_type": "execute_result",
          "data": {
            "text/plain": [
              "(18, 70)"
            ]
          },
          "metadata": {},
          "execution_count": 52
        }
      ]
    },
    {
      "cell_type": "code",
      "source": [
        "# 11. Muestra la matriz de correlación entre variables numéricas (edad y calificación, por ejemplo)\n",
        "clientes.corr(numeric_only=True)"
      ],
      "metadata": {
        "colab": {
          "base_uri": "https://localhost:8080/",
          "height": 174
        },
        "id": "8KtZde0tTVK2",
        "outputId": "f86507a1-c1a7-45d9-d32c-523b5cebee23"
      },
      "execution_count": null,
      "outputs": [
        {
          "output_type": "execute_result",
          "data": {
            "text/plain": [
              "            ID_compra  ID_cliente      edad      nota\n",
              "ID_compra    1.000000   -0.007415 -0.019119  0.028522\n",
              "ID_cliente  -0.007415    1.000000  0.012190 -0.000183\n",
              "edad        -0.019119    0.012190  1.000000  0.012743\n",
              "nota         0.028522   -0.000183  0.012743  1.000000"
            ],
            "text/html": [
              "\n",
              "  <div id=\"df-c181a5bb-5c2b-4a97-8087-7364d47844f1\" class=\"colab-df-container\">\n",
              "    <div>\n",
              "<style scoped>\n",
              "    .dataframe tbody tr th:only-of-type {\n",
              "        vertical-align: middle;\n",
              "    }\n",
              "\n",
              "    .dataframe tbody tr th {\n",
              "        vertical-align: top;\n",
              "    }\n",
              "\n",
              "    .dataframe thead th {\n",
              "        text-align: right;\n",
              "    }\n",
              "</style>\n",
              "<table border=\"1\" class=\"dataframe\">\n",
              "  <thead>\n",
              "    <tr style=\"text-align: right;\">\n",
              "      <th></th>\n",
              "      <th>ID_compra</th>\n",
              "      <th>ID_cliente</th>\n",
              "      <th>edad</th>\n",
              "      <th>nota</th>\n",
              "    </tr>\n",
              "  </thead>\n",
              "  <tbody>\n",
              "    <tr>\n",
              "      <th>ID_compra</th>\n",
              "      <td>1.000000</td>\n",
              "      <td>-0.007415</td>\n",
              "      <td>-0.019119</td>\n",
              "      <td>0.028522</td>\n",
              "    </tr>\n",
              "    <tr>\n",
              "      <th>ID_cliente</th>\n",
              "      <td>-0.007415</td>\n",
              "      <td>1.000000</td>\n",
              "      <td>0.012190</td>\n",
              "      <td>-0.000183</td>\n",
              "    </tr>\n",
              "    <tr>\n",
              "      <th>edad</th>\n",
              "      <td>-0.019119</td>\n",
              "      <td>0.012190</td>\n",
              "      <td>1.000000</td>\n",
              "      <td>0.012743</td>\n",
              "    </tr>\n",
              "    <tr>\n",
              "      <th>nota</th>\n",
              "      <td>0.028522</td>\n",
              "      <td>-0.000183</td>\n",
              "      <td>0.012743</td>\n",
              "      <td>1.000000</td>\n",
              "    </tr>\n",
              "  </tbody>\n",
              "</table>\n",
              "</div>\n",
              "    <div class=\"colab-df-buttons\">\n",
              "\n",
              "  <div class=\"colab-df-container\">\n",
              "    <button class=\"colab-df-convert\" onclick=\"convertToInteractive('df-c181a5bb-5c2b-4a97-8087-7364d47844f1')\"\n",
              "            title=\"Convert this dataframe to an interactive table.\"\n",
              "            style=\"display:none;\">\n",
              "\n",
              "  <svg xmlns=\"http://www.w3.org/2000/svg\" height=\"24px\" viewBox=\"0 -960 960 960\">\n",
              "    <path d=\"M120-120v-720h720v720H120Zm60-500h600v-160H180v160Zm220 220h160v-160H400v160Zm0 220h160v-160H400v160ZM180-400h160v-160H180v160Zm440 0h160v-160H620v160ZM180-180h160v-160H180v160Zm440 0h160v-160H620v160Z\"/>\n",
              "  </svg>\n",
              "    </button>\n",
              "\n",
              "  <style>\n",
              "    .colab-df-container {\n",
              "      display:flex;\n",
              "      gap: 12px;\n",
              "    }\n",
              "\n",
              "    .colab-df-convert {\n",
              "      background-color: #E8F0FE;\n",
              "      border: none;\n",
              "      border-radius: 50%;\n",
              "      cursor: pointer;\n",
              "      display: none;\n",
              "      fill: #1967D2;\n",
              "      height: 32px;\n",
              "      padding: 0 0 0 0;\n",
              "      width: 32px;\n",
              "    }\n",
              "\n",
              "    .colab-df-convert:hover {\n",
              "      background-color: #E2EBFA;\n",
              "      box-shadow: 0px 1px 2px rgba(60, 64, 67, 0.3), 0px 1px 3px 1px rgba(60, 64, 67, 0.15);\n",
              "      fill: #174EA6;\n",
              "    }\n",
              "\n",
              "    .colab-df-buttons div {\n",
              "      margin-bottom: 4px;\n",
              "    }\n",
              "\n",
              "    [theme=dark] .colab-df-convert {\n",
              "      background-color: #3B4455;\n",
              "      fill: #D2E3FC;\n",
              "    }\n",
              "\n",
              "    [theme=dark] .colab-df-convert:hover {\n",
              "      background-color: #434B5C;\n",
              "      box-shadow: 0px 1px 3px 1px rgba(0, 0, 0, 0.15);\n",
              "      filter: drop-shadow(0px 1px 2px rgba(0, 0, 0, 0.3));\n",
              "      fill: #FFFFFF;\n",
              "    }\n",
              "  </style>\n",
              "\n",
              "    <script>\n",
              "      const buttonEl =\n",
              "        document.querySelector('#df-c181a5bb-5c2b-4a97-8087-7364d47844f1 button.colab-df-convert');\n",
              "      buttonEl.style.display =\n",
              "        google.colab.kernel.accessAllowed ? 'block' : 'none';\n",
              "\n",
              "      async function convertToInteractive(key) {\n",
              "        const element = document.querySelector('#df-c181a5bb-5c2b-4a97-8087-7364d47844f1');\n",
              "        const dataTable =\n",
              "          await google.colab.kernel.invokeFunction('convertToInteractive',\n",
              "                                                    [key], {});\n",
              "        if (!dataTable) return;\n",
              "\n",
              "        const docLinkHtml = 'Like what you see? Visit the ' +\n",
              "          '<a target=\"_blank\" href=https://colab.research.google.com/notebooks/data_table.ipynb>data table notebook</a>'\n",
              "          + ' to learn more about interactive tables.';\n",
              "        element.innerHTML = '';\n",
              "        dataTable['output_type'] = 'display_data';\n",
              "        await google.colab.output.renderOutput(dataTable, element);\n",
              "        const docLink = document.createElement('div');\n",
              "        docLink.innerHTML = docLinkHtml;\n",
              "        element.appendChild(docLink);\n",
              "      }\n",
              "    </script>\n",
              "  </div>\n",
              "\n",
              "\n",
              "    <div id=\"df-1856db8c-733d-4ee9-9b97-9adc5c43e699\">\n",
              "      <button class=\"colab-df-quickchart\" onclick=\"quickchart('df-1856db8c-733d-4ee9-9b97-9adc5c43e699')\"\n",
              "                title=\"Suggest charts\"\n",
              "                style=\"display:none;\">\n",
              "\n",
              "<svg xmlns=\"http://www.w3.org/2000/svg\" height=\"24px\"viewBox=\"0 0 24 24\"\n",
              "     width=\"24px\">\n",
              "    <g>\n",
              "        <path d=\"M19 3H5c-1.1 0-2 .9-2 2v14c0 1.1.9 2 2 2h14c1.1 0 2-.9 2-2V5c0-1.1-.9-2-2-2zM9 17H7v-7h2v7zm4 0h-2V7h2v10zm4 0h-2v-4h2v4z\"/>\n",
              "    </g>\n",
              "</svg>\n",
              "      </button>\n",
              "\n",
              "<style>\n",
              "  .colab-df-quickchart {\n",
              "      --bg-color: #E8F0FE;\n",
              "      --fill-color: #1967D2;\n",
              "      --hover-bg-color: #E2EBFA;\n",
              "      --hover-fill-color: #174EA6;\n",
              "      --disabled-fill-color: #AAA;\n",
              "      --disabled-bg-color: #DDD;\n",
              "  }\n",
              "\n",
              "  [theme=dark] .colab-df-quickchart {\n",
              "      --bg-color: #3B4455;\n",
              "      --fill-color: #D2E3FC;\n",
              "      --hover-bg-color: #434B5C;\n",
              "      --hover-fill-color: #FFFFFF;\n",
              "      --disabled-bg-color: #3B4455;\n",
              "      --disabled-fill-color: #666;\n",
              "  }\n",
              "\n",
              "  .colab-df-quickchart {\n",
              "    background-color: var(--bg-color);\n",
              "    border: none;\n",
              "    border-radius: 50%;\n",
              "    cursor: pointer;\n",
              "    display: none;\n",
              "    fill: var(--fill-color);\n",
              "    height: 32px;\n",
              "    padding: 0;\n",
              "    width: 32px;\n",
              "  }\n",
              "\n",
              "  .colab-df-quickchart:hover {\n",
              "    background-color: var(--hover-bg-color);\n",
              "    box-shadow: 0 1px 2px rgba(60, 64, 67, 0.3), 0 1px 3px 1px rgba(60, 64, 67, 0.15);\n",
              "    fill: var(--button-hover-fill-color);\n",
              "  }\n",
              "\n",
              "  .colab-df-quickchart-complete:disabled,\n",
              "  .colab-df-quickchart-complete:disabled:hover {\n",
              "    background-color: var(--disabled-bg-color);\n",
              "    fill: var(--disabled-fill-color);\n",
              "    box-shadow: none;\n",
              "  }\n",
              "\n",
              "  .colab-df-spinner {\n",
              "    border: 2px solid var(--fill-color);\n",
              "    border-color: transparent;\n",
              "    border-bottom-color: var(--fill-color);\n",
              "    animation:\n",
              "      spin 1s steps(1) infinite;\n",
              "  }\n",
              "\n",
              "  @keyframes spin {\n",
              "    0% {\n",
              "      border-color: transparent;\n",
              "      border-bottom-color: var(--fill-color);\n",
              "      border-left-color: var(--fill-color);\n",
              "    }\n",
              "    20% {\n",
              "      border-color: transparent;\n",
              "      border-left-color: var(--fill-color);\n",
              "      border-top-color: var(--fill-color);\n",
              "    }\n",
              "    30% {\n",
              "      border-color: transparent;\n",
              "      border-left-color: var(--fill-color);\n",
              "      border-top-color: var(--fill-color);\n",
              "      border-right-color: var(--fill-color);\n",
              "    }\n",
              "    40% {\n",
              "      border-color: transparent;\n",
              "      border-right-color: var(--fill-color);\n",
              "      border-top-color: var(--fill-color);\n",
              "    }\n",
              "    60% {\n",
              "      border-color: transparent;\n",
              "      border-right-color: var(--fill-color);\n",
              "    }\n",
              "    80% {\n",
              "      border-color: transparent;\n",
              "      border-right-color: var(--fill-color);\n",
              "      border-bottom-color: var(--fill-color);\n",
              "    }\n",
              "    90% {\n",
              "      border-color: transparent;\n",
              "      border-bottom-color: var(--fill-color);\n",
              "    }\n",
              "  }\n",
              "</style>\n",
              "\n",
              "      <script>\n",
              "        async function quickchart(key) {\n",
              "          const quickchartButtonEl =\n",
              "            document.querySelector('#' + key + ' button');\n",
              "          quickchartButtonEl.disabled = true;  // To prevent multiple clicks.\n",
              "          quickchartButtonEl.classList.add('colab-df-spinner');\n",
              "          try {\n",
              "            const charts = await google.colab.kernel.invokeFunction(\n",
              "                'suggestCharts', [key], {});\n",
              "          } catch (error) {\n",
              "            console.error('Error during call to suggestCharts:', error);\n",
              "          }\n",
              "          quickchartButtonEl.classList.remove('colab-df-spinner');\n",
              "          quickchartButtonEl.classList.add('colab-df-quickchart-complete');\n",
              "        }\n",
              "        (() => {\n",
              "          let quickchartButtonEl =\n",
              "            document.querySelector('#df-1856db8c-733d-4ee9-9b97-9adc5c43e699 button');\n",
              "          quickchartButtonEl.style.display =\n",
              "            google.colab.kernel.accessAllowed ? 'block' : 'none';\n",
              "        })();\n",
              "      </script>\n",
              "    </div>\n",
              "\n",
              "    </div>\n",
              "  </div>\n"
            ],
            "application/vnd.google.colaboratory.intrinsic+json": {
              "type": "dataframe",
              "summary": "{\n  \"name\": \"clientes\",\n  \"rows\": 4,\n  \"fields\": [\n    {\n      \"column\": \"ID_compra\",\n      \"properties\": {\n        \"dtype\": \"number\",\n        \"std\": 0.5000797797090826,\n        \"min\": -0.019119244360566452,\n        \"max\": 1.0,\n        \"num_unique_values\": 4,\n        \"samples\": [\n          -0.007415458243006836,\n          0.02852210080485022,\n          1.0\n        ],\n        \"semantic_type\": \"\",\n        \"description\": \"\"\n      }\n    },\n    {\n      \"column\": \"ID_cliente\",\n      \"properties\": {\n        \"dtype\": \"number\",\n        \"std\": 0.49930031873884273,\n        \"min\": -0.007415458243006836,\n        \"max\": 1.0,\n        \"num_unique_values\": 4,\n        \"samples\": [\n          1.0,\n          -0.00018316600248473186,\n          -0.007415458243006836\n        ],\n        \"semantic_type\": \"\",\n        \"description\": \"\"\n      }\n    },\n    {\n      \"column\": \"edad\",\n      \"properties\": {\n        \"dtype\": \"number\",\n        \"std\": 0.4992530341300161,\n        \"min\": -0.019119244360566452,\n        \"max\": 1.0,\n        \"num_unique_values\": 4,\n        \"samples\": [\n          0.012190493251661454,\n          0.012743388750248755,\n          -0.019119244360566452\n        ],\n        \"semantic_type\": \"\",\n        \"description\": \"\"\n      }\n    },\n    {\n      \"column\": \"nota\",\n      \"properties\": {\n        \"dtype\": \"number\",\n        \"std\": 0.4932926233104508,\n        \"min\": -0.00018316600248473186,\n        \"max\": 1.0,\n        \"num_unique_values\": 4,\n        \"samples\": [\n          -0.00018316600248473186,\n          1.0,\n          0.02852210080485022\n        ],\n        \"semantic_type\": \"\",\n        \"description\": \"\"\n      }\n    }\n  ]\n}"
            }
          },
          "metadata": {},
          "execution_count": 53
        }
      ]
    },
    {
      "cell_type": "markdown",
      "source": [
        "### **Base de ventas**"
      ],
      "metadata": {
        "id": "MT_FYn9jxvyy"
      }
    },
    {
      "cell_type": "markdown",
      "source": [
        "> #### <strong><font color=\"7b71ff\" size =6>Prompt:</font></strong>\n",
        "\n",
        "Ahora vamos explorar la base de ventas en formato de un DataFrame, llamado \"ventas\". Contiene datos de las ventas del comercio electrónico, que son: ID de la compra, fecha de la compra, hora de la compra, categoría del producto, precio unitario del producto, cantidad vendida, envío y el método de pago.\n",
        "\n",
        "Queremos hacer una breve exploración de los datos para comprender un poco sobre ellos. Recordando que los datos de esta base también están limpios y tratados. Construye el código para ejecutar esta etapa utilizando Python con el objetivo de conocer mejor el dataframe \"clientes\" y algunos de sus atributos."
      ],
      "metadata": {
        "id": "WMF2ZEvIxzA2"
      }
    },
    {
      "cell_type": "code",
      "source": [
        "# 1. Visualiza las primeras 5 filas del DataFrame para entender su estructura\n",
        "ventas.head()"
      ],
      "metadata": {
        "id": "ErpavGF2-n-E",
        "colab": {
          "base_uri": "https://localhost:8080/",
          "height": 206
        },
        "outputId": "bee1438c-59f8-4008-f2e8-da48ad23b665"
      },
      "execution_count": null,
      "outputs": [
        {
          "output_type": "execute_result",
          "data": {
            "text/plain": [
              "   ID_compra       fecha horario                    categoria  \\\n",
              "0          6  2023-01-03   20:40                 Electrónicos   \n",
              "1          5  2023-01-03   21:48  Herramientas y construcción   \n",
              "2          9  2023-01-03   17:08            Belleza e higiene   \n",
              "3          4  2023-01-03   14:29  Herramientas y construcción   \n",
              "4          8  2023-01-03   18:02            Belleza e higiene   \n",
              "\n",
              "   precio_unitario  cantidad   envio         metodo_pago  \n",
              "0           4457.9         4  713.26              Paypal  \n",
              "1            115.9         1    0.00       Transferencia  \n",
              "2             68.9         2   13.78  Tarjeta de Crédito  \n",
              "3             80.9         5   40.45       Transferencia  \n",
              "4            165.0         4    0.00       Transferencia  "
            ],
            "text/html": [
              "\n",
              "  <div id=\"df-a04a0202-ca3e-4985-a3fe-3fe7d7f81d8e\" class=\"colab-df-container\">\n",
              "    <div>\n",
              "<style scoped>\n",
              "    .dataframe tbody tr th:only-of-type {\n",
              "        vertical-align: middle;\n",
              "    }\n",
              "\n",
              "    .dataframe tbody tr th {\n",
              "        vertical-align: top;\n",
              "    }\n",
              "\n",
              "    .dataframe thead th {\n",
              "        text-align: right;\n",
              "    }\n",
              "</style>\n",
              "<table border=\"1\" class=\"dataframe\">\n",
              "  <thead>\n",
              "    <tr style=\"text-align: right;\">\n",
              "      <th></th>\n",
              "      <th>ID_compra</th>\n",
              "      <th>fecha</th>\n",
              "      <th>horario</th>\n",
              "      <th>categoria</th>\n",
              "      <th>precio_unitario</th>\n",
              "      <th>cantidad</th>\n",
              "      <th>envio</th>\n",
              "      <th>metodo_pago</th>\n",
              "    </tr>\n",
              "  </thead>\n",
              "  <tbody>\n",
              "    <tr>\n",
              "      <th>0</th>\n",
              "      <td>6</td>\n",
              "      <td>2023-01-03</td>\n",
              "      <td>20:40</td>\n",
              "      <td>Electrónicos</td>\n",
              "      <td>4457.9</td>\n",
              "      <td>4</td>\n",
              "      <td>713.26</td>\n",
              "      <td>Paypal</td>\n",
              "    </tr>\n",
              "    <tr>\n",
              "      <th>1</th>\n",
              "      <td>5</td>\n",
              "      <td>2023-01-03</td>\n",
              "      <td>21:48</td>\n",
              "      <td>Herramientas y construcción</td>\n",
              "      <td>115.9</td>\n",
              "      <td>1</td>\n",
              "      <td>0.00</td>\n",
              "      <td>Transferencia</td>\n",
              "    </tr>\n",
              "    <tr>\n",
              "      <th>2</th>\n",
              "      <td>9</td>\n",
              "      <td>2023-01-03</td>\n",
              "      <td>17:08</td>\n",
              "      <td>Belleza e higiene</td>\n",
              "      <td>68.9</td>\n",
              "      <td>2</td>\n",
              "      <td>13.78</td>\n",
              "      <td>Tarjeta de Crédito</td>\n",
              "    </tr>\n",
              "    <tr>\n",
              "      <th>3</th>\n",
              "      <td>4</td>\n",
              "      <td>2023-01-03</td>\n",
              "      <td>14:29</td>\n",
              "      <td>Herramientas y construcción</td>\n",
              "      <td>80.9</td>\n",
              "      <td>5</td>\n",
              "      <td>40.45</td>\n",
              "      <td>Transferencia</td>\n",
              "    </tr>\n",
              "    <tr>\n",
              "      <th>4</th>\n",
              "      <td>8</td>\n",
              "      <td>2023-01-03</td>\n",
              "      <td>18:02</td>\n",
              "      <td>Belleza e higiene</td>\n",
              "      <td>165.0</td>\n",
              "      <td>4</td>\n",
              "      <td>0.00</td>\n",
              "      <td>Transferencia</td>\n",
              "    </tr>\n",
              "  </tbody>\n",
              "</table>\n",
              "</div>\n",
              "    <div class=\"colab-df-buttons\">\n",
              "\n",
              "  <div class=\"colab-df-container\">\n",
              "    <button class=\"colab-df-convert\" onclick=\"convertToInteractive('df-a04a0202-ca3e-4985-a3fe-3fe7d7f81d8e')\"\n",
              "            title=\"Convert this dataframe to an interactive table.\"\n",
              "            style=\"display:none;\">\n",
              "\n",
              "  <svg xmlns=\"http://www.w3.org/2000/svg\" height=\"24px\" viewBox=\"0 -960 960 960\">\n",
              "    <path d=\"M120-120v-720h720v720H120Zm60-500h600v-160H180v160Zm220 220h160v-160H400v160Zm0 220h160v-160H400v160ZM180-400h160v-160H180v160Zm440 0h160v-160H620v160ZM180-180h160v-160H180v160Zm440 0h160v-160H620v160Z\"/>\n",
              "  </svg>\n",
              "    </button>\n",
              "\n",
              "  <style>\n",
              "    .colab-df-container {\n",
              "      display:flex;\n",
              "      gap: 12px;\n",
              "    }\n",
              "\n",
              "    .colab-df-convert {\n",
              "      background-color: #E8F0FE;\n",
              "      border: none;\n",
              "      border-radius: 50%;\n",
              "      cursor: pointer;\n",
              "      display: none;\n",
              "      fill: #1967D2;\n",
              "      height: 32px;\n",
              "      padding: 0 0 0 0;\n",
              "      width: 32px;\n",
              "    }\n",
              "\n",
              "    .colab-df-convert:hover {\n",
              "      background-color: #E2EBFA;\n",
              "      box-shadow: 0px 1px 2px rgba(60, 64, 67, 0.3), 0px 1px 3px 1px rgba(60, 64, 67, 0.15);\n",
              "      fill: #174EA6;\n",
              "    }\n",
              "\n",
              "    .colab-df-buttons div {\n",
              "      margin-bottom: 4px;\n",
              "    }\n",
              "\n",
              "    [theme=dark] .colab-df-convert {\n",
              "      background-color: #3B4455;\n",
              "      fill: #D2E3FC;\n",
              "    }\n",
              "\n",
              "    [theme=dark] .colab-df-convert:hover {\n",
              "      background-color: #434B5C;\n",
              "      box-shadow: 0px 1px 3px 1px rgba(0, 0, 0, 0.15);\n",
              "      filter: drop-shadow(0px 1px 2px rgba(0, 0, 0, 0.3));\n",
              "      fill: #FFFFFF;\n",
              "    }\n",
              "  </style>\n",
              "\n",
              "    <script>\n",
              "      const buttonEl =\n",
              "        document.querySelector('#df-a04a0202-ca3e-4985-a3fe-3fe7d7f81d8e button.colab-df-convert');\n",
              "      buttonEl.style.display =\n",
              "        google.colab.kernel.accessAllowed ? 'block' : 'none';\n",
              "\n",
              "      async function convertToInteractive(key) {\n",
              "        const element = document.querySelector('#df-a04a0202-ca3e-4985-a3fe-3fe7d7f81d8e');\n",
              "        const dataTable =\n",
              "          await google.colab.kernel.invokeFunction('convertToInteractive',\n",
              "                                                    [key], {});\n",
              "        if (!dataTable) return;\n",
              "\n",
              "        const docLinkHtml = 'Like what you see? Visit the ' +\n",
              "          '<a target=\"_blank\" href=https://colab.research.google.com/notebooks/data_table.ipynb>data table notebook</a>'\n",
              "          + ' to learn more about interactive tables.';\n",
              "        element.innerHTML = '';\n",
              "        dataTable['output_type'] = 'display_data';\n",
              "        await google.colab.output.renderOutput(dataTable, element);\n",
              "        const docLink = document.createElement('div');\n",
              "        docLink.innerHTML = docLinkHtml;\n",
              "        element.appendChild(docLink);\n",
              "      }\n",
              "    </script>\n",
              "  </div>\n",
              "\n",
              "\n",
              "    <div id=\"df-391359e3-1c1c-4001-905d-4ffc9b83c117\">\n",
              "      <button class=\"colab-df-quickchart\" onclick=\"quickchart('df-391359e3-1c1c-4001-905d-4ffc9b83c117')\"\n",
              "                title=\"Suggest charts\"\n",
              "                style=\"display:none;\">\n",
              "\n",
              "<svg xmlns=\"http://www.w3.org/2000/svg\" height=\"24px\"viewBox=\"0 0 24 24\"\n",
              "     width=\"24px\">\n",
              "    <g>\n",
              "        <path d=\"M19 3H5c-1.1 0-2 .9-2 2v14c0 1.1.9 2 2 2h14c1.1 0 2-.9 2-2V5c0-1.1-.9-2-2-2zM9 17H7v-7h2v7zm4 0h-2V7h2v10zm4 0h-2v-4h2v4z\"/>\n",
              "    </g>\n",
              "</svg>\n",
              "      </button>\n",
              "\n",
              "<style>\n",
              "  .colab-df-quickchart {\n",
              "      --bg-color: #E8F0FE;\n",
              "      --fill-color: #1967D2;\n",
              "      --hover-bg-color: #E2EBFA;\n",
              "      --hover-fill-color: #174EA6;\n",
              "      --disabled-fill-color: #AAA;\n",
              "      --disabled-bg-color: #DDD;\n",
              "  }\n",
              "\n",
              "  [theme=dark] .colab-df-quickchart {\n",
              "      --bg-color: #3B4455;\n",
              "      --fill-color: #D2E3FC;\n",
              "      --hover-bg-color: #434B5C;\n",
              "      --hover-fill-color: #FFFFFF;\n",
              "      --disabled-bg-color: #3B4455;\n",
              "      --disabled-fill-color: #666;\n",
              "  }\n",
              "\n",
              "  .colab-df-quickchart {\n",
              "    background-color: var(--bg-color);\n",
              "    border: none;\n",
              "    border-radius: 50%;\n",
              "    cursor: pointer;\n",
              "    display: none;\n",
              "    fill: var(--fill-color);\n",
              "    height: 32px;\n",
              "    padding: 0;\n",
              "    width: 32px;\n",
              "  }\n",
              "\n",
              "  .colab-df-quickchart:hover {\n",
              "    background-color: var(--hover-bg-color);\n",
              "    box-shadow: 0 1px 2px rgba(60, 64, 67, 0.3), 0 1px 3px 1px rgba(60, 64, 67, 0.15);\n",
              "    fill: var(--button-hover-fill-color);\n",
              "  }\n",
              "\n",
              "  .colab-df-quickchart-complete:disabled,\n",
              "  .colab-df-quickchart-complete:disabled:hover {\n",
              "    background-color: var(--disabled-bg-color);\n",
              "    fill: var(--disabled-fill-color);\n",
              "    box-shadow: none;\n",
              "  }\n",
              "\n",
              "  .colab-df-spinner {\n",
              "    border: 2px solid var(--fill-color);\n",
              "    border-color: transparent;\n",
              "    border-bottom-color: var(--fill-color);\n",
              "    animation:\n",
              "      spin 1s steps(1) infinite;\n",
              "  }\n",
              "\n",
              "  @keyframes spin {\n",
              "    0% {\n",
              "      border-color: transparent;\n",
              "      border-bottom-color: var(--fill-color);\n",
              "      border-left-color: var(--fill-color);\n",
              "    }\n",
              "    20% {\n",
              "      border-color: transparent;\n",
              "      border-left-color: var(--fill-color);\n",
              "      border-top-color: var(--fill-color);\n",
              "    }\n",
              "    30% {\n",
              "      border-color: transparent;\n",
              "      border-left-color: var(--fill-color);\n",
              "      border-top-color: var(--fill-color);\n",
              "      border-right-color: var(--fill-color);\n",
              "    }\n",
              "    40% {\n",
              "      border-color: transparent;\n",
              "      border-right-color: var(--fill-color);\n",
              "      border-top-color: var(--fill-color);\n",
              "    }\n",
              "    60% {\n",
              "      border-color: transparent;\n",
              "      border-right-color: var(--fill-color);\n",
              "    }\n",
              "    80% {\n",
              "      border-color: transparent;\n",
              "      border-right-color: var(--fill-color);\n",
              "      border-bottom-color: var(--fill-color);\n",
              "    }\n",
              "    90% {\n",
              "      border-color: transparent;\n",
              "      border-bottom-color: var(--fill-color);\n",
              "    }\n",
              "  }\n",
              "</style>\n",
              "\n",
              "      <script>\n",
              "        async function quickchart(key) {\n",
              "          const quickchartButtonEl =\n",
              "            document.querySelector('#' + key + ' button');\n",
              "          quickchartButtonEl.disabled = true;  // To prevent multiple clicks.\n",
              "          quickchartButtonEl.classList.add('colab-df-spinner');\n",
              "          try {\n",
              "            const charts = await google.colab.kernel.invokeFunction(\n",
              "                'suggestCharts', [key], {});\n",
              "          } catch (error) {\n",
              "            console.error('Error during call to suggestCharts:', error);\n",
              "          }\n",
              "          quickchartButtonEl.classList.remove('colab-df-spinner');\n",
              "          quickchartButtonEl.classList.add('colab-df-quickchart-complete');\n",
              "        }\n",
              "        (() => {\n",
              "          let quickchartButtonEl =\n",
              "            document.querySelector('#df-391359e3-1c1c-4001-905d-4ffc9b83c117 button');\n",
              "          quickchartButtonEl.style.display =\n",
              "            google.colab.kernel.accessAllowed ? 'block' : 'none';\n",
              "        })();\n",
              "      </script>\n",
              "    </div>\n",
              "\n",
              "    </div>\n",
              "  </div>\n"
            ],
            "application/vnd.google.colaboratory.intrinsic+json": {
              "type": "dataframe",
              "variable_name": "ventas",
              "summary": "{\n  \"name\": \"ventas\",\n  \"rows\": 6169,\n  \"fields\": [\n    {\n      \"column\": \"ID_compra\",\n      \"properties\": {\n        \"dtype\": \"number\",\n        \"std\": 1780,\n        \"min\": 1,\n        \"max\": 6169,\n        \"num_unique_values\": 6169,\n        \"samples\": [\n          5998,\n          409,\n          1489\n        ],\n        \"semantic_type\": \"\",\n        \"description\": \"\"\n      }\n    },\n    {\n      \"column\": \"fecha\",\n      \"properties\": {\n        \"dtype\": \"object\",\n        \"num_unique_values\": 304,\n        \"samples\": [\n          \"2023-08-05\",\n          \"2023-07-06\",\n          \"2023-05-17\"\n        ],\n        \"semantic_type\": \"\",\n        \"description\": \"\"\n      }\n    },\n    {\n      \"column\": \"horario\",\n      \"properties\": {\n        \"dtype\": \"object\",\n        \"num_unique_values\": 659,\n        \"samples\": [\n          \"19:04\",\n          \"21:53\",\n          \"21:42\"\n        ],\n        \"semantic_type\": \"\",\n        \"description\": \"\"\n      }\n    },\n    {\n      \"column\": \"categoria\",\n      \"properties\": {\n        \"dtype\": \"category\",\n        \"num_unique_values\": 8,\n        \"samples\": [\n          \"Herramientas y construcci\\u00f3n\",\n          \"Libros\",\n          \"Electr\\u00f3nicos\"\n        ],\n        \"semantic_type\": \"\",\n        \"description\": \"\"\n      }\n    },\n    {\n      \"column\": \"precio_unitario\",\n      \"properties\": {\n        \"dtype\": \"number\",\n        \"std\": 1852.0643423194142,\n        \"min\": 2.9,\n        \"max\": 8000.0,\n        \"num_unique_values\": 1655,\n        \"samples\": [\n          6291.9,\n          52.9,\n          31.0\n        ],\n        \"semantic_type\": \"\",\n        \"description\": \"\"\n      }\n    },\n    {\n      \"column\": \"cantidad\",\n      \"properties\": {\n        \"dtype\": \"number\",\n        \"std\": 1,\n        \"min\": 1,\n        \"max\": 5,\n        \"num_unique_values\": 5,\n        \"samples\": [\n          1,\n          3,\n          2\n        ],\n        \"semantic_type\": \"\",\n        \"description\": \"\"\n      }\n    },\n    {\n      \"column\": \"envio\",\n      \"properties\": {\n        \"dtype\": \"number\",\n        \"std\": 366.14922483792856,\n        \"min\": 0.0,\n        \"max\": 4521.54,\n        \"num_unique_values\": 2934,\n        \"samples\": [\n          30.58,\n          21.21,\n          14.23\n        ],\n        \"semantic_type\": \"\",\n        \"description\": \"\"\n      }\n    },\n    {\n      \"column\": \"metodo_pago\",\n      \"properties\": {\n        \"dtype\": \"category\",\n        \"num_unique_values\": 4,\n        \"samples\": [\n          \"Transferencia\",\n          \"Tarjeta de D\\u00e9bito\",\n          \"Paypal\"\n        ],\n        \"semantic_type\": \"\",\n        \"description\": \"\"\n      }\n    }\n  ]\n}"
            }
          },
          "metadata": {},
          "execution_count": 54
        }
      ]
    },
    {
      "cell_type": "code",
      "source": [
        "# 2. Muestra el número de filas y columnas (dimensiones del DataFrame)\n",
        "ventas.shape"
      ],
      "metadata": {
        "id": "4IZIkGfF-nvS",
        "colab": {
          "base_uri": "https://localhost:8080/"
        },
        "outputId": "9e75bc2a-ba9d-4582-a661-e3c61a6ee0a3"
      },
      "execution_count": null,
      "outputs": [
        {
          "output_type": "execute_result",
          "data": {
            "text/plain": [
              "(6169, 8)"
            ]
          },
          "metadata": {},
          "execution_count": 55
        }
      ]
    },
    {
      "cell_type": "code",
      "source": [
        "# 3. Muestra información general del DataFrame: columnas, tipos de datos, valores no nulos\n",
        "ventas.info()"
      ],
      "metadata": {
        "id": "p0FIKkM6-nso",
        "colab": {
          "base_uri": "https://localhost:8080/"
        },
        "outputId": "2d13b573-9778-4b8c-c16c-c6a5c71de89b"
      },
      "execution_count": null,
      "outputs": [
        {
          "output_type": "stream",
          "name": "stdout",
          "text": [
            "<class 'pandas.core.frame.DataFrame'>\n",
            "RangeIndex: 6169 entries, 0 to 6168\n",
            "Data columns (total 8 columns):\n",
            " #   Column           Non-Null Count  Dtype  \n",
            "---  ------           --------------  -----  \n",
            " 0   ID_compra        6169 non-null   int64  \n",
            " 1   fecha            6169 non-null   object \n",
            " 2   horario          6169 non-null   object \n",
            " 3   categoria        6169 non-null   object \n",
            " 4   precio_unitario  6169 non-null   float64\n",
            " 5   cantidad         6169 non-null   int64  \n",
            " 6   envio            6169 non-null   float64\n",
            " 7   metodo_pago      6169 non-null   object \n",
            "dtypes: float64(2), int64(2), object(4)\n",
            "memory usage: 385.7+ KB\n"
          ]
        }
      ]
    },
    {
      "cell_type": "code",
      "source": [
        "# 4. Muestra estadísticas descriptivas para las columnas numéricas (precio, cantidad, envío, etc.)\n",
        "ventas.describe()"
      ],
      "metadata": {
        "colab": {
          "base_uri": "https://localhost:8080/",
          "height": 300
        },
        "id": "5YhwIN37UBTk",
        "outputId": "27029d3e-1085-41e7-fd1c-35ae30c2fa32"
      },
      "execution_count": null,
      "outputs": [
        {
          "output_type": "execute_result",
          "data": {
            "text/plain": [
              "         ID_compra  precio_unitario     cantidad        envio\n",
              "count  6169.000000      6169.000000  6169.000000  6169.000000\n",
              "mean   3085.000000       873.234738     3.004863   119.233832\n",
              "std    1780.981237      1852.064342     1.420725   366.149225\n",
              "min       1.000000         2.900000     1.000000     0.000000\n",
              "25%    1543.000000        44.900000     2.000000     0.320000\n",
              "50%    3085.000000        93.900000     3.000000     7.550000\n",
              "75%    4627.000000       221.900000     4.000000    29.240000\n",
              "max    6169.000000      8000.000000     5.000000  4521.540000"
            ],
            "text/html": [
              "\n",
              "  <div id=\"df-f929c845-9559-4a32-a0b4-f84edd61f698\" class=\"colab-df-container\">\n",
              "    <div>\n",
              "<style scoped>\n",
              "    .dataframe tbody tr th:only-of-type {\n",
              "        vertical-align: middle;\n",
              "    }\n",
              "\n",
              "    .dataframe tbody tr th {\n",
              "        vertical-align: top;\n",
              "    }\n",
              "\n",
              "    .dataframe thead th {\n",
              "        text-align: right;\n",
              "    }\n",
              "</style>\n",
              "<table border=\"1\" class=\"dataframe\">\n",
              "  <thead>\n",
              "    <tr style=\"text-align: right;\">\n",
              "      <th></th>\n",
              "      <th>ID_compra</th>\n",
              "      <th>precio_unitario</th>\n",
              "      <th>cantidad</th>\n",
              "      <th>envio</th>\n",
              "    </tr>\n",
              "  </thead>\n",
              "  <tbody>\n",
              "    <tr>\n",
              "      <th>count</th>\n",
              "      <td>6169.000000</td>\n",
              "      <td>6169.000000</td>\n",
              "      <td>6169.000000</td>\n",
              "      <td>6169.000000</td>\n",
              "    </tr>\n",
              "    <tr>\n",
              "      <th>mean</th>\n",
              "      <td>3085.000000</td>\n",
              "      <td>873.234738</td>\n",
              "      <td>3.004863</td>\n",
              "      <td>119.233832</td>\n",
              "    </tr>\n",
              "    <tr>\n",
              "      <th>std</th>\n",
              "      <td>1780.981237</td>\n",
              "      <td>1852.064342</td>\n",
              "      <td>1.420725</td>\n",
              "      <td>366.149225</td>\n",
              "    </tr>\n",
              "    <tr>\n",
              "      <th>min</th>\n",
              "      <td>1.000000</td>\n",
              "      <td>2.900000</td>\n",
              "      <td>1.000000</td>\n",
              "      <td>0.000000</td>\n",
              "    </tr>\n",
              "    <tr>\n",
              "      <th>25%</th>\n",
              "      <td>1543.000000</td>\n",
              "      <td>44.900000</td>\n",
              "      <td>2.000000</td>\n",
              "      <td>0.320000</td>\n",
              "    </tr>\n",
              "    <tr>\n",
              "      <th>50%</th>\n",
              "      <td>3085.000000</td>\n",
              "      <td>93.900000</td>\n",
              "      <td>3.000000</td>\n",
              "      <td>7.550000</td>\n",
              "    </tr>\n",
              "    <tr>\n",
              "      <th>75%</th>\n",
              "      <td>4627.000000</td>\n",
              "      <td>221.900000</td>\n",
              "      <td>4.000000</td>\n",
              "      <td>29.240000</td>\n",
              "    </tr>\n",
              "    <tr>\n",
              "      <th>max</th>\n",
              "      <td>6169.000000</td>\n",
              "      <td>8000.000000</td>\n",
              "      <td>5.000000</td>\n",
              "      <td>4521.540000</td>\n",
              "    </tr>\n",
              "  </tbody>\n",
              "</table>\n",
              "</div>\n",
              "    <div class=\"colab-df-buttons\">\n",
              "\n",
              "  <div class=\"colab-df-container\">\n",
              "    <button class=\"colab-df-convert\" onclick=\"convertToInteractive('df-f929c845-9559-4a32-a0b4-f84edd61f698')\"\n",
              "            title=\"Convert this dataframe to an interactive table.\"\n",
              "            style=\"display:none;\">\n",
              "\n",
              "  <svg xmlns=\"http://www.w3.org/2000/svg\" height=\"24px\" viewBox=\"0 -960 960 960\">\n",
              "    <path d=\"M120-120v-720h720v720H120Zm60-500h600v-160H180v160Zm220 220h160v-160H400v160Zm0 220h160v-160H400v160ZM180-400h160v-160H180v160Zm440 0h160v-160H620v160ZM180-180h160v-160H180v160Zm440 0h160v-160H620v160Z\"/>\n",
              "  </svg>\n",
              "    </button>\n",
              "\n",
              "  <style>\n",
              "    .colab-df-container {\n",
              "      display:flex;\n",
              "      gap: 12px;\n",
              "    }\n",
              "\n",
              "    .colab-df-convert {\n",
              "      background-color: #E8F0FE;\n",
              "      border: none;\n",
              "      border-radius: 50%;\n",
              "      cursor: pointer;\n",
              "      display: none;\n",
              "      fill: #1967D2;\n",
              "      height: 32px;\n",
              "      padding: 0 0 0 0;\n",
              "      width: 32px;\n",
              "    }\n",
              "\n",
              "    .colab-df-convert:hover {\n",
              "      background-color: #E2EBFA;\n",
              "      box-shadow: 0px 1px 2px rgba(60, 64, 67, 0.3), 0px 1px 3px 1px rgba(60, 64, 67, 0.15);\n",
              "      fill: #174EA6;\n",
              "    }\n",
              "\n",
              "    .colab-df-buttons div {\n",
              "      margin-bottom: 4px;\n",
              "    }\n",
              "\n",
              "    [theme=dark] .colab-df-convert {\n",
              "      background-color: #3B4455;\n",
              "      fill: #D2E3FC;\n",
              "    }\n",
              "\n",
              "    [theme=dark] .colab-df-convert:hover {\n",
              "      background-color: #434B5C;\n",
              "      box-shadow: 0px 1px 3px 1px rgba(0, 0, 0, 0.15);\n",
              "      filter: drop-shadow(0px 1px 2px rgba(0, 0, 0, 0.3));\n",
              "      fill: #FFFFFF;\n",
              "    }\n",
              "  </style>\n",
              "\n",
              "    <script>\n",
              "      const buttonEl =\n",
              "        document.querySelector('#df-f929c845-9559-4a32-a0b4-f84edd61f698 button.colab-df-convert');\n",
              "      buttonEl.style.display =\n",
              "        google.colab.kernel.accessAllowed ? 'block' : 'none';\n",
              "\n",
              "      async function convertToInteractive(key) {\n",
              "        const element = document.querySelector('#df-f929c845-9559-4a32-a0b4-f84edd61f698');\n",
              "        const dataTable =\n",
              "          await google.colab.kernel.invokeFunction('convertToInteractive',\n",
              "                                                    [key], {});\n",
              "        if (!dataTable) return;\n",
              "\n",
              "        const docLinkHtml = 'Like what you see? Visit the ' +\n",
              "          '<a target=\"_blank\" href=https://colab.research.google.com/notebooks/data_table.ipynb>data table notebook</a>'\n",
              "          + ' to learn more about interactive tables.';\n",
              "        element.innerHTML = '';\n",
              "        dataTable['output_type'] = 'display_data';\n",
              "        await google.colab.output.renderOutput(dataTable, element);\n",
              "        const docLink = document.createElement('div');\n",
              "        docLink.innerHTML = docLinkHtml;\n",
              "        element.appendChild(docLink);\n",
              "      }\n",
              "    </script>\n",
              "  </div>\n",
              "\n",
              "\n",
              "    <div id=\"df-8d4a48a0-931c-4216-a765-705745ececd9\">\n",
              "      <button class=\"colab-df-quickchart\" onclick=\"quickchart('df-8d4a48a0-931c-4216-a765-705745ececd9')\"\n",
              "                title=\"Suggest charts\"\n",
              "                style=\"display:none;\">\n",
              "\n",
              "<svg xmlns=\"http://www.w3.org/2000/svg\" height=\"24px\"viewBox=\"0 0 24 24\"\n",
              "     width=\"24px\">\n",
              "    <g>\n",
              "        <path d=\"M19 3H5c-1.1 0-2 .9-2 2v14c0 1.1.9 2 2 2h14c1.1 0 2-.9 2-2V5c0-1.1-.9-2-2-2zM9 17H7v-7h2v7zm4 0h-2V7h2v10zm4 0h-2v-4h2v4z\"/>\n",
              "    </g>\n",
              "</svg>\n",
              "      </button>\n",
              "\n",
              "<style>\n",
              "  .colab-df-quickchart {\n",
              "      --bg-color: #E8F0FE;\n",
              "      --fill-color: #1967D2;\n",
              "      --hover-bg-color: #E2EBFA;\n",
              "      --hover-fill-color: #174EA6;\n",
              "      --disabled-fill-color: #AAA;\n",
              "      --disabled-bg-color: #DDD;\n",
              "  }\n",
              "\n",
              "  [theme=dark] .colab-df-quickchart {\n",
              "      --bg-color: #3B4455;\n",
              "      --fill-color: #D2E3FC;\n",
              "      --hover-bg-color: #434B5C;\n",
              "      --hover-fill-color: #FFFFFF;\n",
              "      --disabled-bg-color: #3B4455;\n",
              "      --disabled-fill-color: #666;\n",
              "  }\n",
              "\n",
              "  .colab-df-quickchart {\n",
              "    background-color: var(--bg-color);\n",
              "    border: none;\n",
              "    border-radius: 50%;\n",
              "    cursor: pointer;\n",
              "    display: none;\n",
              "    fill: var(--fill-color);\n",
              "    height: 32px;\n",
              "    padding: 0;\n",
              "    width: 32px;\n",
              "  }\n",
              "\n",
              "  .colab-df-quickchart:hover {\n",
              "    background-color: var(--hover-bg-color);\n",
              "    box-shadow: 0 1px 2px rgba(60, 64, 67, 0.3), 0 1px 3px 1px rgba(60, 64, 67, 0.15);\n",
              "    fill: var(--button-hover-fill-color);\n",
              "  }\n",
              "\n",
              "  .colab-df-quickchart-complete:disabled,\n",
              "  .colab-df-quickchart-complete:disabled:hover {\n",
              "    background-color: var(--disabled-bg-color);\n",
              "    fill: var(--disabled-fill-color);\n",
              "    box-shadow: none;\n",
              "  }\n",
              "\n",
              "  .colab-df-spinner {\n",
              "    border: 2px solid var(--fill-color);\n",
              "    border-color: transparent;\n",
              "    border-bottom-color: var(--fill-color);\n",
              "    animation:\n",
              "      spin 1s steps(1) infinite;\n",
              "  }\n",
              "\n",
              "  @keyframes spin {\n",
              "    0% {\n",
              "      border-color: transparent;\n",
              "      border-bottom-color: var(--fill-color);\n",
              "      border-left-color: var(--fill-color);\n",
              "    }\n",
              "    20% {\n",
              "      border-color: transparent;\n",
              "      border-left-color: var(--fill-color);\n",
              "      border-top-color: var(--fill-color);\n",
              "    }\n",
              "    30% {\n",
              "      border-color: transparent;\n",
              "      border-left-color: var(--fill-color);\n",
              "      border-top-color: var(--fill-color);\n",
              "      border-right-color: var(--fill-color);\n",
              "    }\n",
              "    40% {\n",
              "      border-color: transparent;\n",
              "      border-right-color: var(--fill-color);\n",
              "      border-top-color: var(--fill-color);\n",
              "    }\n",
              "    60% {\n",
              "      border-color: transparent;\n",
              "      border-right-color: var(--fill-color);\n",
              "    }\n",
              "    80% {\n",
              "      border-color: transparent;\n",
              "      border-right-color: var(--fill-color);\n",
              "      border-bottom-color: var(--fill-color);\n",
              "    }\n",
              "    90% {\n",
              "      border-color: transparent;\n",
              "      border-bottom-color: var(--fill-color);\n",
              "    }\n",
              "  }\n",
              "</style>\n",
              "\n",
              "      <script>\n",
              "        async function quickchart(key) {\n",
              "          const quickchartButtonEl =\n",
              "            document.querySelector('#' + key + ' button');\n",
              "          quickchartButtonEl.disabled = true;  // To prevent multiple clicks.\n",
              "          quickchartButtonEl.classList.add('colab-df-spinner');\n",
              "          try {\n",
              "            const charts = await google.colab.kernel.invokeFunction(\n",
              "                'suggestCharts', [key], {});\n",
              "          } catch (error) {\n",
              "            console.error('Error during call to suggestCharts:', error);\n",
              "          }\n",
              "          quickchartButtonEl.classList.remove('colab-df-spinner');\n",
              "          quickchartButtonEl.classList.add('colab-df-quickchart-complete');\n",
              "        }\n",
              "        (() => {\n",
              "          let quickchartButtonEl =\n",
              "            document.querySelector('#df-8d4a48a0-931c-4216-a765-705745ececd9 button');\n",
              "          quickchartButtonEl.style.display =\n",
              "            google.colab.kernel.accessAllowed ? 'block' : 'none';\n",
              "        })();\n",
              "      </script>\n",
              "    </div>\n",
              "\n",
              "    </div>\n",
              "  </div>\n"
            ],
            "application/vnd.google.colaboratory.intrinsic+json": {
              "type": "dataframe",
              "summary": "{\n  \"name\": \"ventas\",\n  \"rows\": 8,\n  \"fields\": [\n    {\n      \"column\": \"ID_compra\",\n      \"properties\": {\n        \"dtype\": \"number\",\n        \"std\": 2223.0326545909456,\n        \"min\": 1.0,\n        \"max\": 6169.0,\n        \"num_unique_values\": 6,\n        \"samples\": [\n          6169.0,\n          3085.0,\n          4627.0\n        ],\n        \"semantic_type\": \"\",\n        \"description\": \"\"\n      }\n    },\n    {\n      \"column\": \"precio_unitario\",\n      \"properties\": {\n        \"dtype\": \"number\",\n        \"std\": 3141.4268457842477,\n        \"min\": 2.9,\n        \"max\": 8000.0,\n        \"num_unique_values\": 8,\n        \"samples\": [\n          873.2347382071648,\n          93.9,\n          6169.0\n        ],\n        \"semantic_type\": \"\",\n        \"description\": \"\"\n      }\n    },\n    {\n      \"column\": \"cantidad\",\n      \"properties\": {\n        \"dtype\": \"number\",\n        \"std\": 2180.090123979817,\n        \"min\": 1.0,\n        \"max\": 6169.0,\n        \"num_unique_values\": 8,\n        \"samples\": [\n          3.0048630248014265,\n          3.0,\n          6169.0\n        ],\n        \"semantic_type\": \"\",\n        \"description\": \"\"\n      }\n    },\n    {\n      \"column\": \"envio\",\n      \"properties\": {\n        \"dtype\": \"number\",\n        \"std\": 2476.5634376162216,\n        \"min\": 0.0,\n        \"max\": 6169.0,\n        \"num_unique_values\": 8,\n        \"samples\": [\n          119.23383206354353,\n          7.55,\n          6169.0\n        ],\n        \"semantic_type\": \"\",\n        \"description\": \"\"\n      }\n    }\n  ]\n}"
            }
          },
          "metadata": {},
          "execution_count": 57
        }
      ]
    },
    {
      "cell_type": "code",
      "source": [
        "# 5. Muestra la cantidad de valores únicos por columna\n",
        "ventas.nunique()"
      ],
      "metadata": {
        "colab": {
          "base_uri": "https://localhost:8080/",
          "height": 335
        },
        "id": "ecOEmV-bUDLp",
        "outputId": "64576ffc-992d-41cc-e2b3-b0c8b51baaa8"
      },
      "execution_count": null,
      "outputs": [
        {
          "output_type": "execute_result",
          "data": {
            "text/plain": [
              "ID_compra          6169\n",
              "fecha               304\n",
              "horario             659\n",
              "categoria             8\n",
              "precio_unitario    1655\n",
              "cantidad              5\n",
              "envio              2934\n",
              "metodo_pago           4\n",
              "dtype: int64"
            ],
            "text/html": [
              "<div>\n",
              "<style scoped>\n",
              "    .dataframe tbody tr th:only-of-type {\n",
              "        vertical-align: middle;\n",
              "    }\n",
              "\n",
              "    .dataframe tbody tr th {\n",
              "        vertical-align: top;\n",
              "    }\n",
              "\n",
              "    .dataframe thead th {\n",
              "        text-align: right;\n",
              "    }\n",
              "</style>\n",
              "<table border=\"1\" class=\"dataframe\">\n",
              "  <thead>\n",
              "    <tr style=\"text-align: right;\">\n",
              "      <th></th>\n",
              "      <th>0</th>\n",
              "    </tr>\n",
              "  </thead>\n",
              "  <tbody>\n",
              "    <tr>\n",
              "      <th>ID_compra</th>\n",
              "      <td>6169</td>\n",
              "    </tr>\n",
              "    <tr>\n",
              "      <th>fecha</th>\n",
              "      <td>304</td>\n",
              "    </tr>\n",
              "    <tr>\n",
              "      <th>horario</th>\n",
              "      <td>659</td>\n",
              "    </tr>\n",
              "    <tr>\n",
              "      <th>categoria</th>\n",
              "      <td>8</td>\n",
              "    </tr>\n",
              "    <tr>\n",
              "      <th>precio_unitario</th>\n",
              "      <td>1655</td>\n",
              "    </tr>\n",
              "    <tr>\n",
              "      <th>cantidad</th>\n",
              "      <td>5</td>\n",
              "    </tr>\n",
              "    <tr>\n",
              "      <th>envio</th>\n",
              "      <td>2934</td>\n",
              "    </tr>\n",
              "    <tr>\n",
              "      <th>metodo_pago</th>\n",
              "      <td>4</td>\n",
              "    </tr>\n",
              "  </tbody>\n",
              "</table>\n",
              "</div><br><label><b>dtype:</b> int64</label>"
            ]
          },
          "metadata": {},
          "execution_count": 58
        }
      ]
    },
    {
      "cell_type": "code",
      "source": [
        "# 6. Muestra cuántas ventas se realizaron por categoría de producto\n",
        "ventas['categoria'].value_counts()"
      ],
      "metadata": {
        "colab": {
          "base_uri": "https://localhost:8080/",
          "height": 366
        },
        "id": "rnEZEfBXUDQ6",
        "outputId": "db930324-5401-4053-d5bc-6d0d79c008c3"
      },
      "execution_count": null,
      "outputs": [
        {
          "output_type": "execute_result",
          "data": {
            "text/plain": [
              "categoria\n",
              "Alimentos y bebidas            1495\n",
              "Belleza e higiene              1062\n",
              "Casa y aseo                    1041\n",
              "Electrodomésticos               665\n",
              "Electrónicos                    580\n",
              "Papelería y oficina             551\n",
              "Herramientas y construcción     474\n",
              "Libros                          301\n",
              "Name: count, dtype: int64"
            ],
            "text/html": [
              "<div>\n",
              "<style scoped>\n",
              "    .dataframe tbody tr th:only-of-type {\n",
              "        vertical-align: middle;\n",
              "    }\n",
              "\n",
              "    .dataframe tbody tr th {\n",
              "        vertical-align: top;\n",
              "    }\n",
              "\n",
              "    .dataframe thead th {\n",
              "        text-align: right;\n",
              "    }\n",
              "</style>\n",
              "<table border=\"1\" class=\"dataframe\">\n",
              "  <thead>\n",
              "    <tr style=\"text-align: right;\">\n",
              "      <th></th>\n",
              "      <th>count</th>\n",
              "    </tr>\n",
              "    <tr>\n",
              "      <th>categoria</th>\n",
              "      <th></th>\n",
              "    </tr>\n",
              "  </thead>\n",
              "  <tbody>\n",
              "    <tr>\n",
              "      <th>Alimentos y bebidas</th>\n",
              "      <td>1495</td>\n",
              "    </tr>\n",
              "    <tr>\n",
              "      <th>Belleza e higiene</th>\n",
              "      <td>1062</td>\n",
              "    </tr>\n",
              "    <tr>\n",
              "      <th>Casa y aseo</th>\n",
              "      <td>1041</td>\n",
              "    </tr>\n",
              "    <tr>\n",
              "      <th>Electrodomésticos</th>\n",
              "      <td>665</td>\n",
              "    </tr>\n",
              "    <tr>\n",
              "      <th>Electrónicos</th>\n",
              "      <td>580</td>\n",
              "    </tr>\n",
              "    <tr>\n",
              "      <th>Papelería y oficina</th>\n",
              "      <td>551</td>\n",
              "    </tr>\n",
              "    <tr>\n",
              "      <th>Herramientas y construcción</th>\n",
              "      <td>474</td>\n",
              "    </tr>\n",
              "    <tr>\n",
              "      <th>Libros</th>\n",
              "      <td>301</td>\n",
              "    </tr>\n",
              "  </tbody>\n",
              "</table>\n",
              "</div><br><label><b>dtype:</b> int64</label>"
            ]
          },
          "metadata": {},
          "execution_count": 59
        }
      ]
    },
    {
      "cell_type": "code",
      "source": [
        "# 7. Muestra la cantidad de ventas por método de pago\n",
        "ventas['metodo_pago'].value_counts()"
      ],
      "metadata": {
        "colab": {
          "base_uri": "https://localhost:8080/",
          "height": 241
        },
        "id": "AaLs-2BcUDUS",
        "outputId": "6527b553-49f9-4878-dcfe-839083890810"
      },
      "execution_count": null,
      "outputs": [
        {
          "output_type": "execute_result",
          "data": {
            "text/plain": [
              "metodo_pago\n",
              "Tarjeta de Crédito    2851\n",
              "Transferencia         2244\n",
              "Tarjeta de Débito      547\n",
              "Paypal                 527\n",
              "Name: count, dtype: int64"
            ],
            "text/html": [
              "<div>\n",
              "<style scoped>\n",
              "    .dataframe tbody tr th:only-of-type {\n",
              "        vertical-align: middle;\n",
              "    }\n",
              "\n",
              "    .dataframe tbody tr th {\n",
              "        vertical-align: top;\n",
              "    }\n",
              "\n",
              "    .dataframe thead th {\n",
              "        text-align: right;\n",
              "    }\n",
              "</style>\n",
              "<table border=\"1\" class=\"dataframe\">\n",
              "  <thead>\n",
              "    <tr style=\"text-align: right;\">\n",
              "      <th></th>\n",
              "      <th>count</th>\n",
              "    </tr>\n",
              "    <tr>\n",
              "      <th>metodo_pago</th>\n",
              "      <th></th>\n",
              "    </tr>\n",
              "  </thead>\n",
              "  <tbody>\n",
              "    <tr>\n",
              "      <th>Tarjeta de Crédito</th>\n",
              "      <td>2851</td>\n",
              "    </tr>\n",
              "    <tr>\n",
              "      <th>Transferencia</th>\n",
              "      <td>2244</td>\n",
              "    </tr>\n",
              "    <tr>\n",
              "      <th>Tarjeta de Débito</th>\n",
              "      <td>547</td>\n",
              "    </tr>\n",
              "    <tr>\n",
              "      <th>Paypal</th>\n",
              "      <td>527</td>\n",
              "    </tr>\n",
              "  </tbody>\n",
              "</table>\n",
              "</div><br><label><b>dtype:</b> int64</label>"
            ]
          },
          "metadata": {},
          "execution_count": 60
        }
      ]
    },
    {
      "cell_type": "code",
      "source": [
        "# 8. Verifica el rango de precios unitarios\n",
        "ventas['precio_unitario'].min(), ventas['precio_unitario'].max()"
      ],
      "metadata": {
        "colab": {
          "base_uri": "https://localhost:8080/"
        },
        "id": "-MuNfFFlUDXL",
        "outputId": "a6b4a5d8-28fd-46c6-80b4-ef05ef136471"
      },
      "execution_count": null,
      "outputs": [
        {
          "output_type": "execute_result",
          "data": {
            "text/plain": [
              "(2.9, 8000.0)"
            ]
          },
          "metadata": {},
          "execution_count": 61
        }
      ]
    },
    {
      "cell_type": "code",
      "source": [
        "# 9. Verifica el rango de cantidades vendidas\n",
        "ventas['cantidad'].min(), ventas['cantidad'].max()"
      ],
      "metadata": {
        "colab": {
          "base_uri": "https://localhost:8080/"
        },
        "id": "ijxC0UcTUDaP",
        "outputId": "aab67003-fb4f-4142-deb3-f11a09ddb683"
      },
      "execution_count": null,
      "outputs": [
        {
          "output_type": "execute_result",
          "data": {
            "text/plain": [
              "(1, 5)"
            ]
          },
          "metadata": {},
          "execution_count": 62
        }
      ]
    },
    {
      "cell_type": "code",
      "source": [
        "# 10. Verifica el rango de costos de envío\n",
        "ventas['envio'].min(), ventas['envio'].max()"
      ],
      "metadata": {
        "colab": {
          "base_uri": "https://localhost:8080/"
        },
        "id": "BCjYJdDpUDcs",
        "outputId": "c42f5a3d-d17e-4ac7-d4c9-419d58e27c88"
      },
      "execution_count": null,
      "outputs": [
        {
          "output_type": "execute_result",
          "data": {
            "text/plain": [
              "(0.0, 4521.54)"
            ]
          },
          "metadata": {},
          "execution_count": 63
        }
      ]
    },
    {
      "cell_type": "code",
      "source": [
        "# 11. Extrae el mes de la fecha de compra para posible análisis temporal\n",
        "ventas['mes'] = pd.to_datetime(ventas['fecha'], format='%Y-%m-%d')"
      ],
      "metadata": {
        "id": "Go5xmgHyUDfS"
      },
      "execution_count": null,
      "outputs": []
    },
    {
      "cell_type": "code",
      "source": [
        "# 12. Muestra la cantidad de ventas por mes\n",
        "ventas['mes'].value_counts().sort_index()"
      ],
      "metadata": {
        "colab": {
          "base_uri": "https://localhost:8080/",
          "height": 489
        },
        "id": "c8qTQuq4UNqG",
        "outputId": "22be7df6-d5ea-41dc-ab85-0062886dc635"
      },
      "execution_count": null,
      "outputs": [
        {
          "output_type": "execute_result",
          "data": {
            "text/plain": [
              "mes\n",
              "2023-01-03     9\n",
              "2023-01-04    11\n",
              "2023-01-05    10\n",
              "2023-01-06     9\n",
              "2023-01-07    11\n",
              "              ..\n",
              "2023-12-27    39\n",
              "2023-12-28    36\n",
              "2023-12-29    39\n",
              "2023-12-30    51\n",
              "2023-12-31    57\n",
              "Name: count, Length: 304, dtype: int64"
            ],
            "text/html": [
              "<div>\n",
              "<style scoped>\n",
              "    .dataframe tbody tr th:only-of-type {\n",
              "        vertical-align: middle;\n",
              "    }\n",
              "\n",
              "    .dataframe tbody tr th {\n",
              "        vertical-align: top;\n",
              "    }\n",
              "\n",
              "    .dataframe thead th {\n",
              "        text-align: right;\n",
              "    }\n",
              "</style>\n",
              "<table border=\"1\" class=\"dataframe\">\n",
              "  <thead>\n",
              "    <tr style=\"text-align: right;\">\n",
              "      <th></th>\n",
              "      <th>count</th>\n",
              "    </tr>\n",
              "    <tr>\n",
              "      <th>mes</th>\n",
              "      <th></th>\n",
              "    </tr>\n",
              "  </thead>\n",
              "  <tbody>\n",
              "    <tr>\n",
              "      <th>2023-01-03</th>\n",
              "      <td>9</td>\n",
              "    </tr>\n",
              "    <tr>\n",
              "      <th>2023-01-04</th>\n",
              "      <td>11</td>\n",
              "    </tr>\n",
              "    <tr>\n",
              "      <th>2023-01-05</th>\n",
              "      <td>10</td>\n",
              "    </tr>\n",
              "    <tr>\n",
              "      <th>2023-01-06</th>\n",
              "      <td>9</td>\n",
              "    </tr>\n",
              "    <tr>\n",
              "      <th>2023-01-07</th>\n",
              "      <td>11</td>\n",
              "    </tr>\n",
              "    <tr>\n",
              "      <th>...</th>\n",
              "      <td>...</td>\n",
              "    </tr>\n",
              "    <tr>\n",
              "      <th>2023-12-27</th>\n",
              "      <td>39</td>\n",
              "    </tr>\n",
              "    <tr>\n",
              "      <th>2023-12-28</th>\n",
              "      <td>36</td>\n",
              "    </tr>\n",
              "    <tr>\n",
              "      <th>2023-12-29</th>\n",
              "      <td>39</td>\n",
              "    </tr>\n",
              "    <tr>\n",
              "      <th>2023-12-30</th>\n",
              "      <td>51</td>\n",
              "    </tr>\n",
              "    <tr>\n",
              "      <th>2023-12-31</th>\n",
              "      <td>57</td>\n",
              "    </tr>\n",
              "  </tbody>\n",
              "</table>\n",
              "<p>304 rows × 1 columns</p>\n",
              "</div><br><label><b>dtype:</b> int64</label>"
            ]
          },
          "metadata": {},
          "execution_count": 65
        }
      ]
    },
    {
      "cell_type": "code",
      "source": [
        "# 13. Muestra la matriz de correlación entre variables numéricas (precio, cantidad, envío)\n",
        "ventas.corr(numeric_only=True)"
      ],
      "metadata": {
        "colab": {
          "base_uri": "https://localhost:8080/",
          "height": 174
        },
        "id": "t60AZ-92UNuT",
        "outputId": "9a00df2f-bf26-435f-c028-32d6c18f326b"
      },
      "execution_count": null,
      "outputs": [
        {
          "output_type": "execute_result",
          "data": {
            "text/plain": [
              "                 ID_compra  precio_unitario  cantidad     envio\n",
              "ID_compra         1.000000         0.026115 -0.001584  0.014037\n",
              "precio_unitario   0.026115         1.000000  0.003469  0.692993\n",
              "cantidad         -0.001584         0.003469  1.000000  0.158898\n",
              "envio             0.014037         0.692993  0.158898  1.000000"
            ],
            "text/html": [
              "\n",
              "  <div id=\"df-9e4c80b6-3aed-42d8-8063-0cccbe152077\" class=\"colab-df-container\">\n",
              "    <div>\n",
              "<style scoped>\n",
              "    .dataframe tbody tr th:only-of-type {\n",
              "        vertical-align: middle;\n",
              "    }\n",
              "\n",
              "    .dataframe tbody tr th {\n",
              "        vertical-align: top;\n",
              "    }\n",
              "\n",
              "    .dataframe thead th {\n",
              "        text-align: right;\n",
              "    }\n",
              "</style>\n",
              "<table border=\"1\" class=\"dataframe\">\n",
              "  <thead>\n",
              "    <tr style=\"text-align: right;\">\n",
              "      <th></th>\n",
              "      <th>ID_compra</th>\n",
              "      <th>precio_unitario</th>\n",
              "      <th>cantidad</th>\n",
              "      <th>envio</th>\n",
              "    </tr>\n",
              "  </thead>\n",
              "  <tbody>\n",
              "    <tr>\n",
              "      <th>ID_compra</th>\n",
              "      <td>1.000000</td>\n",
              "      <td>0.026115</td>\n",
              "      <td>-0.001584</td>\n",
              "      <td>0.014037</td>\n",
              "    </tr>\n",
              "    <tr>\n",
              "      <th>precio_unitario</th>\n",
              "      <td>0.026115</td>\n",
              "      <td>1.000000</td>\n",
              "      <td>0.003469</td>\n",
              "      <td>0.692993</td>\n",
              "    </tr>\n",
              "    <tr>\n",
              "      <th>cantidad</th>\n",
              "      <td>-0.001584</td>\n",
              "      <td>0.003469</td>\n",
              "      <td>1.000000</td>\n",
              "      <td>0.158898</td>\n",
              "    </tr>\n",
              "    <tr>\n",
              "      <th>envio</th>\n",
              "      <td>0.014037</td>\n",
              "      <td>0.692993</td>\n",
              "      <td>0.158898</td>\n",
              "      <td>1.000000</td>\n",
              "    </tr>\n",
              "  </tbody>\n",
              "</table>\n",
              "</div>\n",
              "    <div class=\"colab-df-buttons\">\n",
              "\n",
              "  <div class=\"colab-df-container\">\n",
              "    <button class=\"colab-df-convert\" onclick=\"convertToInteractive('df-9e4c80b6-3aed-42d8-8063-0cccbe152077')\"\n",
              "            title=\"Convert this dataframe to an interactive table.\"\n",
              "            style=\"display:none;\">\n",
              "\n",
              "  <svg xmlns=\"http://www.w3.org/2000/svg\" height=\"24px\" viewBox=\"0 -960 960 960\">\n",
              "    <path d=\"M120-120v-720h720v720H120Zm60-500h600v-160H180v160Zm220 220h160v-160H400v160Zm0 220h160v-160H400v160ZM180-400h160v-160H180v160Zm440 0h160v-160H620v160ZM180-180h160v-160H180v160Zm440 0h160v-160H620v160Z\"/>\n",
              "  </svg>\n",
              "    </button>\n",
              "\n",
              "  <style>\n",
              "    .colab-df-container {\n",
              "      display:flex;\n",
              "      gap: 12px;\n",
              "    }\n",
              "\n",
              "    .colab-df-convert {\n",
              "      background-color: #E8F0FE;\n",
              "      border: none;\n",
              "      border-radius: 50%;\n",
              "      cursor: pointer;\n",
              "      display: none;\n",
              "      fill: #1967D2;\n",
              "      height: 32px;\n",
              "      padding: 0 0 0 0;\n",
              "      width: 32px;\n",
              "    }\n",
              "\n",
              "    .colab-df-convert:hover {\n",
              "      background-color: #E2EBFA;\n",
              "      box-shadow: 0px 1px 2px rgba(60, 64, 67, 0.3), 0px 1px 3px 1px rgba(60, 64, 67, 0.15);\n",
              "      fill: #174EA6;\n",
              "    }\n",
              "\n",
              "    .colab-df-buttons div {\n",
              "      margin-bottom: 4px;\n",
              "    }\n",
              "\n",
              "    [theme=dark] .colab-df-convert {\n",
              "      background-color: #3B4455;\n",
              "      fill: #D2E3FC;\n",
              "    }\n",
              "\n",
              "    [theme=dark] .colab-df-convert:hover {\n",
              "      background-color: #434B5C;\n",
              "      box-shadow: 0px 1px 3px 1px rgba(0, 0, 0, 0.15);\n",
              "      filter: drop-shadow(0px 1px 2px rgba(0, 0, 0, 0.3));\n",
              "      fill: #FFFFFF;\n",
              "    }\n",
              "  </style>\n",
              "\n",
              "    <script>\n",
              "      const buttonEl =\n",
              "        document.querySelector('#df-9e4c80b6-3aed-42d8-8063-0cccbe152077 button.colab-df-convert');\n",
              "      buttonEl.style.display =\n",
              "        google.colab.kernel.accessAllowed ? 'block' : 'none';\n",
              "\n",
              "      async function convertToInteractive(key) {\n",
              "        const element = document.querySelector('#df-9e4c80b6-3aed-42d8-8063-0cccbe152077');\n",
              "        const dataTable =\n",
              "          await google.colab.kernel.invokeFunction('convertToInteractive',\n",
              "                                                    [key], {});\n",
              "        if (!dataTable) return;\n",
              "\n",
              "        const docLinkHtml = 'Like what you see? Visit the ' +\n",
              "          '<a target=\"_blank\" href=https://colab.research.google.com/notebooks/data_table.ipynb>data table notebook</a>'\n",
              "          + ' to learn more about interactive tables.';\n",
              "        element.innerHTML = '';\n",
              "        dataTable['output_type'] = 'display_data';\n",
              "        await google.colab.output.renderOutput(dataTable, element);\n",
              "        const docLink = document.createElement('div');\n",
              "        docLink.innerHTML = docLinkHtml;\n",
              "        element.appendChild(docLink);\n",
              "      }\n",
              "    </script>\n",
              "  </div>\n",
              "\n",
              "\n",
              "    <div id=\"df-d771cec3-c3a1-4e8f-9902-c24b07fc3834\">\n",
              "      <button class=\"colab-df-quickchart\" onclick=\"quickchart('df-d771cec3-c3a1-4e8f-9902-c24b07fc3834')\"\n",
              "                title=\"Suggest charts\"\n",
              "                style=\"display:none;\">\n",
              "\n",
              "<svg xmlns=\"http://www.w3.org/2000/svg\" height=\"24px\"viewBox=\"0 0 24 24\"\n",
              "     width=\"24px\">\n",
              "    <g>\n",
              "        <path d=\"M19 3H5c-1.1 0-2 .9-2 2v14c0 1.1.9 2 2 2h14c1.1 0 2-.9 2-2V5c0-1.1-.9-2-2-2zM9 17H7v-7h2v7zm4 0h-2V7h2v10zm4 0h-2v-4h2v4z\"/>\n",
              "    </g>\n",
              "</svg>\n",
              "      </button>\n",
              "\n",
              "<style>\n",
              "  .colab-df-quickchart {\n",
              "      --bg-color: #E8F0FE;\n",
              "      --fill-color: #1967D2;\n",
              "      --hover-bg-color: #E2EBFA;\n",
              "      --hover-fill-color: #174EA6;\n",
              "      --disabled-fill-color: #AAA;\n",
              "      --disabled-bg-color: #DDD;\n",
              "  }\n",
              "\n",
              "  [theme=dark] .colab-df-quickchart {\n",
              "      --bg-color: #3B4455;\n",
              "      --fill-color: #D2E3FC;\n",
              "      --hover-bg-color: #434B5C;\n",
              "      --hover-fill-color: #FFFFFF;\n",
              "      --disabled-bg-color: #3B4455;\n",
              "      --disabled-fill-color: #666;\n",
              "  }\n",
              "\n",
              "  .colab-df-quickchart {\n",
              "    background-color: var(--bg-color);\n",
              "    border: none;\n",
              "    border-radius: 50%;\n",
              "    cursor: pointer;\n",
              "    display: none;\n",
              "    fill: var(--fill-color);\n",
              "    height: 32px;\n",
              "    padding: 0;\n",
              "    width: 32px;\n",
              "  }\n",
              "\n",
              "  .colab-df-quickchart:hover {\n",
              "    background-color: var(--hover-bg-color);\n",
              "    box-shadow: 0 1px 2px rgba(60, 64, 67, 0.3), 0 1px 3px 1px rgba(60, 64, 67, 0.15);\n",
              "    fill: var(--button-hover-fill-color);\n",
              "  }\n",
              "\n",
              "  .colab-df-quickchart-complete:disabled,\n",
              "  .colab-df-quickchart-complete:disabled:hover {\n",
              "    background-color: var(--disabled-bg-color);\n",
              "    fill: var(--disabled-fill-color);\n",
              "    box-shadow: none;\n",
              "  }\n",
              "\n",
              "  .colab-df-spinner {\n",
              "    border: 2px solid var(--fill-color);\n",
              "    border-color: transparent;\n",
              "    border-bottom-color: var(--fill-color);\n",
              "    animation:\n",
              "      spin 1s steps(1) infinite;\n",
              "  }\n",
              "\n",
              "  @keyframes spin {\n",
              "    0% {\n",
              "      border-color: transparent;\n",
              "      border-bottom-color: var(--fill-color);\n",
              "      border-left-color: var(--fill-color);\n",
              "    }\n",
              "    20% {\n",
              "      border-color: transparent;\n",
              "      border-left-color: var(--fill-color);\n",
              "      border-top-color: var(--fill-color);\n",
              "    }\n",
              "    30% {\n",
              "      border-color: transparent;\n",
              "      border-left-color: var(--fill-color);\n",
              "      border-top-color: var(--fill-color);\n",
              "      border-right-color: var(--fill-color);\n",
              "    }\n",
              "    40% {\n",
              "      border-color: transparent;\n",
              "      border-right-color: var(--fill-color);\n",
              "      border-top-color: var(--fill-color);\n",
              "    }\n",
              "    60% {\n",
              "      border-color: transparent;\n",
              "      border-right-color: var(--fill-color);\n",
              "    }\n",
              "    80% {\n",
              "      border-color: transparent;\n",
              "      border-right-color: var(--fill-color);\n",
              "      border-bottom-color: var(--fill-color);\n",
              "    }\n",
              "    90% {\n",
              "      border-color: transparent;\n",
              "      border-bottom-color: var(--fill-color);\n",
              "    }\n",
              "  }\n",
              "</style>\n",
              "\n",
              "      <script>\n",
              "        async function quickchart(key) {\n",
              "          const quickchartButtonEl =\n",
              "            document.querySelector('#' + key + ' button');\n",
              "          quickchartButtonEl.disabled = true;  // To prevent multiple clicks.\n",
              "          quickchartButtonEl.classList.add('colab-df-spinner');\n",
              "          try {\n",
              "            const charts = await google.colab.kernel.invokeFunction(\n",
              "                'suggestCharts', [key], {});\n",
              "          } catch (error) {\n",
              "            console.error('Error during call to suggestCharts:', error);\n",
              "          }\n",
              "          quickchartButtonEl.classList.remove('colab-df-spinner');\n",
              "          quickchartButtonEl.classList.add('colab-df-quickchart-complete');\n",
              "        }\n",
              "        (() => {\n",
              "          let quickchartButtonEl =\n",
              "            document.querySelector('#df-d771cec3-c3a1-4e8f-9902-c24b07fc3834 button');\n",
              "          quickchartButtonEl.style.display =\n",
              "            google.colab.kernel.accessAllowed ? 'block' : 'none';\n",
              "        })();\n",
              "      </script>\n",
              "    </div>\n",
              "\n",
              "    </div>\n",
              "  </div>\n"
            ],
            "application/vnd.google.colaboratory.intrinsic+json": {
              "type": "dataframe",
              "summary": "{\n  \"name\": \"ventas\",\n  \"rows\": 4,\n  \"fields\": [\n    {\n      \"column\": \"ID_compra\",\n      \"properties\": {\n        \"dtype\": \"number\",\n        \"std\": 0.493702348269306,\n        \"min\": -0.0015840538607332312,\n        \"max\": 1.0,\n        \"num_unique_values\": 4,\n        \"samples\": [\n          0.02611452593076844,\n          0.01403677706038936,\n          1.0\n        ],\n        \"semantic_type\": \"\",\n        \"description\": \"\"\n      }\n    },\n    {\n      \"column\": \"precio_unitario\",\n      \"properties\": {\n        \"dtype\": \"number\",\n        \"std\": 0.4963586609019289,\n        \"min\": 0.0034690519151064723,\n        \"max\": 1.0,\n        \"num_unique_values\": 4,\n        \"samples\": [\n          1.0,\n          0.6929929553230177,\n          0.02611452593076844\n        ],\n        \"semantic_type\": \"\",\n        \"description\": \"\"\n      }\n    },\n    {\n      \"column\": \"cantidad\",\n      \"properties\": {\n        \"dtype\": \"number\",\n        \"std\": 0.47902981988240395,\n        \"min\": -0.0015840538607332312,\n        \"max\": 1.0,\n        \"num_unique_values\": 4,\n        \"samples\": [\n          0.0034690519151064723,\n          0.1588984600202697,\n          -0.0015840538607332312\n        ],\n        \"semantic_type\": \"\",\n        \"description\": \"\"\n      }\n    },\n    {\n      \"column\": \"envio\",\n      \"properties\": {\n        \"dtype\": \"number\",\n        \"std\": 0.46016771690065106,\n        \"min\": 0.01403677706038936,\n        \"max\": 1.0,\n        \"num_unique_values\": 4,\n        \"samples\": [\n          0.6929929553230177,\n          1.0,\n          0.01403677706038936\n        ],\n        \"semantic_type\": \"\",\n        \"description\": \"\"\n      }\n    }\n  ]\n}"
            }
          },
          "metadata": {},
          "execution_count": 66
        }
      ]
    },
    {
      "cell_type": "code",
      "source": [],
      "metadata": {
        "id": "kdOgl_5DVfXl"
      },
      "execution_count": null,
      "outputs": []
    },
    {
      "cell_type": "markdown",
      "source": [
        "## **1.4 - Tipos de gráficos**\n",
        "\n",
        "---\n"
      ],
      "metadata": {
        "id": "0JlV1G5ST0ij"
      }
    },
    {
      "cell_type": "markdown",
      "source": [
        "Ya hemos explorado un poco de las dos bases del proyecto y obtuvimos algunos insights interesantes que pueden ser importantes en la construcción de nuestras visualizaciones.\n",
        "\n",
        "Ahora, intentemos simplificar nuestro análisis consolidando los datos en una única tabla para, a partir de ahí, enfocarnos en las posibilidades de visuales combinando los datos. ¿Podrá GPT ayudarnos aquí?"
      ],
      "metadata": {
        "id": "viFLQ7iIT9Lk"
      }
    },
    {
      "cell_type": "markdown",
      "source": [
        "> #### <strong><font color=\"7b71ff\" size =6>Prompt:</font></strong>\n",
        "\n",
        "Ahora vamos a unir las dos bases de nuestro proyecto en una sola utilizando como llave la columna \"ID_compra\". Además, organizaremos las columnas en la siguiente secuencia:\n",
        "\n",
        "* ID_compra\n",
        "* fecha\n",
        "* horario\n",
        "* categoria\n",
        "* precio_unitario\n",
        "* cantidad\n",
        "* envio\n",
        "* metodo_pago\n",
        "* ID_cliente\n",
        "* edad\n",
        "* sexo_biologico\n",
        "* ciudad\n",
        "* estado\n",
        "* region\n",
        "* cashback\n",
        "* nota\n",
        "\n",
        "Construye un código para ejecutar esta etapa usando Python y la biblioteca Pandas.\n"
      ],
      "metadata": {
        "id": "Q9msYRqEUh6B"
      }
    },
    {
      "cell_type": "code",
      "source": [
        "import pandas as pd\n",
        "\n",
        "# 1. Unir los DataFrames \"ventas\" y \"clientes\" usando \"ID_compra\" como llave (join)\n",
        "df = pd.merge(ventas, clientes, on='ID_compra', how='inner')\n",
        "\n",
        "# 3. Reordenar las columnas en el orden especificado\n",
        "columnas_ordenadas = [\n",
        "    'ID_compra', 'fecha', 'horario', 'categoria', 'precio_unitario', 'cantidad',\n",
        "    'envio', 'metodo_pago', 'ID_cliente', 'edad', 'sexo_biologico', 'ciudad',\n",
        "    'estado', 'region', 'cashback', 'nota'\n",
        "]\n",
        "df = df[columnas_ordenadas]"
      ],
      "metadata": {
        "id": "Xnt5nQnX-kuS"
      },
      "execution_count": null,
      "outputs": []
    },
    {
      "cell_type": "code",
      "source": [
        "df.head()"
      ],
      "metadata": {
        "id": "OxWC_J80-kmI",
        "colab": {
          "base_uri": "https://localhost:8080/",
          "height": 347
        },
        "outputId": "a9585a70-161c-471d-a017-755115c88cfd"
      },
      "execution_count": null,
      "outputs": [
        {
          "output_type": "execute_result",
          "data": {
            "text/plain": [
              "   ID_compra       fecha horario                    categoria  \\\n",
              "0          6  2023-01-03   20:40                 Electrónicos   \n",
              "1          5  2023-01-03   21:48  Herramientas y construcción   \n",
              "2          9  2023-01-03   17:08            Belleza e higiene   \n",
              "3          4  2023-01-03   14:29  Herramientas y construcción   \n",
              "4          8  2023-01-03   18:02            Belleza e higiene   \n",
              "\n",
              "   precio_unitario  cantidad   envio         metodo_pago  ID_cliente  edad  \\\n",
              "0           4457.9         4  713.26              Paypal        6149    30   \n",
              "1            115.9         1    0.00       Transferencia        9491    36   \n",
              "2             68.9         2   13.78  Tarjeta de Crédito        5288    39   \n",
              "3             80.9         5   40.45       Transferencia        9679    35   \n",
              "4            165.0         4    0.00       Transferencia        1380    50   \n",
              "\n",
              "  sexo_biologico            ciudad            estado        region cashback  \\\n",
              "0      Masculino        Hermosillo            Sonora      Noroeste       Sí   \n",
              "1      Masculino  Ciudad de México  Ciudad de México        Centro       Sí   \n",
              "2       Femenino    Aguascalientes    Aguascalientes  Centro-Norte       No   \n",
              "3      Masculino          Veracruz          Veracruz         Golfo       Sí   \n",
              "4      Masculino  Ciudad de México  Ciudad de México        Centro       No   \n",
              "\n",
              "   nota  \n",
              "0    10  \n",
              "1     8  \n",
              "2     7  \n",
              "3     9  \n",
              "4     9  "
            ],
            "text/html": [
              "\n",
              "  <div id=\"df-30c61ac2-6207-4cbc-b21e-8a7f5490861e\" class=\"colab-df-container\">\n",
              "    <div>\n",
              "<style scoped>\n",
              "    .dataframe tbody tr th:only-of-type {\n",
              "        vertical-align: middle;\n",
              "    }\n",
              "\n",
              "    .dataframe tbody tr th {\n",
              "        vertical-align: top;\n",
              "    }\n",
              "\n",
              "    .dataframe thead th {\n",
              "        text-align: right;\n",
              "    }\n",
              "</style>\n",
              "<table border=\"1\" class=\"dataframe\">\n",
              "  <thead>\n",
              "    <tr style=\"text-align: right;\">\n",
              "      <th></th>\n",
              "      <th>ID_compra</th>\n",
              "      <th>fecha</th>\n",
              "      <th>horario</th>\n",
              "      <th>categoria</th>\n",
              "      <th>precio_unitario</th>\n",
              "      <th>cantidad</th>\n",
              "      <th>envio</th>\n",
              "      <th>metodo_pago</th>\n",
              "      <th>ID_cliente</th>\n",
              "      <th>edad</th>\n",
              "      <th>sexo_biologico</th>\n",
              "      <th>ciudad</th>\n",
              "      <th>estado</th>\n",
              "      <th>region</th>\n",
              "      <th>cashback</th>\n",
              "      <th>nota</th>\n",
              "    </tr>\n",
              "  </thead>\n",
              "  <tbody>\n",
              "    <tr>\n",
              "      <th>0</th>\n",
              "      <td>6</td>\n",
              "      <td>2023-01-03</td>\n",
              "      <td>20:40</td>\n",
              "      <td>Electrónicos</td>\n",
              "      <td>4457.9</td>\n",
              "      <td>4</td>\n",
              "      <td>713.26</td>\n",
              "      <td>Paypal</td>\n",
              "      <td>6149</td>\n",
              "      <td>30</td>\n",
              "      <td>Masculino</td>\n",
              "      <td>Hermosillo</td>\n",
              "      <td>Sonora</td>\n",
              "      <td>Noroeste</td>\n",
              "      <td>Sí</td>\n",
              "      <td>10</td>\n",
              "    </tr>\n",
              "    <tr>\n",
              "      <th>1</th>\n",
              "      <td>5</td>\n",
              "      <td>2023-01-03</td>\n",
              "      <td>21:48</td>\n",
              "      <td>Herramientas y construcción</td>\n",
              "      <td>115.9</td>\n",
              "      <td>1</td>\n",
              "      <td>0.00</td>\n",
              "      <td>Transferencia</td>\n",
              "      <td>9491</td>\n",
              "      <td>36</td>\n",
              "      <td>Masculino</td>\n",
              "      <td>Ciudad de México</td>\n",
              "      <td>Ciudad de México</td>\n",
              "      <td>Centro</td>\n",
              "      <td>Sí</td>\n",
              "      <td>8</td>\n",
              "    </tr>\n",
              "    <tr>\n",
              "      <th>2</th>\n",
              "      <td>9</td>\n",
              "      <td>2023-01-03</td>\n",
              "      <td>17:08</td>\n",
              "      <td>Belleza e higiene</td>\n",
              "      <td>68.9</td>\n",
              "      <td>2</td>\n",
              "      <td>13.78</td>\n",
              "      <td>Tarjeta de Crédito</td>\n",
              "      <td>5288</td>\n",
              "      <td>39</td>\n",
              "      <td>Femenino</td>\n",
              "      <td>Aguascalientes</td>\n",
              "      <td>Aguascalientes</td>\n",
              "      <td>Centro-Norte</td>\n",
              "      <td>No</td>\n",
              "      <td>7</td>\n",
              "    </tr>\n",
              "    <tr>\n",
              "      <th>3</th>\n",
              "      <td>4</td>\n",
              "      <td>2023-01-03</td>\n",
              "      <td>14:29</td>\n",
              "      <td>Herramientas y construcción</td>\n",
              "      <td>80.9</td>\n",
              "      <td>5</td>\n",
              "      <td>40.45</td>\n",
              "      <td>Transferencia</td>\n",
              "      <td>9679</td>\n",
              "      <td>35</td>\n",
              "      <td>Masculino</td>\n",
              "      <td>Veracruz</td>\n",
              "      <td>Veracruz</td>\n",
              "      <td>Golfo</td>\n",
              "      <td>Sí</td>\n",
              "      <td>9</td>\n",
              "    </tr>\n",
              "    <tr>\n",
              "      <th>4</th>\n",
              "      <td>8</td>\n",
              "      <td>2023-01-03</td>\n",
              "      <td>18:02</td>\n",
              "      <td>Belleza e higiene</td>\n",
              "      <td>165.0</td>\n",
              "      <td>4</td>\n",
              "      <td>0.00</td>\n",
              "      <td>Transferencia</td>\n",
              "      <td>1380</td>\n",
              "      <td>50</td>\n",
              "      <td>Masculino</td>\n",
              "      <td>Ciudad de México</td>\n",
              "      <td>Ciudad de México</td>\n",
              "      <td>Centro</td>\n",
              "      <td>No</td>\n",
              "      <td>9</td>\n",
              "    </tr>\n",
              "  </tbody>\n",
              "</table>\n",
              "</div>\n",
              "    <div class=\"colab-df-buttons\">\n",
              "\n",
              "  <div class=\"colab-df-container\">\n",
              "    <button class=\"colab-df-convert\" onclick=\"convertToInteractive('df-30c61ac2-6207-4cbc-b21e-8a7f5490861e')\"\n",
              "            title=\"Convert this dataframe to an interactive table.\"\n",
              "            style=\"display:none;\">\n",
              "\n",
              "  <svg xmlns=\"http://www.w3.org/2000/svg\" height=\"24px\" viewBox=\"0 -960 960 960\">\n",
              "    <path d=\"M120-120v-720h720v720H120Zm60-500h600v-160H180v160Zm220 220h160v-160H400v160Zm0 220h160v-160H400v160ZM180-400h160v-160H180v160Zm440 0h160v-160H620v160ZM180-180h160v-160H180v160Zm440 0h160v-160H620v160Z\"/>\n",
              "  </svg>\n",
              "    </button>\n",
              "\n",
              "  <style>\n",
              "    .colab-df-container {\n",
              "      display:flex;\n",
              "      gap: 12px;\n",
              "    }\n",
              "\n",
              "    .colab-df-convert {\n",
              "      background-color: #E8F0FE;\n",
              "      border: none;\n",
              "      border-radius: 50%;\n",
              "      cursor: pointer;\n",
              "      display: none;\n",
              "      fill: #1967D2;\n",
              "      height: 32px;\n",
              "      padding: 0 0 0 0;\n",
              "      width: 32px;\n",
              "    }\n",
              "\n",
              "    .colab-df-convert:hover {\n",
              "      background-color: #E2EBFA;\n",
              "      box-shadow: 0px 1px 2px rgba(60, 64, 67, 0.3), 0px 1px 3px 1px rgba(60, 64, 67, 0.15);\n",
              "      fill: #174EA6;\n",
              "    }\n",
              "\n",
              "    .colab-df-buttons div {\n",
              "      margin-bottom: 4px;\n",
              "    }\n",
              "\n",
              "    [theme=dark] .colab-df-convert {\n",
              "      background-color: #3B4455;\n",
              "      fill: #D2E3FC;\n",
              "    }\n",
              "\n",
              "    [theme=dark] .colab-df-convert:hover {\n",
              "      background-color: #434B5C;\n",
              "      box-shadow: 0px 1px 3px 1px rgba(0, 0, 0, 0.15);\n",
              "      filter: drop-shadow(0px 1px 2px rgba(0, 0, 0, 0.3));\n",
              "      fill: #FFFFFF;\n",
              "    }\n",
              "  </style>\n",
              "\n",
              "    <script>\n",
              "      const buttonEl =\n",
              "        document.querySelector('#df-30c61ac2-6207-4cbc-b21e-8a7f5490861e button.colab-df-convert');\n",
              "      buttonEl.style.display =\n",
              "        google.colab.kernel.accessAllowed ? 'block' : 'none';\n",
              "\n",
              "      async function convertToInteractive(key) {\n",
              "        const element = document.querySelector('#df-30c61ac2-6207-4cbc-b21e-8a7f5490861e');\n",
              "        const dataTable =\n",
              "          await google.colab.kernel.invokeFunction('convertToInteractive',\n",
              "                                                    [key], {});\n",
              "        if (!dataTable) return;\n",
              "\n",
              "        const docLinkHtml = 'Like what you see? Visit the ' +\n",
              "          '<a target=\"_blank\" href=https://colab.research.google.com/notebooks/data_table.ipynb>data table notebook</a>'\n",
              "          + ' to learn more about interactive tables.';\n",
              "        element.innerHTML = '';\n",
              "        dataTable['output_type'] = 'display_data';\n",
              "        await google.colab.output.renderOutput(dataTable, element);\n",
              "        const docLink = document.createElement('div');\n",
              "        docLink.innerHTML = docLinkHtml;\n",
              "        element.appendChild(docLink);\n",
              "      }\n",
              "    </script>\n",
              "  </div>\n",
              "\n",
              "\n",
              "    <div id=\"df-d509b812-43e3-44c0-a5ba-3d8e4cdbba6c\">\n",
              "      <button class=\"colab-df-quickchart\" onclick=\"quickchart('df-d509b812-43e3-44c0-a5ba-3d8e4cdbba6c')\"\n",
              "                title=\"Suggest charts\"\n",
              "                style=\"display:none;\">\n",
              "\n",
              "<svg xmlns=\"http://www.w3.org/2000/svg\" height=\"24px\"viewBox=\"0 0 24 24\"\n",
              "     width=\"24px\">\n",
              "    <g>\n",
              "        <path d=\"M19 3H5c-1.1 0-2 .9-2 2v14c0 1.1.9 2 2 2h14c1.1 0 2-.9 2-2V5c0-1.1-.9-2-2-2zM9 17H7v-7h2v7zm4 0h-2V7h2v10zm4 0h-2v-4h2v4z\"/>\n",
              "    </g>\n",
              "</svg>\n",
              "      </button>\n",
              "\n",
              "<style>\n",
              "  .colab-df-quickchart {\n",
              "      --bg-color: #E8F0FE;\n",
              "      --fill-color: #1967D2;\n",
              "      --hover-bg-color: #E2EBFA;\n",
              "      --hover-fill-color: #174EA6;\n",
              "      --disabled-fill-color: #AAA;\n",
              "      --disabled-bg-color: #DDD;\n",
              "  }\n",
              "\n",
              "  [theme=dark] .colab-df-quickchart {\n",
              "      --bg-color: #3B4455;\n",
              "      --fill-color: #D2E3FC;\n",
              "      --hover-bg-color: #434B5C;\n",
              "      --hover-fill-color: #FFFFFF;\n",
              "      --disabled-bg-color: #3B4455;\n",
              "      --disabled-fill-color: #666;\n",
              "  }\n",
              "\n",
              "  .colab-df-quickchart {\n",
              "    background-color: var(--bg-color);\n",
              "    border: none;\n",
              "    border-radius: 50%;\n",
              "    cursor: pointer;\n",
              "    display: none;\n",
              "    fill: var(--fill-color);\n",
              "    height: 32px;\n",
              "    padding: 0;\n",
              "    width: 32px;\n",
              "  }\n",
              "\n",
              "  .colab-df-quickchart:hover {\n",
              "    background-color: var(--hover-bg-color);\n",
              "    box-shadow: 0 1px 2px rgba(60, 64, 67, 0.3), 0 1px 3px 1px rgba(60, 64, 67, 0.15);\n",
              "    fill: var(--button-hover-fill-color);\n",
              "  }\n",
              "\n",
              "  .colab-df-quickchart-complete:disabled,\n",
              "  .colab-df-quickchart-complete:disabled:hover {\n",
              "    background-color: var(--disabled-bg-color);\n",
              "    fill: var(--disabled-fill-color);\n",
              "    box-shadow: none;\n",
              "  }\n",
              "\n",
              "  .colab-df-spinner {\n",
              "    border: 2px solid var(--fill-color);\n",
              "    border-color: transparent;\n",
              "    border-bottom-color: var(--fill-color);\n",
              "    animation:\n",
              "      spin 1s steps(1) infinite;\n",
              "  }\n",
              "\n",
              "  @keyframes spin {\n",
              "    0% {\n",
              "      border-color: transparent;\n",
              "      border-bottom-color: var(--fill-color);\n",
              "      border-left-color: var(--fill-color);\n",
              "    }\n",
              "    20% {\n",
              "      border-color: transparent;\n",
              "      border-left-color: var(--fill-color);\n",
              "      border-top-color: var(--fill-color);\n",
              "    }\n",
              "    30% {\n",
              "      border-color: transparent;\n",
              "      border-left-color: var(--fill-color);\n",
              "      border-top-color: var(--fill-color);\n",
              "      border-right-color: var(--fill-color);\n",
              "    }\n",
              "    40% {\n",
              "      border-color: transparent;\n",
              "      border-right-color: var(--fill-color);\n",
              "      border-top-color: var(--fill-color);\n",
              "    }\n",
              "    60% {\n",
              "      border-color: transparent;\n",
              "      border-right-color: var(--fill-color);\n",
              "    }\n",
              "    80% {\n",
              "      border-color: transparent;\n",
              "      border-right-color: var(--fill-color);\n",
              "      border-bottom-color: var(--fill-color);\n",
              "    }\n",
              "    90% {\n",
              "      border-color: transparent;\n",
              "      border-bottom-color: var(--fill-color);\n",
              "    }\n",
              "  }\n",
              "</style>\n",
              "\n",
              "      <script>\n",
              "        async function quickchart(key) {\n",
              "          const quickchartButtonEl =\n",
              "            document.querySelector('#' + key + ' button');\n",
              "          quickchartButtonEl.disabled = true;  // To prevent multiple clicks.\n",
              "          quickchartButtonEl.classList.add('colab-df-spinner');\n",
              "          try {\n",
              "            const charts = await google.colab.kernel.invokeFunction(\n",
              "                'suggestCharts', [key], {});\n",
              "          } catch (error) {\n",
              "            console.error('Error during call to suggestCharts:', error);\n",
              "          }\n",
              "          quickchartButtonEl.classList.remove('colab-df-spinner');\n",
              "          quickchartButtonEl.classList.add('colab-df-quickchart-complete');\n",
              "        }\n",
              "        (() => {\n",
              "          let quickchartButtonEl =\n",
              "            document.querySelector('#df-d509b812-43e3-44c0-a5ba-3d8e4cdbba6c button');\n",
              "          quickchartButtonEl.style.display =\n",
              "            google.colab.kernel.accessAllowed ? 'block' : 'none';\n",
              "        })();\n",
              "      </script>\n",
              "    </div>\n",
              "\n",
              "    </div>\n",
              "  </div>\n"
            ],
            "application/vnd.google.colaboratory.intrinsic+json": {
              "type": "dataframe",
              "variable_name": "df",
              "summary": "{\n  \"name\": \"df\",\n  \"rows\": 6169,\n  \"fields\": [\n    {\n      \"column\": \"ID_compra\",\n      \"properties\": {\n        \"dtype\": \"number\",\n        \"std\": 1780,\n        \"min\": 1,\n        \"max\": 6169,\n        \"num_unique_values\": 6169,\n        \"samples\": [\n          5998,\n          409,\n          1489\n        ],\n        \"semantic_type\": \"\",\n        \"description\": \"\"\n      }\n    },\n    {\n      \"column\": \"fecha\",\n      \"properties\": {\n        \"dtype\": \"object\",\n        \"num_unique_values\": 304,\n        \"samples\": [\n          \"2023-08-05\",\n          \"2023-07-06\",\n          \"2023-05-17\"\n        ],\n        \"semantic_type\": \"\",\n        \"description\": \"\"\n      }\n    },\n    {\n      \"column\": \"horario\",\n      \"properties\": {\n        \"dtype\": \"object\",\n        \"num_unique_values\": 659,\n        \"samples\": [\n          \"19:04\",\n          \"21:53\",\n          \"21:42\"\n        ],\n        \"semantic_type\": \"\",\n        \"description\": \"\"\n      }\n    },\n    {\n      \"column\": \"categoria\",\n      \"properties\": {\n        \"dtype\": \"category\",\n        \"num_unique_values\": 8,\n        \"samples\": [\n          \"Herramientas y construcci\\u00f3n\",\n          \"Libros\",\n          \"Electr\\u00f3nicos\"\n        ],\n        \"semantic_type\": \"\",\n        \"description\": \"\"\n      }\n    },\n    {\n      \"column\": \"precio_unitario\",\n      \"properties\": {\n        \"dtype\": \"number\",\n        \"std\": 1852.0643423194142,\n        \"min\": 2.9,\n        \"max\": 8000.0,\n        \"num_unique_values\": 1655,\n        \"samples\": [\n          6291.9,\n          52.9,\n          31.0\n        ],\n        \"semantic_type\": \"\",\n        \"description\": \"\"\n      }\n    },\n    {\n      \"column\": \"cantidad\",\n      \"properties\": {\n        \"dtype\": \"number\",\n        \"std\": 1,\n        \"min\": 1,\n        \"max\": 5,\n        \"num_unique_values\": 5,\n        \"samples\": [\n          1,\n          3,\n          2\n        ],\n        \"semantic_type\": \"\",\n        \"description\": \"\"\n      }\n    },\n    {\n      \"column\": \"envio\",\n      \"properties\": {\n        \"dtype\": \"number\",\n        \"std\": 366.14922483792856,\n        \"min\": 0.0,\n        \"max\": 4521.54,\n        \"num_unique_values\": 2934,\n        \"samples\": [\n          30.58,\n          21.21,\n          14.23\n        ],\n        \"semantic_type\": \"\",\n        \"description\": \"\"\n      }\n    },\n    {\n      \"column\": \"metodo_pago\",\n      \"properties\": {\n        \"dtype\": \"category\",\n        \"num_unique_values\": 4,\n        \"samples\": [\n          \"Transferencia\",\n          \"Tarjeta de D\\u00e9bito\",\n          \"Paypal\"\n        ],\n        \"semantic_type\": \"\",\n        \"description\": \"\"\n      }\n    },\n    {\n      \"column\": \"ID_cliente\",\n      \"properties\": {\n        \"dtype\": \"number\",\n        \"std\": 2610,\n        \"min\": 1005,\n        \"max\": 9999,\n        \"num_unique_values\": 4453,\n        \"samples\": [\n          7826,\n          3212,\n          2734\n        ],\n        \"semantic_type\": \"\",\n        \"description\": \"\"\n      }\n    },\n    {\n      \"column\": \"edad\",\n      \"properties\": {\n        \"dtype\": \"number\",\n        \"std\": 9,\n        \"min\": 18,\n        \"max\": 70,\n        \"num_unique_values\": 53,\n        \"samples\": [\n          47,\n          20,\n          70\n        ],\n        \"semantic_type\": \"\",\n        \"description\": \"\"\n      }\n    },\n    {\n      \"column\": \"sexo_biologico\",\n      \"properties\": {\n        \"dtype\": \"category\",\n        \"num_unique_values\": 2,\n        \"samples\": [\n          \"Femenino\",\n          \"Masculino\"\n        ],\n        \"semantic_type\": \"\",\n        \"description\": \"\"\n      }\n    },\n    {\n      \"column\": \"ciudad\",\n      \"properties\": {\n        \"dtype\": \"category\",\n        \"num_unique_values\": 94,\n        \"samples\": [\n          \"Mazatl\\u00e1n\",\n          \"Tlaquepaque\"\n        ],\n        \"semantic_type\": \"\",\n        \"description\": \"\"\n      }\n    },\n    {\n      \"column\": \"estado\",\n      \"properties\": {\n        \"dtype\": \"category\",\n        \"num_unique_values\": 28,\n        \"samples\": [\n          \"Coahuila\",\n          \"Chiapas\"\n        ],\n        \"semantic_type\": \"\",\n        \"description\": \"\"\n      }\n    },\n    {\n      \"column\": \"region\",\n      \"properties\": {\n        \"dtype\": \"category\",\n        \"num_unique_values\": 9,\n        \"samples\": [\n          \"Occidente\",\n          \"Centro\"\n        ],\n        \"semantic_type\": \"\",\n        \"description\": \"\"\n      }\n    },\n    {\n      \"column\": \"cashback\",\n      \"properties\": {\n        \"dtype\": \"category\",\n        \"num_unique_values\": 2,\n        \"samples\": [\n          \"No\",\n          \"S\\u00ed\"\n        ],\n        \"semantic_type\": \"\",\n        \"description\": \"\"\n      }\n    },\n    {\n      \"column\": \"nota\",\n      \"properties\": {\n        \"dtype\": \"number\",\n        \"std\": 1,\n        \"min\": 0,\n        \"max\": 10,\n        \"num_unique_values\": 11,\n        \"samples\": [\n          2,\n          10\n        ],\n        \"semantic_type\": \"\",\n        \"description\": \"\"\n      }\n    }\n  ]\n}"
            }
          },
          "metadata": {},
          "execution_count": 68
        }
      ]
    },
    {
      "cell_type": "markdown",
      "source": [
        "Ahora le pediremos a ChatGPT ideas de visuales que podamos contruir con esos datos"
      ],
      "metadata": {
        "id": "53Rx8QHRXBDx"
      }
    },
    {
      "cell_type": "markdown",
      "source": [
        "> #### <strong><font color=\"7b71ff\" size =6>Prompt:</font></strong>\n",
        "\n",
        "Ahora con nuestro \"df\" ya construido a partir de las dos bases del proyecto, vamos a iniciar un nuevo proceso. Queremos comenzar la etapa de generación de visuales que puedan ayudar en el análisis de la facturación a lo largo del año, el perfil del cliente y otros datos que puedan ser relevantes para el análisis y la construcción de nuestra narrativa.\n",
        "\n",
        "Las columnas de \"df\" son:\n",
        "\n",
        "* ID_compra: número único asignado a la compra realizada, en formato int\n",
        "* fecha: fecha de la compra, en formato datetime\n",
        "* horario: hora de la compra, en formato object\n",
        "* categoria: categoría del producto, en formato object\n",
        "* precio_unitario: precio de una unidad del producto, en formato float\n",
        "* cantidad: cantidad vendida del producto, en formato int\n",
        "* envio: costo de envío a ser pagado en total de la compra, en formato float\n",
        "* metodo_pago: método de pago de la compra, en formato object\n",
        "* ID_cliente: número único asignado al cliente, en formato int\n",
        "* edad: edad del cliente, en formato int\n",
        "* sexo_biologico: sexo biológico del cliente, en formato object\n",
        "* ciudad: ciudad del cliente, en formato object\n",
        "* estado: estado del cliente, en formato object\n",
        "* region: región del cliente, en formato object\n",
        "* cashback: si el cliente participa o no en el programa de cashback de la tienda, en formato object\n",
        "* nota: evaluación del cliente por la compra, en formato int\n",
        "\n",
        "El objetivo es abstraer y buscar relaciones para construir visualizaciones interesantes para el análisis de los datos de los clientes y ventas de Zoop.\n",
        "\n",
        "Con base en la información proporcionada, ¿qué tipos de visualizaciones serían útiles para alcanzar el objetivo de analizar los datos?"
      ],
      "metadata": {
        "id": "RQ7xEhDRklQi"
      }
    },
    {
      "cell_type": "markdown",
      "source": [
        "📈 1. Análisis de Facturación (Ventas a lo largo del año)\n",
        "Facturación mensual (total facturado)\n",
        "➤ Gráfico de líneas o barras con la suma de (precio_unitario * cantidad + envío) por mes.\n",
        "\n",
        "Facturación por categoría de producto\n",
        "➤ Gráfico de barras apiladas o múltiple.\n",
        "\n",
        "Evolución del volumen de ventas (número de compras por mes)\n",
        "➤ Gráfico de líneas para ver crecimiento o estacionalidad.\n",
        "\n",
        "👤 2. Perfil de Cliente\n",
        "Distribución de edad de los clientes\n",
        "➤ Histograma o gráfico de densidad.\n",
        "\n",
        "Distribución por sexo biológico\n",
        "➤ Gráfico de torta o barras.\n",
        "\n",
        "Participación en el programa de cashback\n",
        "➤ Gráfico circular o de barras comparando participación vs no participación.\n",
        "\n",
        "Segmentación por región\n",
        "➤ Mapa de calor geográfico (si hay coordenadas), o gráfico de barras por región/estado.\n",
        "\n",
        "💳 3. Comportamiento de Compra\n",
        "Método de pago más utilizado\n",
        "➤ Gráfico de barras horizontales.\n",
        "\n",
        "Relación entre edad y método de pago\n",
        "➤ Gráfico de cajas (boxplot) o gráfico de dispersión con agrupación.\n",
        "\n",
        "Hora del día con más compras\n",
        "➤ Gráfico de líneas o barras por franja horaria (mañana, tarde, noche).\n",
        "\n",
        "Productos más vendidos (categoría + cantidad)\n",
        "➤ Barras ordenadas por cantidad total vendida.\n",
        "\n",
        "💬 4. Satisfacción del Cliente (nota)\n",
        "Distribución de notas por categoría de producto\n",
        "➤ Boxplot por categoría.\n",
        "\n",
        "Relación entre nota y edad del cliente\n",
        "➤ Gráfico de dispersión o boxplot.\n",
        "\n",
        "Promedio de nota según participación en cashback\n",
        "➤ Barras agrupadas: cashback sí vs no.\n",
        "\n",
        "💡 Extras: Análisis cruzados útiles\n",
        "Ticket promedio por región o estado\n",
        "➤ Barra comparativa.\n",
        "\n",
        "Edad promedio por categoría de producto comprada\n",
        "➤ Gráfico de barras o línea.\n",
        "\n",
        "Cantidad de compras por cliente (frecuencia)\n",
        "➤ Histograma de frecuencia de compras por cliente."
      ],
      "metadata": {
        "id": "xTECc9PtXmdD"
      }
    },
    {
      "cell_type": "code",
      "source": [],
      "metadata": {
        "id": "GDHGOM-FXtXF"
      },
      "execution_count": null,
      "outputs": []
    },
    {
      "cell_type": "markdown",
      "source": [
        "# **Clase 2 - Visualizando los dados**"
      ],
      "metadata": {
        "id": "s9k5kKMU1mvw"
      }
    },
    {
      "cell_type": "markdown",
      "source": [
        "ChatGPT trajo algunas ideas interesantes para la creación de los gráficos.\n",
        "\n",
        "Sin embargo, como ya tenemos algunas preguntas para guiarnos en la creación de los visuales, no vamos a seguir todas las sugerencias aquí mencionadas.\n",
        "\n",
        "Queda como una sugerencia para ayudarte cuando estés trabajando con otras bases y tengas dificultades para pensar en qué visualizaciones podrías construir.\n",
        "\n",
        "**Observación:** Recordando que es muy probable que los gráficos que se me señalaron, no sean necesariamente los mismos que aparecerán para ti, dado a la aleatoriedad de las respuestas de cualquier IA generativa."
      ],
      "metadata": {
        "id": "V12xn1TszsSs"
      }
    },
    {
      "cell_type": "markdown",
      "source": [
        "## **2.1 - Definiendo los visualizaciones**\n",
        "\n",
        "---"
      ],
      "metadata": {
        "id": "LQuD_W_n1xk3"
      }
    },
    {
      "cell_type": "markdown",
      "source": [
        "Después de la etapa de exploración de los datos, vamos a leer las preguntas que se plantearon en la demanda que recibimos. Así, comenzaremos a pensar en los visuales que vamos a construir con la ayuda de la IA.\n",
        "\n",
        "### **Preguntas**\n",
        "\n",
        "#### Ventas\n",
        "\n",
        "1. ¿Cuáles fueron los métodos de pago más utilizados en 2023?\n",
        "2. ¿Cuál fue la facturación por categoría en 2023?\n",
        "3. ¿Cómo fueron las ventas a lo largo de los meses en 2023?\n",
        "4. ¿Cómo se divide la venta por trimestre por método de pago? ¿Existe un período en que algún tipo de pago se destaca?\n",
        "\n",
        "\n",
        "#### Perfil del cliente\n",
        "\n",
        "5. ¿Cuál es la proporción de la clientela que participa en nuestro programa de cashback?\n",
        "6. ¿Cómo están distribuidas las evaluaciones del producto? ¿Tenemos buenos números generales?\n",
        "7. ¿Cómo se distribuye nuestro público por edad y sexo biológico? ¿Existe un grupo que se destaca?\n",
        "\n",
        "Inicialmente, vamos a hacer la primera versión de los gráficos, aún no refinados con los elementos visuales, para más adelante ir añadiendo las diversas técnicas de storytelling."
      ],
      "metadata": {
        "id": "UHZIUzEf4TzJ"
      }
    },
    {
      "cell_type": "markdown",
      "source": [
        "### **1ra Pregunta:** ¿Cuáles fueron los métodos de pago más utilizados en 2023?"
      ],
      "metadata": {
        "id": "nuximvEi5Jsc"
      }
    },
    {
      "cell_type": "markdown",
      "source": [
        "Le vamos pedir a ChatGPT que nos auxilie en la construcción de este visual. Primero, trataremos los datos generando una tabla resumida (que también es una especie de visual) y luego construiremos el primer gráfico."
      ],
      "metadata": {
        "id": "sp3YpxjOCdBY"
      }
    },
    {
      "cell_type": "markdown",
      "source": [
        "> #### <strong><font color=\"7b71ff\" size=6>Prompt:</font></strong>\n",
        "\n",
        "Tenemos un DataFrame llamado \"df\" y queremos construir un visual que presente cuáles métodos de pago fueron los más utilizados.\n",
        "\n",
        "En \"df\", tenemos la columna \"metodo_pago\" con los 4 tipos de pago utilizados en la compra.\n",
        "\n",
        "Inicialmente, queremos construir una tabla llamada \"metodos_de_pago\" que resuma los datos de esta columna y, a continuación, deseamos crear una visualización que muestre la cantidad de esos métodos de pago presentes en la tabla \"metodo_pago\".\n",
        "\n",
        "Utiliza las bibliotecas de visualización de datos de Python para crear esta visualización.\n"
      ],
      "metadata": {
        "id": "qHwZZA1lG6JY"
      }
    },
    {
      "cell_type": "code",
      "source": [
        "import pandas as pd\n",
        "import matplotlib.pyplot as plt\n",
        "import seaborn as sns\n",
        "\n",
        "# 1. Crear la tabla resumen con conteo de cada método de pago\n",
        "metodos_de_pago = df['metodo_pago'].value_counts().reset_index()\n",
        "metodos_de_pago.columns = ['metodo_pago', 'cantidad']\n",
        "metodos_de_pago"
      ],
      "metadata": {
        "colab": {
          "base_uri": "https://localhost:8080/",
          "height": 174
        },
        "id": "E99v9oFOUuh7",
        "outputId": "082dbebc-84c2-4348-c7cb-266c7ccf641c"
      },
      "execution_count": null,
      "outputs": [
        {
          "output_type": "execute_result",
          "data": {
            "text/plain": [
              "          metodo_pago  cantidad\n",
              "0  Tarjeta de Crédito      2851\n",
              "1       Transferencia      2244\n",
              "2   Tarjeta de Débito       547\n",
              "3              Paypal       527"
            ],
            "text/html": [
              "\n",
              "  <div id=\"df-322e189b-5ec9-4ffe-a5cb-e2c00eba43f0\" class=\"colab-df-container\">\n",
              "    <div>\n",
              "<style scoped>\n",
              "    .dataframe tbody tr th:only-of-type {\n",
              "        vertical-align: middle;\n",
              "    }\n",
              "\n",
              "    .dataframe tbody tr th {\n",
              "        vertical-align: top;\n",
              "    }\n",
              "\n",
              "    .dataframe thead th {\n",
              "        text-align: right;\n",
              "    }\n",
              "</style>\n",
              "<table border=\"1\" class=\"dataframe\">\n",
              "  <thead>\n",
              "    <tr style=\"text-align: right;\">\n",
              "      <th></th>\n",
              "      <th>metodo_pago</th>\n",
              "      <th>cantidad</th>\n",
              "    </tr>\n",
              "  </thead>\n",
              "  <tbody>\n",
              "    <tr>\n",
              "      <th>0</th>\n",
              "      <td>Tarjeta de Crédito</td>\n",
              "      <td>2851</td>\n",
              "    </tr>\n",
              "    <tr>\n",
              "      <th>1</th>\n",
              "      <td>Transferencia</td>\n",
              "      <td>2244</td>\n",
              "    </tr>\n",
              "    <tr>\n",
              "      <th>2</th>\n",
              "      <td>Tarjeta de Débito</td>\n",
              "      <td>547</td>\n",
              "    </tr>\n",
              "    <tr>\n",
              "      <th>3</th>\n",
              "      <td>Paypal</td>\n",
              "      <td>527</td>\n",
              "    </tr>\n",
              "  </tbody>\n",
              "</table>\n",
              "</div>\n",
              "    <div class=\"colab-df-buttons\">\n",
              "\n",
              "  <div class=\"colab-df-container\">\n",
              "    <button class=\"colab-df-convert\" onclick=\"convertToInteractive('df-322e189b-5ec9-4ffe-a5cb-e2c00eba43f0')\"\n",
              "            title=\"Convert this dataframe to an interactive table.\"\n",
              "            style=\"display:none;\">\n",
              "\n",
              "  <svg xmlns=\"http://www.w3.org/2000/svg\" height=\"24px\" viewBox=\"0 -960 960 960\">\n",
              "    <path d=\"M120-120v-720h720v720H120Zm60-500h600v-160H180v160Zm220 220h160v-160H400v160Zm0 220h160v-160H400v160ZM180-400h160v-160H180v160Zm440 0h160v-160H620v160ZM180-180h160v-160H180v160Zm440 0h160v-160H620v160Z\"/>\n",
              "  </svg>\n",
              "    </button>\n",
              "\n",
              "  <style>\n",
              "    .colab-df-container {\n",
              "      display:flex;\n",
              "      gap: 12px;\n",
              "    }\n",
              "\n",
              "    .colab-df-convert {\n",
              "      background-color: #E8F0FE;\n",
              "      border: none;\n",
              "      border-radius: 50%;\n",
              "      cursor: pointer;\n",
              "      display: none;\n",
              "      fill: #1967D2;\n",
              "      height: 32px;\n",
              "      padding: 0 0 0 0;\n",
              "      width: 32px;\n",
              "    }\n",
              "\n",
              "    .colab-df-convert:hover {\n",
              "      background-color: #E2EBFA;\n",
              "      box-shadow: 0px 1px 2px rgba(60, 64, 67, 0.3), 0px 1px 3px 1px rgba(60, 64, 67, 0.15);\n",
              "      fill: #174EA6;\n",
              "    }\n",
              "\n",
              "    .colab-df-buttons div {\n",
              "      margin-bottom: 4px;\n",
              "    }\n",
              "\n",
              "    [theme=dark] .colab-df-convert {\n",
              "      background-color: #3B4455;\n",
              "      fill: #D2E3FC;\n",
              "    }\n",
              "\n",
              "    [theme=dark] .colab-df-convert:hover {\n",
              "      background-color: #434B5C;\n",
              "      box-shadow: 0px 1px 3px 1px rgba(0, 0, 0, 0.15);\n",
              "      filter: drop-shadow(0px 1px 2px rgba(0, 0, 0, 0.3));\n",
              "      fill: #FFFFFF;\n",
              "    }\n",
              "  </style>\n",
              "\n",
              "    <script>\n",
              "      const buttonEl =\n",
              "        document.querySelector('#df-322e189b-5ec9-4ffe-a5cb-e2c00eba43f0 button.colab-df-convert');\n",
              "      buttonEl.style.display =\n",
              "        google.colab.kernel.accessAllowed ? 'block' : 'none';\n",
              "\n",
              "      async function convertToInteractive(key) {\n",
              "        const element = document.querySelector('#df-322e189b-5ec9-4ffe-a5cb-e2c00eba43f0');\n",
              "        const dataTable =\n",
              "          await google.colab.kernel.invokeFunction('convertToInteractive',\n",
              "                                                    [key], {});\n",
              "        if (!dataTable) return;\n",
              "\n",
              "        const docLinkHtml = 'Like what you see? Visit the ' +\n",
              "          '<a target=\"_blank\" href=https://colab.research.google.com/notebooks/data_table.ipynb>data table notebook</a>'\n",
              "          + ' to learn more about interactive tables.';\n",
              "        element.innerHTML = '';\n",
              "        dataTable['output_type'] = 'display_data';\n",
              "        await google.colab.output.renderOutput(dataTable, element);\n",
              "        const docLink = document.createElement('div');\n",
              "        docLink.innerHTML = docLinkHtml;\n",
              "        element.appendChild(docLink);\n",
              "      }\n",
              "    </script>\n",
              "  </div>\n",
              "\n",
              "\n",
              "    <div id=\"df-532379b5-3c3f-493f-aad8-b5b5097583a8\">\n",
              "      <button class=\"colab-df-quickchart\" onclick=\"quickchart('df-532379b5-3c3f-493f-aad8-b5b5097583a8')\"\n",
              "                title=\"Suggest charts\"\n",
              "                style=\"display:none;\">\n",
              "\n",
              "<svg xmlns=\"http://www.w3.org/2000/svg\" height=\"24px\"viewBox=\"0 0 24 24\"\n",
              "     width=\"24px\">\n",
              "    <g>\n",
              "        <path d=\"M19 3H5c-1.1 0-2 .9-2 2v14c0 1.1.9 2 2 2h14c1.1 0 2-.9 2-2V5c0-1.1-.9-2-2-2zM9 17H7v-7h2v7zm4 0h-2V7h2v10zm4 0h-2v-4h2v4z\"/>\n",
              "    </g>\n",
              "</svg>\n",
              "      </button>\n",
              "\n",
              "<style>\n",
              "  .colab-df-quickchart {\n",
              "      --bg-color: #E8F0FE;\n",
              "      --fill-color: #1967D2;\n",
              "      --hover-bg-color: #E2EBFA;\n",
              "      --hover-fill-color: #174EA6;\n",
              "      --disabled-fill-color: #AAA;\n",
              "      --disabled-bg-color: #DDD;\n",
              "  }\n",
              "\n",
              "  [theme=dark] .colab-df-quickchart {\n",
              "      --bg-color: #3B4455;\n",
              "      --fill-color: #D2E3FC;\n",
              "      --hover-bg-color: #434B5C;\n",
              "      --hover-fill-color: #FFFFFF;\n",
              "      --disabled-bg-color: #3B4455;\n",
              "      --disabled-fill-color: #666;\n",
              "  }\n",
              "\n",
              "  .colab-df-quickchart {\n",
              "    background-color: var(--bg-color);\n",
              "    border: none;\n",
              "    border-radius: 50%;\n",
              "    cursor: pointer;\n",
              "    display: none;\n",
              "    fill: var(--fill-color);\n",
              "    height: 32px;\n",
              "    padding: 0;\n",
              "    width: 32px;\n",
              "  }\n",
              "\n",
              "  .colab-df-quickchart:hover {\n",
              "    background-color: var(--hover-bg-color);\n",
              "    box-shadow: 0 1px 2px rgba(60, 64, 67, 0.3), 0 1px 3px 1px rgba(60, 64, 67, 0.15);\n",
              "    fill: var(--button-hover-fill-color);\n",
              "  }\n",
              "\n",
              "  .colab-df-quickchart-complete:disabled,\n",
              "  .colab-df-quickchart-complete:disabled:hover {\n",
              "    background-color: var(--disabled-bg-color);\n",
              "    fill: var(--disabled-fill-color);\n",
              "    box-shadow: none;\n",
              "  }\n",
              "\n",
              "  .colab-df-spinner {\n",
              "    border: 2px solid var(--fill-color);\n",
              "    border-color: transparent;\n",
              "    border-bottom-color: var(--fill-color);\n",
              "    animation:\n",
              "      spin 1s steps(1) infinite;\n",
              "  }\n",
              "\n",
              "  @keyframes spin {\n",
              "    0% {\n",
              "      border-color: transparent;\n",
              "      border-bottom-color: var(--fill-color);\n",
              "      border-left-color: var(--fill-color);\n",
              "    }\n",
              "    20% {\n",
              "      border-color: transparent;\n",
              "      border-left-color: var(--fill-color);\n",
              "      border-top-color: var(--fill-color);\n",
              "    }\n",
              "    30% {\n",
              "      border-color: transparent;\n",
              "      border-left-color: var(--fill-color);\n",
              "      border-top-color: var(--fill-color);\n",
              "      border-right-color: var(--fill-color);\n",
              "    }\n",
              "    40% {\n",
              "      border-color: transparent;\n",
              "      border-right-color: var(--fill-color);\n",
              "      border-top-color: var(--fill-color);\n",
              "    }\n",
              "    60% {\n",
              "      border-color: transparent;\n",
              "      border-right-color: var(--fill-color);\n",
              "    }\n",
              "    80% {\n",
              "      border-color: transparent;\n",
              "      border-right-color: var(--fill-color);\n",
              "      border-bottom-color: var(--fill-color);\n",
              "    }\n",
              "    90% {\n",
              "      border-color: transparent;\n",
              "      border-bottom-color: var(--fill-color);\n",
              "    }\n",
              "  }\n",
              "</style>\n",
              "\n",
              "      <script>\n",
              "        async function quickchart(key) {\n",
              "          const quickchartButtonEl =\n",
              "            document.querySelector('#' + key + ' button');\n",
              "          quickchartButtonEl.disabled = true;  // To prevent multiple clicks.\n",
              "          quickchartButtonEl.classList.add('colab-df-spinner');\n",
              "          try {\n",
              "            const charts = await google.colab.kernel.invokeFunction(\n",
              "                'suggestCharts', [key], {});\n",
              "          } catch (error) {\n",
              "            console.error('Error during call to suggestCharts:', error);\n",
              "          }\n",
              "          quickchartButtonEl.classList.remove('colab-df-spinner');\n",
              "          quickchartButtonEl.classList.add('colab-df-quickchart-complete');\n",
              "        }\n",
              "        (() => {\n",
              "          let quickchartButtonEl =\n",
              "            document.querySelector('#df-532379b5-3c3f-493f-aad8-b5b5097583a8 button');\n",
              "          quickchartButtonEl.style.display =\n",
              "            google.colab.kernel.accessAllowed ? 'block' : 'none';\n",
              "        })();\n",
              "      </script>\n",
              "    </div>\n",
              "\n",
              "  <div id=\"id_332ab5fe-6b8b-4112-852c-8611c56f7ae2\">\n",
              "    <style>\n",
              "      .colab-df-generate {\n",
              "        background-color: #E8F0FE;\n",
              "        border: none;\n",
              "        border-radius: 50%;\n",
              "        cursor: pointer;\n",
              "        display: none;\n",
              "        fill: #1967D2;\n",
              "        height: 32px;\n",
              "        padding: 0 0 0 0;\n",
              "        width: 32px;\n",
              "      }\n",
              "\n",
              "      .colab-df-generate:hover {\n",
              "        background-color: #E2EBFA;\n",
              "        box-shadow: 0px 1px 2px rgba(60, 64, 67, 0.3), 0px 1px 3px 1px rgba(60, 64, 67, 0.15);\n",
              "        fill: #174EA6;\n",
              "      }\n",
              "\n",
              "      [theme=dark] .colab-df-generate {\n",
              "        background-color: #3B4455;\n",
              "        fill: #D2E3FC;\n",
              "      }\n",
              "\n",
              "      [theme=dark] .colab-df-generate:hover {\n",
              "        background-color: #434B5C;\n",
              "        box-shadow: 0px 1px 3px 1px rgba(0, 0, 0, 0.15);\n",
              "        filter: drop-shadow(0px 1px 2px rgba(0, 0, 0, 0.3));\n",
              "        fill: #FFFFFF;\n",
              "      }\n",
              "    </style>\n",
              "    <button class=\"colab-df-generate\" onclick=\"generateWithVariable('metodos_de_pago')\"\n",
              "            title=\"Generate code using this dataframe.\"\n",
              "            style=\"display:none;\">\n",
              "\n",
              "  <svg xmlns=\"http://www.w3.org/2000/svg\" height=\"24px\"viewBox=\"0 0 24 24\"\n",
              "       width=\"24px\">\n",
              "    <path d=\"M7,19H8.4L18.45,9,17,7.55,7,17.6ZM5,21V16.75L18.45,3.32a2,2,0,0,1,2.83,0l1.4,1.43a1.91,1.91,0,0,1,.58,1.4,1.91,1.91,0,0,1-.58,1.4L9.25,21ZM18.45,9,17,7.55Zm-12,3A5.31,5.31,0,0,0,4.9,8.1,5.31,5.31,0,0,0,1,6.5,5.31,5.31,0,0,0,4.9,4.9,5.31,5.31,0,0,0,6.5,1,5.31,5.31,0,0,0,8.1,4.9,5.31,5.31,0,0,0,12,6.5,5.46,5.46,0,0,0,6.5,12Z\"/>\n",
              "  </svg>\n",
              "    </button>\n",
              "    <script>\n",
              "      (() => {\n",
              "      const buttonEl =\n",
              "        document.querySelector('#id_332ab5fe-6b8b-4112-852c-8611c56f7ae2 button.colab-df-generate');\n",
              "      buttonEl.style.display =\n",
              "        google.colab.kernel.accessAllowed ? 'block' : 'none';\n",
              "\n",
              "      buttonEl.onclick = () => {\n",
              "        google.colab.notebook.generateWithVariable('metodos_de_pago');\n",
              "      }\n",
              "      })();\n",
              "    </script>\n",
              "  </div>\n",
              "\n",
              "    </div>\n",
              "  </div>\n"
            ],
            "application/vnd.google.colaboratory.intrinsic+json": {
              "type": "dataframe",
              "variable_name": "metodos_de_pago",
              "summary": "{\n  \"name\": \"metodos_de_pago\",\n  \"rows\": 4,\n  \"fields\": [\n    {\n      \"column\": \"metodo_pago\",\n      \"properties\": {\n        \"dtype\": \"string\",\n        \"num_unique_values\": 4,\n        \"samples\": [\n          \"Transferencia\",\n          \"Paypal\",\n          \"Tarjeta de Cr\\u00e9dito\"\n        ],\n        \"semantic_type\": \"\",\n        \"description\": \"\"\n      }\n    },\n    {\n      \"column\": \"cantidad\",\n      \"properties\": {\n        \"dtype\": \"number\",\n        \"std\": 1186,\n        \"min\": 527,\n        \"max\": 2851,\n        \"num_unique_values\": 4,\n        \"samples\": [\n          2244,\n          527,\n          2851\n        ],\n        \"semantic_type\": \"\",\n        \"description\": \"\"\n      }\n    }\n  ]\n}"
            }
          },
          "metadata": {},
          "execution_count": 69
        }
      ]
    },
    {
      "cell_type": "code",
      "source": [
        "# 1. Crear la tabla resumen con conteo de cada método de pago\n",
        "metodos_de_pago = df['metodo_pago'].value_counts().reset_index()\n",
        "metodos_de_pago.columns = ['metodo_pago', 'cantidad']\n",
        "\n",
        "# 2. Crear la visualización de barras\n",
        "plt.figure(figsize=(7, 4))\n",
        "sns.barplot(data=metodos_de_pago, x='metodo_pago', y='cantidad', palette='Blues_d')\n",
        "plt.title('Métodos de Pago más Utilizados')\n",
        "plt.xlabel('Método de Pago')\n",
        "plt.ylabel('Cantidad de Compras')\n",
        "plt.xticks(rotation=15)\n",
        "plt.tight_layout()\n",
        "plt.show()"
      ],
      "metadata": {
        "id": "v2_h5RAO-LFW",
        "colab": {
          "base_uri": "https://localhost:8080/",
          "height": 407
        },
        "outputId": "00d3ab9b-8467-4279-9ecb-10b596e1a6da"
      },
      "execution_count": null,
      "outputs": [
        {
          "output_type": "display_data",
          "data": {
            "text/plain": [
              "<Figure size 700x400 with 1 Axes>"
            ],
            "image/png": "[encoded data removed]"
          },
          "metadata": {}
        }
      ]
    },
    {
      "cell_type": "markdown",
      "source": [
        "\n",
        "<font color=\"7b71ff\" size=4> Comentarios: </font>\n",
        "\n",
        "---\n",
        "\n",
        "Podemos observar que, incluso sin especificar el tipo de gráfico, por la forma en que presentamos los datos a ChatGPT, logró representar con éxito un visual que muestra la información deseada. Un gráfico de barras es realmente ideal para representar las cantidades de una o más categorías de datos.\n",
        "\n",
        "Iremos ajustando poco a poco los visuales para que se adecuen a nuestro público y reflejen la identidad visual de la empresa.\n"
      ],
      "metadata": {
        "id": "kMyT9b9AMESv"
      }
    },
    {
      "cell_type": "markdown",
      "source": [
        "## **2.2 - Comparando los datos**\n",
        "\n",
        "---"
      ],
      "metadata": {
        "id": "lBBf_RevoKjD"
      }
    },
    {
      "cell_type": "markdown",
      "source": [
        "### **2da Pregunta:** ¿Cuál fue la facturación por categoria em 2023?"
      ],
      "metadata": {
        "id": "sov50T6wMN3L"
      }
    },
    {
      "cell_type": "markdown",
      "source": [
        "**Observación:** Para la facturación, consideraremos aquí el producto entre el precio unitario y la cantidad, sumados al costo de envío de cada producto.\n"
      ],
      "metadata": {
        "id": "kMl9XgD3OGrc"
      }
    },
    {
      "cell_type": "markdown",
      "source": [
        "> #### <strong><font color=\"7b71ff\" size=6>Prompt:</font></strong>\n",
        "\n",
        "Tenemos un DataFrame llamado \"df\" y queremos construir un gráfico de barras horizontales que muestre la facturación por categoría de Zoop.\n",
        "\n",
        "En \"df\", tenemos las siguientes columnas:\n",
        "* categoria: categorías de los productos\n",
        "* precio_unitario: precio de una unidad del producto\n",
        "* cantidad: cantidad vendida del producto\n",
        "* envio: costo de envío total de la compra.\n",
        "\n",
        "Deseamos crear una visualización que muestre la facturación de cada categoría, donde la facturación se calcula multiplicando el precio unitario por la cantidad y sumando el costo de envío.\n",
        "\n",
        "Utiliza las bibliotecas de visualización de datos de Python para crear esta visualización.\n"
      ],
      "metadata": {
        "id": "E4bKaRL8OprF"
      }
    },
    {
      "cell_type": "code",
      "source": [
        "import pandas as pd\n",
        "import matplotlib.pyplot as plt\n",
        "import seaborn as sns\n",
        "\n",
        "# 1. Crear columna de facturación total por fila\n",
        "df['facturacion'] = df['precio_unitario'] * df['cantidad'] + df['envio']\n",
        "\n",
        "# 2. Agrupar por categoría y sumar la facturación\n",
        "facturacion_categoria = df.groupby('categoria')['facturacion'].sum().reset_index()\n",
        "\n",
        "# 3. Ordenar por facturación para mostrar en orden en la gráfica\n",
        "facturacion_categoria = facturacion_categoria.sort_values(by='facturacion', ascending=True)\n",
        "\n",
        "# 4. Crear el gráfico de barras horizontales con seaborn\n",
        "plt.figure(figsize=(10,6))\n",
        "sns.barplot(data=facturacion_categoria, y='categoria', x='facturacion', palette='viridis')\n",
        "plt.title('Facturación Total por Categoría - Zoop')\n",
        "plt.xlabel('Facturación ($)')\n",
        "plt.ylabel('Categoría')\n",
        "plt.tight_layout()\n",
        "plt.show()"
      ],
      "metadata": {
        "id": "qOkMMd9E-Izm",
        "colab": {
          "base_uri": "https://localhost:8080/",
          "height": 607
        },
        "outputId": "c899ea41-f80d-4966-b3c4-a1c3068f803b"
      },
      "execution_count": null,
      "outputs": [
        {
          "output_type": "display_data",
          "data": {
            "text/plain": [
              "<Figure size 1000x600 with 1 Axes>"
            ],
            "image/png": "[encoded data removed]"
          },
          "metadata": {}
        }
      ]
    },
    {
      "cell_type": "code",
      "source": [],
      "metadata": {
        "id": "xSOBv0PY-IxQ"
      },
      "execution_count": null,
      "outputs": []
    },
    {
      "cell_type": "markdown",
      "source": [
        "<font color=\"7b71ff\" size=4> Comentarios: </font>\n",
        "\n",
        "---\n",
        "\n",
        "Aquí especificamos el tipo de gráfico, guiando a ChatGPT en la creación de nuestro visual. Podemos notar que en un gráfico de barras el enfoque está más centrado en las categorías, además de ser una forma más fluida de leer textos que podrían ser demasiado extensos para un gráfico de columnas.\n"
      ],
      "metadata": {
        "id": "JtsP9QD1QrpC"
      }
    },
    {
      "cell_type": "markdown",
      "source": [
        "### **3a Pregunta:** ¿Cómo fueron las ventas a lo largo de los meses en 2023?\n"
      ],
      "metadata": {
        "id": "J_r_YqGlQ3RN"
      }
    },
    {
      "cell_type": "markdown",
      "source": [
        "> #### <strong><font color=\"7b71ff\" size=6>Prompt:</font></strong>\n",
        "\n",
        "Tenemos un DataFrame llamado \"df\" y queremos construir un gráfico de líneas que muestre las ventas totales mensuales de Zoop.\n",
        "\n",
        "En \"df\", tenemos las siguientes columnas:\n",
        "* fecha: con las fechas de las compras en formato datetime (`aaaa-mm-dd`)\n",
        "* facturación: calculada como el producto del precio unitario y la cantidad, sumado al costo de envío de cada venta.\n",
        "\n",
        "Deseamos crear una visualización que muestre las ventas por mes. Primero, agrupa los datos por mes y luego crea una nueva columna llamada \"mes\" que contenga el nombre de cada mes, traduciendo los meses del índice mediante el siguiente diccionario. Utiliza la columna \"fecha\" para agrupar los datos y construir el gráfico. La columna \"mes\" solo debe usarse para cambiar las etiquetas del eje x.\n",
        "\n",
        "```\n",
        "meses = {\n",
        "    'January': 'Ene',\n",
        "    'February': 'Feb',\n",
        "    'March': 'Mar',\n",
        "    'April': 'Abr',\n",
        "    'May': 'May',\n",
        "    'June': 'Jun',\n",
        "    'July': 'Jul',\n",
        "    'August': 'Ago',\n",
        "    'September': 'Sep',\n",
        "    'October': 'Oct',\n",
        "    'November': 'Nov',\n",
        "    'December': 'Dic'\n",
        "}\n",
        "```\n",
        "\n",
        "\n",
        "Utiliza las bibliotecas de visualización de datos de Python para crear esta visualización.\n"
      ],
      "metadata": {
        "id": "PaRBTlLgRMot"
      }
    },
    {
      "cell_type": "code",
      "source": [
        "# 1. Asegurarse de que la columna fecha está en formato datetime\n",
        "df['fecha'] = pd.to_datetime(df['fecha'])\n",
        "\n",
        "# 2. Agrupar por mes y sumar la facturación\n",
        "ventas_mensuales = df.groupby(df['fecha'].dt.month_name())['facturacion'].sum().reset_index()\n",
        "\n",
        "# 3. Diccionario para traducir los nombres de los meses\n",
        "meses = {\n",
        "    'January': 'Ene',\n",
        "    'February': 'Feb',\n",
        "    'March': 'Mar',\n",
        "    'April': 'Abr',\n",
        "    'May': 'May',\n",
        "    'June': 'Jun',\n",
        "    'July': 'Jul',\n",
        "    'August': 'Ago',\n",
        "    'September': 'Sep',\n",
        "    'October': 'Oct',\n",
        "    'November': 'Nov',\n",
        "    'December': 'Dic'\n",
        "}\n",
        "\n",
        "# 4. Agregar columna \"mes\" con nombres traducidos\n",
        "ventas_mensuales['mes'] = ventas_mensuales['fecha'].map(meses)\n",
        "\n",
        "# 5. Crear orden correcto de los meses\n",
        "orden_meses = ['Ene', 'Feb', 'Mar', 'Abr', 'May', 'Jun', 'Jul', 'Ago', 'Sep', 'Oct', 'Nov', 'Dic']\n",
        "ventas_mensuales['mes'] = pd.Categorical(ventas_mensuales['mes'], categories=orden_meses, ordered=True)\n",
        "ventas_mensuales = ventas_mensuales.sort_values('mes')\n",
        "\n",
        "# 6. Visualización\n",
        "plt.figure(figsize=(12,6))\n",
        "sns.lineplot(data=ventas_mensuales, x='mes', y='facturacion', marker='o', color='steelblue')\n",
        "plt.title('Ventas Totales Mensuales - Zoop (2023)')\n",
        "plt.xlabel('Mes')\n",
        "plt.ylabel('Facturación ($)')\n",
        "plt.grid(True, linestyle='--', alpha=0.3)\n",
        "plt.tight_layout()\n",
        "plt.show()"
      ],
      "metadata": {
        "id": "oIHvCV0--HCy",
        "colab": {
          "base_uri": "https://localhost:8080/",
          "height": 607
        },
        "outputId": "6896ccac-df57-4ac1-c68c-b1712374cb66"
      },
      "execution_count": null,
      "outputs": [
        {
          "output_type": "display_data",
          "data": {
            "text/plain": [
              "<Figure size 1200x600 with 1 Axes>"
            ],
            "image/png": "[encoded data removed]"
          },
          "metadata": {}
        }
      ]
    },
    {
      "cell_type": "code",
      "source": [
        "# 1. Asegurarse de que la columna fecha está en formato datetime\n",
        "df['fecha'] = pd.to_datetime(df['fecha'])\n",
        "\n",
        "# 2. Agrupar por nombre de mes y sumar la facturación\n",
        "ventas_mensuales = df.groupby(df['fecha'].dt.month_name())['facturacion'].sum().reset_index()\n",
        "\n",
        "# 3. Diccionario para traducir los nombres de los meses\n",
        "meses = {\n",
        "    'January': 'Ene',\n",
        "    'February': 'Feb',\n",
        "    'March': 'Mar',\n",
        "    'April': 'Abr',\n",
        "    'May': 'May',\n",
        "    'June': 'Jun',\n",
        "    'July': 'Jul',\n",
        "    'August': 'Ago',\n",
        "    'September': 'Sep',\n",
        "    'October': 'Oct',\n",
        "    'November': 'Nov',\n",
        "    'December': 'Dic'\n",
        "}\n",
        "\n",
        "# 4. Traducir y ordenar los meses\n",
        "ventas_mensuales['mes'] = ventas_mensuales['fecha'].map(meses)\n",
        "orden_meses = ['Ene', 'Feb', 'Mar', 'Abr', 'May', 'Jun', 'Jul', 'Ago', 'Sep', 'Oct', 'Nov', 'Dic']\n",
        "ventas_mensuales['mes'] = pd.Categorical(ventas_mensuales['mes'], categories=orden_meses, ordered=True)\n",
        "ventas_mensuales = ventas_mensuales.sort_values('mes')\n",
        "\n",
        "# 5. Crear el gráfico de líneas sin líneas de fondo\n",
        "plt.figure(figsize=(12,6))\n",
        "sns.lineplot(data=ventas_mensuales, x='mes', y='facturacion', marker='o', color='steelblue')\n",
        "plt.title('Ventas Totales Mensuales - Zoop (2023)')\n",
        "plt.xlabel('Mes')\n",
        "plt.ylabel('Facturación ($)')\n",
        "plt.tight_layout()\n",
        "plt.show()"
      ],
      "metadata": {
        "id": "vu5IDFOr-G5L",
        "colab": {
          "base_uri": "https://localhost:8080/",
          "height": 607
        },
        "outputId": "e17e69df-c6a1-4c21-f158-43f8edff02ff"
      },
      "execution_count": null,
      "outputs": [
        {
          "output_type": "display_data",
          "data": {
            "text/plain": [
              "<Figure size 1200x600 with 1 Axes>"
            ],
            "image/png": "[encoded data removed]"
          },
          "metadata": {}
        }
      ]
    },
    {
      "cell_type": "markdown",
      "source": [
        "<font color=\"7b71ff\" size=4> Comentarios: </font>\n",
        "\n",
        "---\n",
        "\n",
        "Cuando tenemos una cantidad mayor de períodos en nuestros datos, vale la pena recurrir a gráficos de líneas, que son ideales para series temporales. Dado que nuestros datos son mensuales, utilizar un gráfico de columnas, por ejemplo, reduciría la percepción de la secuencia de los datos. Las líneas ofrecen una mayor sensación de continuidad.\n",
        "\n",
        "Siéntete libre de formular algunas hipótesis sobre los momentos de alta y baja en las compras.\n"
      ],
      "metadata": {
        "id": "_TI2LDquTpz_"
      }
    },
    {
      "cell_type": "markdown",
      "source": [
        "##**2.3 - Componiendo datos dinámicos**"
      ],
      "metadata": {
        "id": "jjxAkyE4T1PY"
      }
    },
    {
      "cell_type": "markdown",
      "source": [
        "\n",
        "Construimos algunos visuales interesantes para comparar los datos, mostrando las facturaciones de Zoop. Ahora, pasemos a una nueva categoría de visuales: composición.\n",
        "\n",
        "Vamos a hacer una composición dinámica de los datos. Para ello, añadiremos más variables al análisis, incorporando 3 variables diferentes, siendo una de ellas categórica."
      ],
      "metadata": {
        "id": "Ge60lSmKUM-T"
      }
    },
    {
      "cell_type": "markdown",
      "source": [
        "###**4a Pregunta:** ¿Cómo está dividida la venta por trimestre por método de pago? ¿Existe algún período en el que algún tipo de pago se destaque?\n"
      ],
      "metadata": {
        "id": "OkXV3JTaVwQQ"
      }
    },
    {
      "cell_type": "markdown",
      "source": [
        "> #### <strong><font color=\"7b71ff\" size=6>Prompt:</font></strong>\n",
        "\n",
        "Tenemos un DataFrame llamado \"df\" y queremos construir un gráfico de barras apiladas que muestre las ventas por trimestre en relación con el método de pago de Zoop.\n",
        "\n",
        "En \"df\", tenemos las siguientes columnas:\n",
        "* fecha: con las fechas de las compras en formato datetime (`aaaa-mm-dd`)\n",
        "* facturacion: con los valores de las ventas\n",
        "* metodo_pago: con el método de pago elegido en la compra\n",
        "\n",
        "Deseamos crear una visualización que muestre las ventas por trimestre, agrupando los métodos de pago de cada trimestre correspondientes a cada compra.\n",
        "\n",
        "Utiliza las bibliotecas de visualización de datos de Python para crear esta visualización.\n"
      ],
      "metadata": {
        "id": "JblkLnxXWEO-"
      }
    },
    {
      "cell_type": "code",
      "source": [
        "# 1. Asegurarse de que la columna \"fecha\" esté en formato datetime\n",
        "df['fecha'] = pd.to_datetime(df['fecha'])\n",
        "\n",
        "# 2. Crear columna con el trimestre (formato: '2023Q1', '2023Q2', etc.)\n",
        "df['trimestre'] = df['fecha'].dt.to_period('Q').astype(str)\n",
        "\n",
        "# 3. Agrupar por trimestre y método de pago, sumando la facturación\n",
        "ventas_trimestrales = df.groupby(['trimestre', 'metodo_pago'])['facturacion'].sum().unstack().fillna(0)\n",
        "\n",
        "# 4. Crear gráfico de barras apiladas\n",
        "ventas_trimestrales.plot(kind='bar', stacked=True, figsize=(10,6), colormap='Set3')\n",
        "\n",
        "# 5. Personalización del gráfico\n",
        "plt.title('Ventas Trimestrales por Método de Pago - Zoop (2023)')\n",
        "plt.xlabel('Trimestre')\n",
        "plt.ylabel('Facturación ($)')\n",
        "plt.legend(title='Método de Pago', bbox_to_anchor=(1.05, 1), loc='upper left')\n",
        "plt.tight_layout()\n",
        "plt.show()"
      ],
      "metadata": {
        "id": "guwcgCqk-EQG",
        "colab": {
          "base_uri": "https://localhost:8080/",
          "height": 607
        },
        "outputId": "8a63ec49-4930-4c6d-da08-1ad23a586d47"
      },
      "execution_count": null,
      "outputs": [
        {
          "output_type": "display_data",
          "data": {
            "text/plain": [
              "<Figure size 1000x600 with 1 Axes>"
            ],
            "image/png": "[encoded data removed]"
          },
          "metadata": {}
        }
      ]
    },
    {
      "cell_type": "code",
      "source": [
        "# 2. Crear columna con el trimestre (formato: '2023Q1', '2023Q2', etc.)\n",
        "df['trimestre'] = df['fecha'].dt.to_period('Q').astype(str)\n",
        "\n",
        "# 3. Agrupar por trimestre y método de pago, sumando la facturación\n",
        "ventas_trimestrales = df.groupby(['trimestre', 'metodo_pago'])['facturacion'].sum().unstack().fillna(0)\n",
        "ventas_trimestrales"
      ],
      "metadata": {
        "id": "90Opj9e4-FPX",
        "colab": {
          "base_uri": "https://localhost:8080/",
          "height": 206
        },
        "outputId": "0a65e10f-84ad-40d5-ab56-407f9768ae87"
      },
      "execution_count": null,
      "outputs": [
        {
          "output_type": "execute_result",
          "data": {
            "text/plain": [
              "metodo_pago     Paypal  Tarjeta de Crédito  Tarjeta de Débito  Transferencia\n",
              "trimestre                                                                   \n",
              "2023Q1       159392.78           567801.62          160984.48      716355.57\n",
              "2023Q2       408176.22          1675152.84          271050.18     1351769.42\n",
              "2023Q3       323562.78          1899375.64          166394.70     1280637.06\n",
              "2023Q4       775944.52          3627098.81          683999.86     2911311.03"
            ],
            "text/html": [
              "\n",
              "  <div id=\"df-6125a6cf-ee61-450a-9297-a5a51490b33a\" class=\"colab-df-container\">\n",
              "    <div>\n",
              "<style scoped>\n",
              "    .dataframe tbody tr th:only-of-type {\n",
              "        vertical-align: middle;\n",
              "    }\n",
              "\n",
              "    .dataframe tbody tr th {\n",
              "        vertical-align: top;\n",
              "    }\n",
              "\n",
              "    .dataframe thead th {\n",
              "        text-align: right;\n",
              "    }\n",
              "</style>\n",
              "<table border=\"1\" class=\"dataframe\">\n",
              "  <thead>\n",
              "    <tr style=\"text-align: right;\">\n",
              "      <th>metodo_pago</th>\n",
              "      <th>Paypal</th>\n",
              "      <th>Tarjeta de Crédito</th>\n",
              "      <th>Tarjeta de Débito</th>\n",
              "      <th>Transferencia</th>\n",
              "    </tr>\n",
              "    <tr>\n",
              "      <th>trimestre</th>\n",
              "      <th></th>\n",
              "      <th></th>\n",
              "      <th></th>\n",
              "      <th></th>\n",
              "    </tr>\n",
              "  </thead>\n",
              "  <tbody>\n",
              "    <tr>\n",
              "      <th>2023Q1</th>\n",
              "      <td>159392.78</td>\n",
              "      <td>567801.62</td>\n",
              "      <td>160984.48</td>\n",
              "      <td>716355.57</td>\n",
              "    </tr>\n",
              "    <tr>\n",
              "      <th>2023Q2</th>\n",
              "      <td>408176.22</td>\n",
              "      <td>1675152.84</td>\n",
              "      <td>271050.18</td>\n",
              "      <td>1351769.42</td>\n",
              "    </tr>\n",
              "    <tr>\n",
              "      <th>2023Q3</th>\n",
              "      <td>323562.78</td>\n",
              "      <td>1899375.64</td>\n",
              "      <td>166394.70</td>\n",
              "      <td>1280637.06</td>\n",
              "    </tr>\n",
              "    <tr>\n",
              "      <th>2023Q4</th>\n",
              "      <td>775944.52</td>\n",
              "      <td>3627098.81</td>\n",
              "      <td>683999.86</td>\n",
              "      <td>2911311.03</td>\n",
              "    </tr>\n",
              "  </tbody>\n",
              "</table>\n",
              "</div>\n",
              "    <div class=\"colab-df-buttons\">\n",
              "\n",
              "  <div class=\"colab-df-container\">\n",
              "    <button class=\"colab-df-convert\" onclick=\"convertToInteractive('df-6125a6cf-ee61-450a-9297-a5a51490b33a')\"\n",
              "            title=\"Convert this dataframe to an interactive table.\"\n",
              "            style=\"display:none;\">\n",
              "\n",
              "  <svg xmlns=\"http://www.w3.org/2000/svg\" height=\"24px\" viewBox=\"0 -960 960 960\">\n",
              "    <path d=\"M120-120v-720h720v720H120Zm60-500h600v-160H180v160Zm220 220h160v-160H400v160Zm0 220h160v-160H400v160ZM180-400h160v-160H180v160Zm440 0h160v-160H620v160ZM180-180h160v-160H180v160Zm440 0h160v-160H620v160Z\"/>\n",
              "  </svg>\n",
              "    </button>\n",
              "\n",
              "  <style>\n",
              "    .colab-df-container {\n",
              "      display:flex;\n",
              "      gap: 12px;\n",
              "    }\n",
              "\n",
              "    .colab-df-convert {\n",
              "      background-color: #E8F0FE;\n",
              "      border: none;\n",
              "      border-radius: 50%;\n",
              "      cursor: pointer;\n",
              "      display: none;\n",
              "      fill: #1967D2;\n",
              "      height: 32px;\n",
              "      padding: 0 0 0 0;\n",
              "      width: 32px;\n",
              "    }\n",
              "\n",
              "    .colab-df-convert:hover {\n",
              "      background-color: #E2EBFA;\n",
              "      box-shadow: 0px 1px 2px rgba(60, 64, 67, 0.3), 0px 1px 3px 1px rgba(60, 64, 67, 0.15);\n",
              "      fill: #174EA6;\n",
              "    }\n",
              "\n",
              "    .colab-df-buttons div {\n",
              "      margin-bottom: 4px;\n",
              "    }\n",
              "\n",
              "    [theme=dark] .colab-df-convert {\n",
              "      background-color: #3B4455;\n",
              "      fill: #D2E3FC;\n",
              "    }\n",
              "\n",
              "    [theme=dark] .colab-df-convert:hover {\n",
              "      background-color: #434B5C;\n",
              "      box-shadow: 0px 1px 3px 1px rgba(0, 0, 0, 0.15);\n",
              "      filter: drop-shadow(0px 1px 2px rgba(0, 0, 0, 0.3));\n",
              "      fill: #FFFFFF;\n",
              "    }\n",
              "  </style>\n",
              "\n",
              "    <script>\n",
              "      const buttonEl =\n",
              "        document.querySelector('#df-6125a6cf-ee61-450a-9297-a5a51490b33a button.colab-df-convert');\n",
              "      buttonEl.style.display =\n",
              "        google.colab.kernel.accessAllowed ? 'block' : 'none';\n",
              "\n",
              "      async function convertToInteractive(key) {\n",
              "        const element = document.querySelector('#df-6125a6cf-ee61-450a-9297-a5a51490b33a');\n",
              "        const dataTable =\n",
              "          await google.colab.kernel.invokeFunction('convertToInteractive',\n",
              "                                                    [key], {});\n",
              "        if (!dataTable) return;\n",
              "\n",
              "        const docLinkHtml = 'Like what you see? Visit the ' +\n",
              "          '<a target=\"_blank\" href=https://colab.research.google.com/notebooks/data_table.ipynb>data table notebook</a>'\n",
              "          + ' to learn more about interactive tables.';\n",
              "        element.innerHTML = '';\n",
              "        dataTable['output_type'] = 'display_data';\n",
              "        await google.colab.output.renderOutput(dataTable, element);\n",
              "        const docLink = document.createElement('div');\n",
              "        docLink.innerHTML = docLinkHtml;\n",
              "        element.appendChild(docLink);\n",
              "      }\n",
              "    </script>\n",
              "  </div>\n",
              "\n",
              "\n",
              "    <div id=\"df-3b535eac-54ff-4c73-a9e7-313feabf3349\">\n",
              "      <button class=\"colab-df-quickchart\" onclick=\"quickchart('df-3b535eac-54ff-4c73-a9e7-313feabf3349')\"\n",
              "                title=\"Suggest charts\"\n",
              "                style=\"display:none;\">\n",
              "\n",
              "<svg xmlns=\"http://www.w3.org/2000/svg\" height=\"24px\"viewBox=\"0 0 24 24\"\n",
              "     width=\"24px\">\n",
              "    <g>\n",
              "        <path d=\"M19 3H5c-1.1 0-2 .9-2 2v14c0 1.1.9 2 2 2h14c1.1 0 2-.9 2-2V5c0-1.1-.9-2-2-2zM9 17H7v-7h2v7zm4 0h-2V7h2v10zm4 0h-2v-4h2v4z\"/>\n",
              "    </g>\n",
              "</svg>\n",
              "      </button>\n",
              "\n",
              "<style>\n",
              "  .colab-df-quickchart {\n",
              "      --bg-color: #E8F0FE;\n",
              "      --fill-color: #1967D2;\n",
              "      --hover-bg-color: #E2EBFA;\n",
              "      --hover-fill-color: #174EA6;\n",
              "      --disabled-fill-color: #AAA;\n",
              "      --disabled-bg-color: #DDD;\n",
              "  }\n",
              "\n",
              "  [theme=dark] .colab-df-quickchart {\n",
              "      --bg-color: #3B4455;\n",
              "      --fill-color: #D2E3FC;\n",
              "      --hover-bg-color: #434B5C;\n",
              "      --hover-fill-color: #FFFFFF;\n",
              "      --disabled-bg-color: #3B4455;\n",
              "      --disabled-fill-color: #666;\n",
              "  }\n",
              "\n",
              "  .colab-df-quickchart {\n",
              "    background-color: var(--bg-color);\n",
              "    border: none;\n",
              "    border-radius: 50%;\n",
              "    cursor: pointer;\n",
              "    display: none;\n",
              "    fill: var(--fill-color);\n",
              "    height: 32px;\n",
              "    padding: 0;\n",
              "    width: 32px;\n",
              "  }\n",
              "\n",
              "  .colab-df-quickchart:hover {\n",
              "    background-color: var(--hover-bg-color);\n",
              "    box-shadow: 0 1px 2px rgba(60, 64, 67, 0.3), 0 1px 3px 1px rgba(60, 64, 67, 0.15);\n",
              "    fill: var(--button-hover-fill-color);\n",
              "  }\n",
              "\n",
              "  .colab-df-quickchart-complete:disabled,\n",
              "  .colab-df-quickchart-complete:disabled:hover {\n",
              "    background-color: var(--disabled-bg-color);\n",
              "    fill: var(--disabled-fill-color);\n",
              "    box-shadow: none;\n",
              "  }\n",
              "\n",
              "  .colab-df-spinner {\n",
              "    border: 2px solid var(--fill-color);\n",
              "    border-color: transparent;\n",
              "    border-bottom-color: var(--fill-color);\n",
              "    animation:\n",
              "      spin 1s steps(1) infinite;\n",
              "  }\n",
              "\n",
              "  @keyframes spin {\n",
              "    0% {\n",
              "      border-color: transparent;\n",
              "      border-bottom-color: var(--fill-color);\n",
              "      border-left-color: var(--fill-color);\n",
              "    }\n",
              "    20% {\n",
              "      border-color: transparent;\n",
              "      border-left-color: var(--fill-color);\n",
              "      border-top-color: var(--fill-color);\n",
              "    }\n",
              "    30% {\n",
              "      border-color: transparent;\n",
              "      border-left-color: var(--fill-color);\n",
              "      border-top-color: var(--fill-color);\n",
              "      border-right-color: var(--fill-color);\n",
              "    }\n",
              "    40% {\n",
              "      border-color: transparent;\n",
              "      border-right-color: var(--fill-color);\n",
              "      border-top-color: var(--fill-color);\n",
              "    }\n",
              "    60% {\n",
              "      border-color: transparent;\n",
              "      border-right-color: var(--fill-color);\n",
              "    }\n",
              "    80% {\n",
              "      border-color: transparent;\n",
              "      border-right-color: var(--fill-color);\n",
              "      border-bottom-color: var(--fill-color);\n",
              "    }\n",
              "    90% {\n",
              "      border-color: transparent;\n",
              "      border-bottom-color: var(--fill-color);\n",
              "    }\n",
              "  }\n",
              "</style>\n",
              "\n",
              "      <script>\n",
              "        async function quickchart(key) {\n",
              "          const quickchartButtonEl =\n",
              "            document.querySelector('#' + key + ' button');\n",
              "          quickchartButtonEl.disabled = true;  // To prevent multiple clicks.\n",
              "          quickchartButtonEl.classList.add('colab-df-spinner');\n",
              "          try {\n",
              "            const charts = await google.colab.kernel.invokeFunction(\n",
              "                'suggestCharts', [key], {});\n",
              "          } catch (error) {\n",
              "            console.error('Error during call to suggestCharts:', error);\n",
              "          }\n",
              "          quickchartButtonEl.classList.remove('colab-df-spinner');\n",
              "          quickchartButtonEl.classList.add('colab-df-quickchart-complete');\n",
              "        }\n",
              "        (() => {\n",
              "          let quickchartButtonEl =\n",
              "            document.querySelector('#df-3b535eac-54ff-4c73-a9e7-313feabf3349 button');\n",
              "          quickchartButtonEl.style.display =\n",
              "            google.colab.kernel.accessAllowed ? 'block' : 'none';\n",
              "        })();\n",
              "      </script>\n",
              "    </div>\n",
              "\n",
              "  <div id=\"id_cd745cf5-4330-4f89-b5ed-2bf0e41eab56\">\n",
              "    <style>\n",
              "      .colab-df-generate {\n",
              "        background-color: #E8F0FE;\n",
              "        border: none;\n",
              "        border-radius: 50%;\n",
              "        cursor: pointer;\n",
              "        display: none;\n",
              "        fill: #1967D2;\n",
              "        height: 32px;\n",
              "        padding: 0 0 0 0;\n",
              "        width: 32px;\n",
              "      }\n",
              "\n",
              "      .colab-df-generate:hover {\n",
              "        background-color: #E2EBFA;\n",
              "        box-shadow: 0px 1px 2px rgba(60, 64, 67, 0.3), 0px 1px 3px 1px rgba(60, 64, 67, 0.15);\n",
              "        fill: #174EA6;\n",
              "      }\n",
              "\n",
              "      [theme=dark] .colab-df-generate {\n",
              "        background-color: #3B4455;\n",
              "        fill: #D2E3FC;\n",
              "      }\n",
              "\n",
              "      [theme=dark] .colab-df-generate:hover {\n",
              "        background-color: #434B5C;\n",
              "        box-shadow: 0px 1px 3px 1px rgba(0, 0, 0, 0.15);\n",
              "        filter: drop-shadow(0px 1px 2px rgba(0, 0, 0, 0.3));\n",
              "        fill: #FFFFFF;\n",
              "      }\n",
              "    </style>\n",
              "    <button class=\"colab-df-generate\" onclick=\"generateWithVariable('ventas_trimestrales')\"\n",
              "            title=\"Generate code using this dataframe.\"\n",
              "            style=\"display:none;\">\n",
              "\n",
              "  <svg xmlns=\"http://www.w3.org/2000/svg\" height=\"24px\"viewBox=\"0 0 24 24\"\n",
              "       width=\"24px\">\n",
              "    <path d=\"M7,19H8.4L18.45,9,17,7.55,7,17.6ZM5,21V16.75L18.45,3.32a2,2,0,0,1,2.83,0l1.4,1.43a1.91,1.91,0,0,1,.58,1.4,1.91,1.91,0,0,1-.58,1.4L9.25,21ZM18.45,9,17,7.55Zm-12,3A5.31,5.31,0,0,0,4.9,8.1,5.31,5.31,0,0,0,1,6.5,5.31,5.31,0,0,0,4.9,4.9,5.31,5.31,0,0,0,6.5,1,5.31,5.31,0,0,0,8.1,4.9,5.31,5.31,0,0,0,12,6.5,5.46,5.46,0,0,0,6.5,12Z\"/>\n",
              "  </svg>\n",
              "    </button>\n",
              "    <script>\n",
              "      (() => {\n",
              "      const buttonEl =\n",
              "        document.querySelector('#id_cd745cf5-4330-4f89-b5ed-2bf0e41eab56 button.colab-df-generate');\n",
              "      buttonEl.style.display =\n",
              "        google.colab.kernel.accessAllowed ? 'block' : 'none';\n",
              "\n",
              "      buttonEl.onclick = () => {\n",
              "        google.colab.notebook.generateWithVariable('ventas_trimestrales');\n",
              "      }\n",
              "      })();\n",
              "    </script>\n",
              "  </div>\n",
              "\n",
              "    </div>\n",
              "  </div>\n"
            ],
            "application/vnd.google.colaboratory.intrinsic+json": {
              "type": "dataframe",
              "variable_name": "ventas_trimestrales",
              "summary": "{\n  \"name\": \"ventas_trimestrales\",\n  \"rows\": 4,\n  \"fields\": [\n    {\n      \"column\": \"trimestre\",\n      \"properties\": {\n        \"dtype\": \"object\",\n        \"num_unique_values\": 4,\n        \"samples\": [\n          \"2023Q2\",\n          \"2023Q4\",\n          \"2023Q1\"\n        ],\n        \"semantic_type\": \"\",\n        \"description\": \"\"\n      }\n    },\n    {\n      \"column\": \"Paypal\",\n      \"properties\": {\n        \"dtype\": \"number\",\n        \"std\": 260775.00398079638,\n        \"min\": 159392.78,\n        \"max\": 775944.52,\n        \"num_unique_values\": 4,\n        \"samples\": [\n          408176.22,\n          775944.52,\n          159392.78\n        ],\n        \"semantic_type\": \"\",\n        \"description\": \"\"\n      }\n    },\n    {\n      \"column\": \"Tarjeta de Cr\\u00e9dito\",\n      \"properties\": {\n        \"dtype\": \"number\",\n        \"std\": 1265043.2034094816,\n        \"min\": 567801.62,\n        \"max\": 3627098.81,\n        \"num_unique_values\": 4,\n        \"samples\": [\n          1675152.84,\n          3627098.81,\n          567801.62\n        ],\n        \"semantic_type\": \"\",\n        \"description\": \"\"\n      }\n    },\n    {\n      \"column\": \"Tarjeta de D\\u00e9bito\",\n      \"properties\": {\n        \"dtype\": \"number\",\n        \"std\": 247501.5363383699,\n        \"min\": 160984.48,\n        \"max\": 683999.86,\n        \"num_unique_values\": 4,\n        \"samples\": [\n          271050.18,\n          683999.86,\n          160984.48\n        ],\n        \"semantic_type\": \"\",\n        \"description\": \"\"\n      }\n    },\n    {\n      \"column\": \"Transferencia\",\n      \"properties\": {\n        \"dtype\": \"number\",\n        \"std\": 941466.9968772306,\n        \"min\": 716355.57,\n        \"max\": 2911311.03,\n        \"num_unique_values\": 4,\n        \"samples\": [\n          1351769.42,\n          2911311.03,\n          716355.57\n        ],\n        \"semantic_type\": \"\",\n        \"description\": \"\"\n      }\n    }\n  ]\n}"
            }
          },
          "metadata": {},
          "execution_count": 83
        }
      ]
    },
    {
      "cell_type": "markdown",
      "source": [
        "<font color=\"7b71ff\" size=4> Comentarios: </font>\n",
        "\n",
        "---\n",
        "\n",
        "El gráfico de columnas apiladas añade a la comparación entre períodos o categorías, la comparación también entre los datos de cada período/categoría. Es como si pusiéramos una \"lupa\" en cada columna y visualizáramos la composición de cada una de acuerdo con la variable deseada (aquí, las formas de pago).\n",
        "\n",
        "Siéntete libre de formular algunas hipótesis sobre las ventas por trimestre combinadas con el tipo de pago y qué ideas podemos obtener de esta base de datos.\n"
      ],
      "metadata": {
        "id": "qSypZ_2bmp_j"
      }
    },
    {
      "cell_type": "markdown",
      "source": [
        "## **3.1 - Componiendo datos estáticos**\n",
        "\n",
        "---"
      ],
      "metadata": {
        "id": "F4d02EQgm57o"
      }
    },
    {
      "cell_type": "markdown",
      "source": [
        "Inicialmente, presentaremos un ejemplo de cómo podemos utilizar la comparación de datos estáticos, es decir, un recorte en el tiempo o de las variables que poseemos."
      ],
      "metadata": {
        "id": "AlNZXGe4nB9V"
      }
    },
    {
      "cell_type": "markdown",
      "source": [
        "### **5ª Pregunta:** ¿Cuál es la proporción de la clientela que participa en nuestro programa de cashback?"
      ],
      "metadata": {
        "id": "K1Zd-qB0nG4y"
      }
    },
    {
      "cell_type": "markdown",
      "source": [
        "> #### <strong><font color=\"7b71ff\" size=6>Prompt:</font></strong>\n",
        "\n",
        "Tenemos un DataFrame llamado \"df\" y queremos construir un gráfico que muestre la proporción de usuarios(as) que están participando en el programa de cashback de Zoop.\n",
        "\n",
        "En \"df\", tenemos la columna \"cashback\" que contiene estos datos.\n",
        "\n",
        "Utiliza las bibliotecas de visualización de datos de Python para crear esta visualización.\n"
      ],
      "metadata": {
        "id": "BMMcUocynuHZ"
      }
    },
    {
      "cell_type": "code",
      "source": [
        "# 1. Contar la cantidad de clientes que participan o no en cashback\n",
        "cashback_counts = df['cashback'].value_counts()\n",
        "\n",
        "# 2. Crear el gráfico de torta\n",
        "plt.figure(figsize=(6,6))\n",
        "plt.pie(\n",
        "    cashback_counts,\n",
        "    labels=cashback_counts.index,\n",
        "    autopct='%1.1f%%',\n",
        "    startangle=90,\n",
        "    explode=(0.05, 0),\n",
        "    colors=['#66b3ff','#99ff99']\n",
        ")\n",
        "plt.title('Proporción de Clientes en el Programa de Cashback')\n",
        "plt.tight_layout()\n",
        "plt.show()"
      ],
      "metadata": {
        "id": "0GkWNql096-W",
        "colab": {
          "base_uri": "https://localhost:8080/",
          "height": 607
        },
        "outputId": "65f5454d-966d-423a-d4b0-510ead29a0e1"
      },
      "execution_count": null,
      "outputs": [
        {
          "output_type": "display_data",
          "data": {
            "text/plain": [
              "<Figure size 600x600 with 1 Axes>"
            ],
            "image/png": "[encoded data removed]"
          },
          "metadata": {}
        }
      ]
    },
    {
      "cell_type": "code",
      "source": [],
      "metadata": {
        "id": "zgGt0j7B96yz"
      },
      "execution_count": null,
      "outputs": []
    },
    {
      "cell_type": "markdown",
      "source": [
        "> #### <strong><font color=\"7b71ff\" size =6>Prompt:</font></strong>\n",
        "\n",
        "¿Podrías utilizar el color rojo y mantener el azul y cambiar el gráfico anterior a uno tipo rosquilla?\n",
        "\n",
        "Utiliza las bibliotecas de visualización de datos de Python para crear esta visualización.\n"
      ],
      "metadata": {
        "id": "PobyxvuVoJcs"
      }
    },
    {
      "cell_type": "code",
      "source": [
        "# 1. Contar la cantidad de clientes que participan o no en el programa de cashback\n",
        "cashback_counts = df['cashback'].value_counts()\n",
        "\n",
        "# 2. Colores personalizados: azul (sí) y rojo (no)\n",
        "colores = ['#66b3ff', '#ff4d4d']\n",
        "\n",
        "# 3. Explosión de la primera porción (por ejemplo, los que participan en cashback)\n",
        "explode = (0.05, 0)  # Solo se separa la primera categoría\n",
        "\n",
        "# 4. Crear gráfico tipo rosquilla\n",
        "plt.figure(figsize=(6,6))\n",
        "plt.pie(\n",
        "    cashback_counts,\n",
        "    labels=cashback_counts.index,\n",
        "    autopct='%1.1f%%',\n",
        "    startangle=90,\n",
        "    colors=colores,\n",
        "    explode=explode,\n",
        "    wedgeprops={'width': 0.4}  # Grosor reducido para rosquilla\n",
        ")\n",
        "plt.title('Proporción de Clientes en el Programa de Cashback')\n",
        "plt.tight_layout()\n",
        "plt.show()"
      ],
      "metadata": {
        "id": "IFLDq1fR94iG",
        "colab": {
          "base_uri": "https://localhost:8080/",
          "height": 607
        },
        "outputId": "07d12be9-77fa-454b-9a00-6c015ad0ee65"
      },
      "execution_count": null,
      "outputs": [
        {
          "output_type": "display_data",
          "data": {
            "text/plain": [
              "<Figure size 600x600 with 1 Axes>"
            ],
            "image/png": "[encoded data removed]"
          },
          "metadata": {}
        }
      ]
    },
    {
      "cell_type": "code",
      "source": [],
      "metadata": {
        "id": "W2RPn0R994dT"
      },
      "execution_count": null,
      "outputs": []
    },
    {
      "cell_type": "markdown",
      "source": [
        "<font color=\"7b71ff\" size=4> Comentarios: </font>\n",
        "\n",
        "---\n",
        "\n",
        "¡Mira eso! Una vez más, la IA nos presentó una buena idea de qué gráfico aplicar para este caso, pero ¿notaste que \"ella\" no tiene idea de los datos que poseemos?\n",
        "\n",
        "Debemos estar atentos a esto, ya que solo le proporcionamos los nombres de las columnas y los datos que había allí. La IA no puede saber si un valor es positivo o negativo, por ejemplo. Por eso, el \"no\" estaba en azul y el \"sí\" en verde. En el siguiente prompt, le indicamos que sustituyera el color verde por el rojo (sin mencionar el valor real de los datos) y pedimos una modificación en el visual.\n",
        "\n",
        "¿Qué tal si experimentas hacer otros pedidos y ves cómo se comporta ChatGPT?\n",
        "\n",
        "Hablando del gráfico, los gráficos de sectores son ideales para pocas categorías de datos, preferiblemente datos dicotómicos (2 categorías, como sí y no, gato y perro...). Representan la proporción de los datos de manera estática."
      ],
      "metadata": {
        "id": "8l2x5b6hp599"
      }
    },
    {
      "cell_type": "markdown",
      "source": [
        "## **3.2 - Distribuyendo Datos**\n",
        "\n",
        "---\n"
      ],
      "metadata": {
        "id": "SNbkQrsFqFNk"
      }
    },
    {
      "cell_type": "markdown",
      "source": [
        "Con la ayuda de la IA, generaremos más gráficos que serán importantes para la construcción del storytelling del informe de Zoop, según lo solicitado. Ahora, partiendo de la distribución de datos, vamos a analizar el perfil de los clientes y cómo evalúan sus compras en Zoop."
      ],
      "metadata": {
        "id": "Ug_Y1GAoqTzO"
      }
    },
    {
      "cell_type": "markdown",
      "source": [
        "### **6ª Pregunta:** ¿Cómo están distribuidas las calificaciones de la compra? ¿Tenemos buenos números en general?  \n"
      ],
      "metadata": {
        "id": "U_N9EmtCqX2h"
      }
    },
    {
      "cell_type": "markdown",
      "source": [
        "Vamos a pedirle a ChatGPT que nos ayude a construir este visual. Veamos si esta IA puede representar estos datos con un visual adecuado."
      ],
      "metadata": {
        "id": "EF6gJ5-UqxPO"
      }
    },
    {
      "cell_type": "markdown",
      "source": [
        "> #### <strong><font color=\"7b71ff\" size=6>Prompt:</font></strong>\n",
        "\n",
        "Tenemos un DataFrame llamado \"df\" y queremos construir un gráfico que muestre la distribución de las evaluaciones del público en relación con las compras realizadas en la tienda online.\n",
        "\n",
        "En \"df\", tenemos la columna \"nota\" con las calificaciones otorgadas por cada usuario en relación con la compra que realizaron, que varían de 0 a 10 en números enteros.\n",
        "\n",
        "Deseamos crear una visualización que muestre la distribución de estos datos.\n",
        "\n",
        "Utiliza las bibliotecas de visualización de datos de Python para crear este gráfico.\n"
      ],
      "metadata": {
        "id": "zx_gd4sDrJif"
      }
    },
    {
      "cell_type": "code",
      "source": [
        "# 1. Establecer el estilo visual\n",
        "sns.set(style='whitegrid')\n",
        "\n",
        "# 2. Crear el gráfico de barras para la distribución de notas\n",
        "plt.figure(figsize=(10,6))\n",
        "sns.countplot(data=df, x='nota', palette='viridis')\n",
        "\n",
        "# 3. Personalización del gráfico\n",
        "plt.title('Distribución de Calificaciones de los Clientes')\n",
        "plt.xlabel('Calificación (0 a 10)')\n",
        "plt.ylabel('Cantidad de Evaluaciones')\n",
        "plt.xticks(range(0, 11))  # Mostrar del 0 al 10 en el eje X\n",
        "plt.tight_layout()\n",
        "plt.show()\n"
      ],
      "metadata": {
        "id": "2T2Oli-291qg",
        "colab": {
          "base_uri": "https://localhost:8080/",
          "height": 601
        },
        "outputId": "525a4f37-84e3-4e77-bc8f-12cecce1892a"
      },
      "execution_count": 93,
      "outputs": [
        {
          "output_type": "display_data",
          "data": {
            "text/plain": [
              "<Figure size 1000x600 with 1 Axes>"
            ],
            "image/png": "[encoded data removed]"
          },
          "metadata": {}
        }
      ]
    },
    {
      "cell_type": "code",
      "source": [],
      "metadata": {
        "id": "vOEZcqg592nl"
      },
      "execution_count": null,
      "outputs": []
    },
    {
      "cell_type": "markdown",
      "source": [
        "<font color=\"7b71ff\" size=4> Comentarios: </font>\n",
        "\n",
        "---\n",
        "\n",
        "Una vez más, no necesitamos especificar directamente el tipo de gráfico, ya que al mencionar la distribución de valores numéricos de una simple columna, ChatGPT logró interpretar y proporcionar el código para un histograma de columnas. Este gráfico es ideal para presentar la distribución de una muestra de datos o población. Cada columna aquí representa la frecuencia de repetición de un valor.\n",
        "\n",
        "¿Te gustaría experimentar haciendo lo mismo solo con las edades?\n"
      ],
      "metadata": {
        "id": "HPkcf36FruTa"
      }
    },
    {
      "cell_type": "markdown",
      "source": [
        "### **7ª Pregunta:** ¿Cómo está distribuida nuestra audiencia por edad y sexo biológico? ¿Existe algún grupo que sobresalga?\n"
      ],
      "metadata": {
        "id": "4rCwNOpor_3f"
      }
    },
    {
      "cell_type": "markdown",
      "source": [
        "> #### <strong><font color=\"7b71ff\" size=6>Prompt:</font></strong>\n",
        "\n",
        "Tenemos un DataFrame llamado \"df\" y queremos construir un gráfico que muestre la distribución de nuestra audiencia por edad y sexo biológico.\n",
        "\n",
        "En \"df\", tenemos las columnas:\n",
        "* edad: edad de la persona que realizó la compra\n",
        "* sexo_biologico: sexo biológico de la persona que realizó la compra, con datos categóricos\n",
        "\n",
        "Deseamos crear una visualización que muestre la distribución de estos datos.\n",
        "\n",
        "Utiliza las bibliotecas de visualización de datos de Python para crear esta visualización.\n"
      ],
      "metadata": {
        "id": "KcN5kO0IsL3j"
      }
    },
    {
      "cell_type": "code",
      "source": [
        "# Estilo visual\n",
        "sns.set(style=\"whitegrid\")\n",
        "\n",
        "# Gráfico de violín\n",
        "plt.figure(figsize=(10,6))\n",
        "sns.violinplot(data=df, x='sexo_biologico', y='edad', palette='Set2')\n",
        "\n",
        "# Personalización\n",
        "plt.title('Distribución de Edad por Sexo Biológico')\n",
        "plt.xlabel('Sexo Biológico')\n",
        "plt.ylabel('Edad')\n",
        "plt.tight_layout()\n",
        "plt.show()"
      ],
      "metadata": {
        "id": "VG2IJpls9y8e",
        "colab": {
          "base_uri": "https://localhost:8080/",
          "height": 601
        },
        "outputId": "100f2448-5bce-44c9-b05d-b21b3832cf74"
      },
      "execution_count": 95,
      "outputs": [
        {
          "output_type": "display_data",
          "data": {
            "text/plain": [
              "<Figure size 1000x600 with 1 Axes>"
            ],
            "image/png": "[encoded data removed]"
          },
          "metadata": {}
        }
      ]
    },
    {
      "cell_type": "code",
      "source": [],
      "metadata": {
        "id": "VQJ0ru5z9zce"
      },
      "execution_count": 97,
      "outputs": []
    },
    {
      "cell_type": "markdown",
      "source": [
        "<font color=\"7b71ff\" size=4> Comentarios: </font>\n",
        "\n",
        "---\n",
        "El gráfico generado es poco práctico, ya que compila los datos del sexo biológico 'Masculino' y 'Femenino' en el gráfico de violín. Necesitamos darle una instrucción adicional a GPT para elegir un visual más adecuado.\n"
      ],
      "metadata": {
        "id": "E4paklFNtAcj"
      }
    },
    {
      "cell_type": "markdown",
      "source": [
        "> #### <strong><font color=\"7b71ff\" size=6>Prompt:</font></strong>\n",
        "\n",
        "Creo que podemos mejorar este gráfico. ¿Qué te parece cambiar a un boxplot?\n"
      ],
      "metadata": {
        "id": "aLtugLAptYov"
      }
    },
    {
      "cell_type": "code",
      "source": [
        "# Estilo visual\n",
        "sns.set(style=\"whitegrid\")\n",
        "\n",
        "# Crear gráfico boxplot\n",
        "plt.figure(figsize=(10,6))\n",
        "sns.boxplot(data=df, x='sexo_biologico', y='edad', palette='pastel')\n",
        "\n",
        "# Personalización\n",
        "plt.title('Distribución de Edad por Sexo Biológico')\n",
        "plt.xlabel('Sexo Biológico')\n",
        "plt.ylabel('Edad')\n",
        "plt.tight_layout()\n",
        "plt.show()"
      ],
      "metadata": {
        "id": "Jqqz4TlQ9v6q",
        "colab": {
          "base_uri": "https://localhost:8080/",
          "height": 601
        },
        "outputId": "9d956304-a782-480f-c4b0-dc45472c8f07"
      },
      "execution_count": 97,
      "outputs": [
        {
          "output_type": "display_data",
          "data": {
            "text/plain": [
              "<Figure size 1000x600 with 1 Axes>"
            ],
            "image/png": "[encoded data removed]"
          },
          "metadata": {}
        }
      ]
    },
    {
      "cell_type": "code",
      "source": [],
      "metadata": {
        "id": "PAqCODSk9xBY"
      },
      "execution_count": null,
      "outputs": []
    },
    {
      "cell_type": "markdown",
      "source": [
        "<font color=\"7b71ff\" size=4> Comentarios: </font>\n",
        "\n",
        "---\n",
        "\n",
        "Esta vez fue necesario guiar a la IA para generar una visualización mejor para nuestros análisis.\n",
        "\n",
        "El gráfico representado es un boxplot (diagrama de caja) que es ideal para representar un conjunto de datos de acuerdo con 5 medidas de interés: valor máximo, mínimo, 1º cuartil (donde están situados el 25% de los datos), 2º cuartil o mediana (donde están situados el 50% de los datos) y 3º cuartil (donde están situados el 75% de los datos).\n",
        "\n",
        "¿Recuerdas el `describe()`? Este gráfico presenta en un solo elemento gran parte de los datos que la función muestra en tabla.\n",
        "\n",
        "Concluimos la 1ª versión de los 7 visuales que utilizaremos en nuestro proyecto. Ahora, pasaremos a la aplicación de las técnicas de storytelling para mejorar los visuales y adaptarlos a la identidad visual de Zoop antes de la exportación.\n"
      ],
      "metadata": {
        "id": "9zx_z6_atzI1"
      }
    },
    {
      "cell_type": "markdown",
      "source": [
        "## **4.1 - Definiendo los colores del proyecto**\n",
        "\n",
        "---\n"
      ],
      "metadata": {
        "id": "iY_2Eyb_t5eJ"
      }
    },
    {
      "cell_type": "markdown",
      "source": [
        "Ahora, vamos a explorar la importancia de los colores en la visualización de datos, discutir cómo las personas perciben e interpretan la información visual, y abordar la diferencia entre la capacidad de la inteligencia artificial y la visión humana en lo que respecta a la elección de colores y accesibilidad.\n",
        "\n"
      ],
      "metadata": {
        "id": "O2A2lR9Rudzm"
      }
    },
    {
      "cell_type": "markdown",
      "source": [
        "### Paleta de colores de Zoop:"
      ],
      "metadata": {
        "id": "Pk3CRrLIujxQ"
      }
    },
    {
      "cell_type": "markdown",
      "source": [
        "<img src=\"https://raw.githubusercontent.com/alura-cursos/ia-datascience-dataviz/main/imagens/paleta_cores/zoop_paleta_cores.png\" alt=\"inserir alt\" width=480>\n",
        "\n",
        "&nbsp;\n",
        "\n",
        "#### Paleta del proyecto\n",
        "\n",
        "|Rojo|||\n",
        "|------|------|------|\n",
        "| Rojo_1 |Rojo_2 |Rojo_3 |\n",
        "|#e23155 | #cc2c4e| #b32742 |\n",
        "| ![adicionar desc](https://raw.githubusercontent.com/alura-cursos/ia-datascience-dataviz/main/imagens/paleta_cores/VERMELHO_1.png)  |![adicionar desc](https://raw.githubusercontent.com/alura-cursos/ia-datascience-dataviz/main/imagens/paleta_cores/VERMELHO_2.png) |![adicionar desc](https://raw.githubusercontent.com/alura-cursos/ia-datascience-dataviz/main/imagens/paleta_cores/VERMELHO_3.png) |\n",
        "\n",
        "&nbsp;\n",
        "\n",
        "|Azul|||\n",
        "|------|------|------|\n",
        "| AZUL_1 |AZUL_2 |AZUL_3 |\n",
        "|#203f75 | #1c3867| #19325b |\n",
        "| ![adicionar desc](https://raw.githubusercontent.com/alura-cursos/ia-datascience-dataviz/main/imagens/paleta_cores/AZUL_1.png)  |![adicionar desc](https://raw.githubusercontent.com/alura-cursos/ia-datascience-dataviz/main/imagens/paleta_cores/AZUL_2.png) |![adicionar desc](https://raw.githubusercontent.com/alura-cursos/ia-datascience-dataviz/main/imagens/paleta_cores/AZUL_3.png) |\n",
        "\n",
        "&nbsp;\n",
        "\n",
        "|Gris||||||\n",
        "|------|------|------|------|------|------|\n",
        "|BLANCO| GRIS_1 |GRIS_2 |GRIS_3 |GRIS_4 |GRIS_5 |\n",
        "|#ffffff | #ebebeb | #d9d9d9| #cccccc | #555655| #231f20 |\n",
        "| ![adicionar desc](https://raw.githubusercontent.com/alura-cursos/ia-datascience-dataviz/main/imagens/paleta_cores/BRANCO.png)  |![adicionar desc](https://raw.githubusercontent.com/alura-cursos/ia-datascience-dataviz/main/imagens/paleta_cores/CINZA_1.png) |![adicionar desc](https://raw.githubusercontent.com/alura-cursos/ia-datascience-dataviz/main/imagens/paleta_cores/CINZA_2.png) |![adicionar desc](https://raw.githubusercontent.com/alura-cursos/ia-datascience-dataviz/main/imagens/paleta_cores/CINZA_3.png) |![adicionar desc](https://raw.githubusercontent.com/alura-cursos/ia-datascience-dataviz/main/imagens/paleta_cores/CINZA_4.png)|![adicionar desc](https://raw.githubusercontent.com/alura-cursos/ia-datascience-dataviz/main/imagens/paleta_cores/CINZA_5.png)|\n",
        "\n",
        "&nbsp;\n",
        "\n",
        "|Aqua|||\n",
        "|------|------|------|\n",
        "| AQUA_1 |AQUA_2 |AQUA_3 |\n",
        "|#addcd4 | #9fccc5| #96bfb9 |\n",
        "| ![adicionar desc](https://raw.githubusercontent.com/alura-cursos/ia-datascience-dataviz/main/imagens/paleta_cores/AQUA_1.png)  |![adicionar desc](https://raw.githubusercontent.com/alura-cursos/ia-datascience-dataviz/main/imagens/paleta_cores/AQUA_2.png) |![adicionar desc](https://raw.githubusercontent.com/alura-cursos/ia-datascience-dataviz/main/imagens/paleta_cores/AQUA_3.png) |\n",
        "\n",
        "&nbsp;\n"
      ],
      "metadata": {
        "id": "46BuOvoyvZDR"
      }
    },
    {
      "cell_type": "code",
      "source": [
        "# Adicionamos los colores al proyecto\n",
        "ROJO_1,\tROJO_2,\tROJO_3 = \"#e23155\",\t\"#cc2c4e\", \"#b32742\"\n",
        "AZUL_1,\tAZUL_2,\tAZUL_3 = \"#203f75\",\t\"#1c3867\", \"#19325b\"\n",
        "BLANCO,GRIS_1, GRIS_2, GRIS_3, GRIS_4,\tGRIS_5 = \"#ffffff\", \"#ebebeb\",\t\"#d9d9d9\", \"#cccccc\", \"#555655\", \"#231f20\"\n",
        "AQUA_1,\tAQUA_2,\tAQUA_3 = \"#addcd4\",\t\"#9fccc5\", \"#96bfb9\""
      ],
      "metadata": {
        "id": "Me629U_iwEky"
      },
      "execution_count": 98,
      "outputs": []
    },
    {
      "cell_type": "markdown",
      "source": [
        "<font size=5> ***¿Por qué definimos nosotros mismos los colores del proyecto?*** </font>\n"
      ],
      "metadata": {
        "id": "FKvxEoocwe0h"
      }
    },
    {
      "cell_type": "markdown",
      "source": [
        "1. **Percepción humana de los colores:**\n",
        "\n",
        "Nuestro cerebro interpreta los colores de manera única, asociando emociones y significados a cada tonalidad. Es importante, al elegir los colores para representar datos, considerar la percepción humana para asegurar que la información se transmita de manera clara y eficaz. Además de seguir la identidad visual de Zoop, es decir, dar esa sensación de que el visual es de Zoop.\n",
        "\n",
        "2. **Accesibilidad:**\n",
        "\n",
        "Ciertas combinaciones de colores pueden ser difíciles de percibir para personas con deficiencias visuales. Nuestra responsabilidad como desarrolladores es garantizar que nuestras visualizaciones sean inclusivas. Aquí seguiremos algunas directrices y recomendaciones para crear gráficos accesibles.\n",
        "\n",
        "3. **IA vs. elección de colores:**\n",
        "\n",
        "Mientras que la IA puede realizar tareas complejas, como análisis de datos y reconocimiento de patrones, aún no posee el discernimiento humano cuando se trata de elegir colores significativos y garantizar la accesibilidad. Aquí es donde entra nuestra intervención creativa y consideración humana.\n",
        "\n",
        "4. **Experiencia visual:**\n",
        "\n",
        "¿Las personas pueden entender la información transmitida por los gráficos? ¿Existe algún \"conflicto\" entre los colores que perjudica la claridad del mensaje? Vamos a explorar técnicas para mejorar la experiencia visual, como el contraste adecuado, la elección cuidadosa de los colores de la paleta y el destaque de elementos clave.\n",
        "\n",
        "¿Vamos ahora a sumergirnos en la práctica e incorporar estos conceptos a nuestro proyecto?\n"
      ],
      "metadata": {
        "id": "Ow7ELrgow1h8"
      }
    },
    {
      "cell_type": "markdown",
      "source": [
        "## **4.2 - Añadiendo etiquetas y rótulos**"
      ],
      "metadata": {
        "id": "uMM8DVcByPe3"
      }
    },
    {
      "cell_type": "markdown",
      "source": [
        "Ya hemos creado anteriormente los 7 visuales y definido los colores del proyecto. Ahora, vamos a elegir solo uno de los visuales para comprender cómo podemos utilizar la IA para agregar los colores ideales, las etiquetas de los datos, títulos y etiquetas de los ejes.\n",
        "\n",
        "Entonces, tomaremos el código de ese primer gráfico (Métodos de pago utilizados) y exploraremos estos cambios a través de la utilización de la IA."
      ],
      "metadata": {
        "id": "eUirAlyP66lC"
      }
    },
    {
      "cell_type": "code",
      "source": [],
      "metadata": {
        "id": "FrvfCM5c9irn"
      },
      "execution_count": null,
      "outputs": []
    },
    {
      "cell_type": "code",
      "source": [],
      "metadata": {
        "id": "hXV8LKx-9kNb"
      },
      "execution_count": null,
      "outputs": []
    },
    {
      "cell_type": "markdown",
      "source": [
        "<strong><font color=\"7b71ff\" size =6>Prompt:</font></strong>\n",
        "\n",
        "Ahora llegó el momento de refinar nuestras visualizaciones. Comencemos con el primer gráfico que hicimos, el de los métodos de pago.\n",
        "\n",
        "Nuestro gráfico necesita seguir la identidad visual de Zoop, con el fondo de la figura y del gráfico en el color GRIS_1, las columnas en el color ROJO_1 y el tamaño de la figura debe ser de (10, 6).\n",
        "\n",
        "El título de la figura es \"Métodos de pago más utilizados en 2023\" con tamaño 18 y su color GRIS_5.\n",
        "\n",
        "Las etiquetas del eje y (yticks) deben ser suprimidas así como la etiqueta del eje y (ylabel) y las etiquetas, y la etiqueta del eje x (xticks y xlabel) deben tener tamaño 12 con el color AZUL_1. Los bordes superior, derecho e izquierdo del gráfico deben ser suprimidos.\n",
        "\n",
        "Además, es necesario mostrar el total de cada método de pago encima de cada columna, con el texto también en el color AZUL_1 y tamaño 12.\n",
        "\n",
        "Utiliza las bibliotecas de visualización de datos de Python para crear esta visualización. Recuerda que las variables de los colores que estamos utilizando tienen valores de colores ya en hexadecimal."
      ],
      "metadata": {
        "id": "Y7M7NxMO-zpp"
      }
    },
    {
      "cell_type": "code",
      "source": [
        "# 2. Preparamos los datos\n",
        "metodos_de_pago = df['metodo_pago'].value_counts().reset_index()\n",
        "metodos_de_pago.columns = ['metodo_pago', 'cantidad']\n",
        "\n",
        "# 3. Crear la figura y el gráfico\n",
        "plt.figure(figsize=(10, 6), facecolor=GRIS_1)\n",
        "ax = sns.barplot(\n",
        "    data=metodos_de_pago,\n",
        "    x='metodo_pago',\n",
        "    y='cantidad',\n",
        "    color=ROJO_1\n",
        ")\n",
        "\n",
        "# 4. Título\n",
        "plt.title('Métodos de pago más utilizados en 2023', fontsize=18, color=GRIS_5)\n",
        "\n",
        "# 5. Estilo del área del gráfico\n",
        "ax.set_facecolor(GRIS_1)\n",
        "\n",
        "# 6. Suprimir eje Y\n",
        "ax.set_ylabel('')\n",
        "ax.set_yticks([])\n",
        "\n",
        "# 7. Personalizar eje X\n",
        "ax.set_xlabel('Método de pago', fontsize=12, color=AZUL_1)\n",
        "ax.tick_params(axis='x', labelsize=12, colors=AZUL_1)\n",
        "\n",
        "# 8. Quitar bordes innecesarios\n",
        "for spine in ['left', 'top', 'right']:\n",
        "    ax.spines[spine].set_visible(False)\n",
        "\n",
        "# 9. Etiquetas encima de cada barra\n",
        "for index, row in metodos_de_pago.iterrows():\n",
        "    ax.text(\n",
        "        x=index,\n",
        "        y=row['cantidad'] + 1,\n",
        "        s=row['cantidad'],\n",
        "        ha='center',\n",
        "        fontsize=12,\n",
        "        color=AZUL_1\n",
        "    )\n",
        "\n",
        "# 10. Mostrar el gráfico\n",
        "plt.tight_layout()\n",
        "plt.show()"
      ],
      "metadata": {
        "id": "sFcS3Yq-9gca",
        "colab": {
          "base_uri": "https://localhost:8080/",
          "height": 601
        },
        "outputId": "98838e43-126e-4bfe-cc6f-748ff0d57dbf"
      },
      "execution_count": 101,
      "outputs": [
        {
          "output_type": "display_data",
          "data": {
            "text/plain": [
              "<Figure size 1000x600 with 1 Axes>"
            ],
            "image/png": "[encoded data removed]"
          },
          "metadata": {}
        }
      ]
    },
    {
      "cell_type": "code",
      "source": [],
      "metadata": {
        "id": "XxX_MQCR9hub"
      },
      "execution_count": null,
      "outputs": []
    },
    {
      "cell_type": "markdown",
      "source": [
        "<font color=\"7b71ff\" size=4> Comentarios: </font>\n",
        "\n",
        "---\n",
        "¡Vaya! Parece otro gráfico, ¿verdad?\n",
        "\n",
        "Eliminamos muchos elementos distractores y añadimos solo la información que nos interesaba. Además, cambiamos el diseño de un estado genérico a un formato que se ajusta a la identidad de Zoop, dejando nuestro gráfico listo para ser utilizado, por ejemplo, en el informe de ventas.\n",
        "\n",
        "Más adelante aplicaremos estas acciones a los otros visuales. Nuestro enfoque aquí es entender las técnicas de storytelling y cómo combinarlas con la IA puede ser bastante útil.\n"
      ],
      "metadata": {
        "id": "NDFhZh_SBDlK"
      }
    },
    {
      "cell_type": "markdown",
      "source": [
        "## **4.3 - Añadiendo textos**\n",
        "\n",
        "---\n"
      ],
      "metadata": {
        "id": "wy6Gl_00BN8y"
      }
    },
    {
      "cell_type": "markdown",
      "source": [
        "Ya hemos refinado uno de los gráficos en la etapa anterior. Ahora, vamos a traer ese gráfico, añadiendo un elemento más que puede ser importante para los análisis: textos informativos. Utilizaremos la IA nuevamente para este proceso."
      ],
      "metadata": {
        "id": "Z-sK2ZcFBfB9"
      }
    },
    {
      "cell_type": "markdown",
      "source": [
        "> #### <strong><font color=\"7b71ff\" size =6>Prompt:</font></strong>\n",
        "\n",
        "¡El gráfico quedó muy bien!\n",
        "\n",
        "Ahora quiero añadir un texto dentro del área del gráfico, ¿vamos allá?\n",
        "\n",
        "Para ello, suma los valores de las dos primeras columnas, divide por la suma de todas las columnas y convierte a formato de porcentaje, almacenando en la variable \"porcentaje\".\n",
        "\n",
        "Ahora, en la posición x=1.5 y y=2500, añade el siguiente texto con tamaño 10 y color AZUL_3: f\"$\\\\bf{porcentaje:.2f}$% de los clientes utilizan Tarjeta de Crédito o Transferencia \\npara el pago. Sería interesante considerar asociaciones con \\nbancos para la creación de un Zoop Pay con el fin de fidelizar \\na nuestra clientela.\"."
      ],
      "metadata": {
        "id": "rA4Nrw1cBi88"
      }
    },
    {
      "cell_type": "code",
      "source": [],
      "metadata": {
        "id": "Yn00W8j79Zqa"
      },
      "execution_count": null,
      "outputs": []
    },
    {
      "cell_type": "code",
      "source": [],
      "metadata": {
        "id": "JyOzs6s59cjw"
      },
      "execution_count": null,
      "outputs": []
    },
    {
      "cell_type": "markdown",
      "source": [
        "<font color=\"7b71ff\" size=4> Comentarios: </font>\n",
        "\n",
        "---\n",
        "\n",
        "Aprovechamos el área útil para presentar una *idea* que tuvimos al describir los datos de los métodos de pago. Esto aumenta significativamente la relevancia de los datos representados y proporciona más información a quien lo lee.\n"
      ],
      "metadata": {
        "id": "i-gjTFXiCa6l"
      }
    },
    {
      "cell_type": "markdown",
      "source": [
        "## **4.4 - Agregar elementos visuales**\n",
        "\n",
        "---\n"
      ],
      "metadata": {
        "id": "iDkaLxz4ChsD"
      }
    },
    {
      "cell_type": "markdown",
      "source": [
        "¿Qué tal el uso de textos informativos, verdad? ¿Y si ahora añadimos otros elementos visuales a uno de nuestros gráficos?\n",
        "\n",
        "Vamos a elegir ahora el gráfico de líneas (Ventas totales mensuales de Zoop) y aplicar una técnica más a él mediante el uso de la IA.\n"
      ],
      "metadata": {
        "id": "d0u1EJ6KC1b1"
      }
    },
    {
      "cell_type": "code",
      "source": [],
      "metadata": {
        "id": "XsIYrUqW9UgH"
      },
      "execution_count": null,
      "outputs": []
    },
    {
      "cell_type": "code",
      "source": [],
      "metadata": {
        "id": "Lye9rKE-9V8S"
      },
      "execution_count": null,
      "outputs": []
    },
    {
      "cell_type": "markdown",
      "source": [
        "> #### <strong><font color=\"7b71ff\" size =6>Prompt:</font></strong>\n",
        "\n",
        "¿Vamos a explorar otro de los gráficos que hicimos? Ahora vamos a utilizar el de Ventas totales mensuales de Zoop. La variable que pasa los valores mensuales es:\n",
        "```\n",
        "ventas_mensuales = df.groupby(df['fecha'].dt.to_period('M'))['facturacion'].sum().reset_index()\n",
        "```\n",
        "Pero debes sustituirla por:\n",
        "```\n",
        "df['mes'] = df['fecha'].dt.strftime('%B')\n",
        "ventas_mensuales = df.groupby('mes')['facturacion'].sum().reindex(meses.keys())\n",
        "```\n",
        "En el que `df['fecha']` corresponde a las fechas en formato datetime y `df['facturacion']` a los valores de las ventas.\n",
        "\n",
        "Y lo que generó el gráfico original fue:\n",
        "\n",
        "```\n",
        "sns.lineplot(x='mes', y='facturacion', data=ventas_mensuales, marker='o', sort=False)\n",
        "```\n",
        "Pero debes utilizar únicamente la biblioteca matplotlib con la creación del gráfico siguiendo este ejemplo:\n",
        "\n",
        "```\n",
        "plt.plot(ventas_mensuales.index, ventas_mensuales, marker='o', color='#1890FF', linewidth=2)\n",
        "```\n",
        "\n",
        "Nuestro gráfico debe seguir la identidad visual de Zoop, con el fondo de la figura y del gráfico en color GRIS_1, la línea en color AZUL_1 y el tamaño de la figura debe ser de (12, 6).\n",
        "\n",
        "El título de la figura es \"Ventas totales mensuales en 2023\" con tamaño 18 y su color GRIS_5.\n",
        "\n",
        "Las etiquetas del eje y (yticks) deben estar en el formato \"MXN$ valor M\" con dos decimales, tamaño 12 y color AZUL_1.\n",
        "\n",
        "Las etiquetas del eje X (xticks) deben tener tamaño 12 con color AZUL_1. Los labels de los ejes x e y (xlabel e ylabel) deben ser suprimidos. Los bordes del gráfico en la parte superior y el lado derecho deben ser suprimidos.\n",
        "\n",
        "Utiliza las bibliotecas de visualización de datos de Python para crear esta visualización. Recuerda que las variables de colores que estamos utilizando tienen valores de colores ya en hexadecimal.\n"
      ],
      "metadata": {
        "id": "OW7diglQDdZS"
      }
    },
    {
      "cell_type": "code",
      "source": [],
      "metadata": {
        "id": "qCsO8Oh_9SkC"
      },
      "execution_count": null,
      "outputs": []
    },
    {
      "cell_type": "code",
      "source": [],
      "metadata": {
        "id": "JNAntiF09W1L"
      },
      "execution_count": null,
      "outputs": []
    },
    {
      "cell_type": "markdown",
      "source": [
        "> #### <strong><font color=\"7b71ff\" size =6>Prompt:</font></strong>\n",
        "\n",
        "¡Genial! Ahora que nuestro gráfico ya tiene la identidad visual, vamos a añadir algunos elementos visuales adicionales.\n",
        "\n",
        "Dibuja 4 círculos de radio 200, transparentes con el borde en color ROJO_1 y con el centro en las coordenadas del 5º, 8º, 11º y 12º puntos, respectivamente. A la izquierda de cada círculo enumera del 1 al 4.\n"
      ],
      "metadata": {
        "id": "2AwdD-waFPEX"
      }
    },
    {
      "cell_type": "code",
      "source": [],
      "metadata": {
        "id": "o5_JOMJd9Nhy"
      },
      "execution_count": null,
      "outputs": []
    },
    {
      "cell_type": "code",
      "source": [],
      "metadata": {
        "id": "O7GqzHlg9XWb"
      },
      "execution_count": null,
      "outputs": []
    },
    {
      "cell_type": "markdown",
      "source": [
        "<font color=\"7b71ff\" size=4> Comentarios: </font>\n",
        "\n",
        "---\n",
        "\n",
        "Hemos añadido 4 círculos que representan los puntos con mayor volumen de ventas de Zoop en 2023. Podemos plantear algunas hipótesis:\n",
        "\n",
        "1. En mayo, tenemos una de las fechas más relevantes en ventas: el Día de las Madres, lo que puede justificar el aumento en las ventas de Zoop.\n",
        "2. En agosto, hay una situación que pueden explicar el crecimiento: la vuelta a clases en el segundo semestre en algunos estados de Mexico.\n",
        "3. En noviembre, destaca la Black Friday, uno de los principales períodos de alta en las ventas, considerado de gran relevancia para el comercio minorista.\n",
        "4. En diciembre, tenemos  las festividades de Año Nuevo, consideradas el período de mayores ventas no solo para Zoop, sino para el comercio minorista en general.\n",
        "\n",
        "La recomendación es investigar más a fondo los datos y llegar a tus propias conclusiones.\n"
      ],
      "metadata": {
        "id": "IjV7mgbSF7HL"
      }
    },
    {
      "cell_type": "markdown",
      "source": [
        "Antes de ajustar los últimos 5 visuales de nuestro proyecto, vamos a hacer una pequeña modificación en los 2 primeros, convirtiéndolos en funciones, lo que facilitará más adelante cuando realicemos la exportación\n"
      ],
      "metadata": {
        "id": "ynaOuTScHfzi"
      }
    },
    {
      "cell_type": "markdown",
      "source": [
        "# **Clase 5 - Finalizando el proyecto**"
      ],
      "metadata": {
        "id": "NdXjUc-K6N0r"
      }
    },
    {
      "cell_type": "markdown",
      "source": [
        "Antes de ajustar los últimos 5 visuales de nuestro proyecto, haremos una pequeña modificación en los 2 primeros pasándolos a función, lo que facilitará más adelante cuando realicemos la exportación de los visuales.\n"
      ],
      "metadata": {
        "id": "nPd_trF36h7_"
      }
    },
    {
      "cell_type": "markdown",
      "source": [
        "### **Gráfico 1 - Métodos de pago más utilizados en 2023:**"
      ],
      "metadata": {
        "id": "2RnTvZsv8Ejs"
      }
    },
    {
      "cell_type": "code",
      "source": [],
      "metadata": {
        "id": "SsgOQNU68_qO"
      },
      "execution_count": null,
      "outputs": []
    },
    {
      "cell_type": "code",
      "source": [],
      "metadata": {
        "id": "mqqKAc3q8_i0"
      },
      "execution_count": null,
      "outputs": []
    },
    {
      "cell_type": "markdown",
      "source": [
        "### **Gráfico 2 - Total de ventas mensuales en 2023:**"
      ],
      "metadata": {
        "id": "7__1mu6pA5iX"
      }
    },
    {
      "cell_type": "code",
      "source": [],
      "metadata": {
        "id": "RIHH6PyH89ir"
      },
      "execution_count": null,
      "outputs": []
    },
    {
      "cell_type": "code",
      "source": [],
      "metadata": {
        "id": "zP_x0_QF89Ul"
      },
      "execution_count": null,
      "outputs": []
    },
    {
      "cell_type": "markdown",
      "source": [
        "Ahora que guardamos los 2 primeros gráficos en función, vamos a modificar uno más, **Facturación por categoría de producto en 2023**, utilizando las técnicas de storytelling que ya hemos aprendido.\n"
      ],
      "metadata": {
        "id": "j4QB6Ph8XyPt"
      }
    },
    {
      "cell_type": "markdown",
      "source": [
        "### **Gráfico 3 - Facturación por categoría de producto en 2023:**\n"
      ],
      "metadata": {
        "id": "cC-LvjjVYMXJ"
      }
    },
    {
      "cell_type": "markdown",
      "source": [
        "Vamos a continuar con los gráficos generados a lo largo de las clases, partiendo ahora del gráfico de facturación por categoría de producto aplicando las técnicas de storytelling que aprendimos aquí en el curso mediante el uso de la IA.\n"
      ],
      "metadata": {
        "id": "4vux7UVbYXLz"
      }
    },
    {
      "cell_type": "code",
      "source": [],
      "metadata": {
        "id": "ygY4gS5K87Zr"
      },
      "execution_count": null,
      "outputs": []
    },
    {
      "cell_type": "markdown",
      "source": [
        "> #### <strong><font color=\"7b71ff\" size=6>Prompt:</font></strong>\n",
        "\n",
        "¿Vamos a proceder con otro gráfico? Ahora, vamos refinar el gráfico de facturación por categoría. Recuerda que este gráfico fue de barras horizontales.\n",
        "\n",
        "El script original del gráfico es el siguiente:\n",
        "\n",
        "```python\n",
        "\n",
        "# 1. Calcular la facturación para cada compra\n",
        "df['facturacion'] = (df['precio_unitario'] * df['cantidad']) + df['envio']\n",
        "\n",
        "# 2. Agrupar por categoría y sumar la facturación\n",
        "facturacion_categoria = df.groupby('categoria')['facturacion'].sum().reset_index()\n",
        "\n",
        "# 3. Ordenar los datos por facturación de mayor a menor\n",
        "facturacion_categoria = facturacion_categoria.sort_values(by='facturacion', ascending=False)\n",
        "\n",
        "# 4. Crear el gráfico de barras horizontales\n",
        "plt.figure(figsize=(10, 6))\n",
        "sns.barplot(x='facturacion', y='categoria', data=facturacion_categoria, palette='viridis',orient='h')\n",
        "\n",
        "# 5. Añadir etiquetas y título\n",
        "plt.title('Facturación por Categoría de Producto', fontsize=16)\n",
        "plt.xlabel('Facturación (en MXN$)', fontsize=12)\n",
        "plt.ylabel('Categoría', fontsize=12)\n",
        "\n",
        "# 6. Mostrar el gráfico\n",
        "plt.show()\n",
        "```\n",
        "Nuestro gráfico debe seguir la identidad visual de Zoop, con el fondo de la figura y del gráfico en el color GRIS_1, las barras en el color AQUA_1 y el tamaño de la figura debe ser de (10, 6).\n",
        "\n",
        "El título de la figura es \"Facturación por categoría de producto en 2023\" con tamaño 18 y su color GRIS_5.\n",
        "\n",
        "Las etiquetas del eje x (xticks) deben ser suprimidas al igual que los labels de los ejes x y y (xlabel y ylabel), y las etiquetas del eje y (yticks) deben tener tamaño 12 con el color AZUL_1. Todas las bordes del gráfico deben ser suprimidas.\n",
        "\n",
        "Además, es necesario mostrar el total de la facturación de cada categoría al lado derecho de cada barra, con el texto también en color AZUL_1 y tamaño 12.\n",
        "\n",
        "También vamos a agregar un texto dentro del área del gráfico. Para ello, divide el valor de la 1ª barra entre la suma de todas las barras y conviértelo en un porcentaje, almacenándolo en la variable \"porcentaje\".\n",
        "\n",
        "Ahora, en la posición x = 0.4e7 y y = 5, agrega el siguiente texto con tamaño 12 y color AZUL_3: `f\"$\\\\bf{porcentaje:.2f}$% de las ventas corresponden únicamente a las ventas de Electrónica.\\nEsto equivale a casi el doble en relación con todas las demás categorías\\npresentes en el portafolio de Zoop.\"`.\n",
        "\n",
        "Utiliza las bibliotecas de visualización de datos de Python para crear esta visualización.\n"
      ],
      "metadata": {
        "id": "NQieRpg1h8zh"
      }
    },
    {
      "cell_type": "code",
      "source": [],
      "metadata": {
        "id": "95i11Mwu85gF"
      },
      "execution_count": null,
      "outputs": []
    },
    {
      "cell_type": "code",
      "source": [],
      "metadata": {
        "id": "lC5AgN8s85ZT"
      },
      "execution_count": null,
      "outputs": []
    },
    {
      "cell_type": "markdown",
      "source": [
        "<font color=\"7b71ff\" size=4> Comentarios: </font>\n",
        "\n",
        "---\n",
        "\n",
        "Hicimos con un solo prompt la inserción de las etiquetas, la modificación de los colores y añadimos un texto explicativo. Con la secuencia de explicaciones para ChatGPT, este reconoce algunos patrones en la construcción y genera parte del código incluso sin más detalles.\n"
      ],
      "metadata": {
        "id": "fhxRtCmbrpjM"
      }
    },
    {
      "cell_type": "markdown",
      "source": [
        "## **5.2 - Ajustando los visuales de composición**\n",
        "\n",
        "---\n"
      ],
      "metadata": {
        "id": "KsEbRFBXsVcV"
      }
    },
    {
      "cell_type": "markdown",
      "source": [
        "Ya hemos llegado a prácticamente la mitad de los gráficos refinados. Ahora, en este tema, ajustaremos 2 más aplicando las técnicas de storytelling que aprendimos aquí en el curso mediante el uso de la IA.\n"
      ],
      "metadata": {
        "id": "hMgOAYDnsfPQ"
      }
    },
    {
      "cell_type": "markdown",
      "source": [
        "### **Gráfico 4 - Ventas por trimestre y método de pago:**"
      ],
      "metadata": {
        "id": "KUwT_68wPtt7"
      }
    },
    {
      "cell_type": "code",
      "source": [],
      "metadata": {
        "id": "QX0rdGsW83ZL"
      },
      "execution_count": null,
      "outputs": []
    },
    {
      "cell_type": "markdown",
      "source": [
        "> #### <strong><font color=\"7b71ff\" size=6>Prompt:</font></strong>\n",
        "\n",
        "Ahora vamos con el gráfico de Ventas por Trimestre y Método de Pago que producimos anteriormente. Vamos a refinarlo usando las siguientes directrices.\n",
        "\n",
        "Recuerda que el script original del gráfico es el siguiente:\n",
        "```python\n",
        "\n",
        "# 1. Crear una nueva columna 'trimestre' que extrae el trimestre de la columna 'fecha'\n",
        "df['trimestre'] = df['fecha'].dt.to_period('Q')\n",
        "\n",
        "# 2. Agrupar los datos por trimestre y método de pago, sumando la facturación\n",
        "ventas_trimestre = df.groupby(['trimestre', 'metodo_pago'])['facturacion'].sum().unstack()\n",
        "\n",
        "# 3. Crear el gráfico de barras apiladas\n",
        "ventas_trimestre.plot(kind='bar', stacked=True, figsize=(10, 6), colormap='viridis')\n",
        "\n",
        "# 4. Añadir etiquetas y título\n",
        "plt.title('Ventas por Trimestre y Método de Pago', fontsize=16)\n",
        "plt.xlabel('Trimestre', fontsize=12)\n",
        "plt.ylabel('Facturación Total', fontsize=12)\n",
        "plt.xticks(rotation=0)  # Rotar las etiquetas del eje x para mayor claridad\n",
        "\n",
        "# 5. Mostrar el gráfico\n",
        "plt.legend(title='Método de Pago por trimestre de 2023')\n",
        "plt.tight_layout()\n",
        "plt.show()\n",
        "\n",
        "```\n",
        "\n",
        "Nuestro gráfico debe seguir la identidad visual de Zoop, con el fondo de la figura y del gráfico en el color GRIS_1 y el tamaño de la figura debe ser de (10, 6). La secuencia de colores de las columnas apiladas (palette) es [BLANCO, GRIS_3, GRIS_1, GRIS_3].\n",
        "\n",
        "El título de la figura es \"Ventas por Trimestre y Método de Pago en 2023\" con tamaño 18 y su color GRIS_5.\n",
        "\n",
        "Las etiquetas del eje x (xticks) deben estar a 0 grados y tener tamaño 12 con el color AZUL_1. Las etiquetas del eje y (yticks) deben estar en el formato f\"MXN$ valor M\" sin decimales y las etiquetas de los ejes x e y (xlabel e ylabel) deben ser suprimidas. Todos los bordes del gráfico deben ser suprimidos(['top','bottom','left','right]).\n",
        "\n",
        "También agrega una cuadrícula punteada en y.\n",
        "\n",
        "Utiliza las bibliotecas de visualización de datos de Python para crear esta visualización.\n"
      ],
      "metadata": {
        "id": "1krG9wE7zRrL"
      }
    },
    {
      "cell_type": "code",
      "source": [],
      "metadata": {
        "id": "KDQDgK1580-3"
      },
      "execution_count": null,
      "outputs": []
    },
    {
      "cell_type": "code",
      "source": [],
      "metadata": {
        "id": "i3rYEAqC8064"
      },
      "execution_count": null,
      "outputs": []
    },
    {
      "cell_type": "markdown",
      "source": [
        "<font color=\"7b71ff\" size=4> Comentarios: </font>\n",
        "\n",
        "---\n",
        "\n",
        "Ajustamos el gráfico de barras apiladas representando con colores más suaves los valores de los métodos de pago. Podemos notar cosas interesantes en este gráfico, como: el 2º y 4º trimestre siendo los momentos en que Zoop factura más con ventas, y también el aumento en los pagos de las compras realizadas por los clientes mediante tarjeta de crédito.\n"
      ],
      "metadata": {
        "id": "HJT8PZtF23f2"
      }
    },
    {
      "cell_type": "markdown",
      "source": [
        "### **Gráfico 5 - Clientes participantes del programa de cashback:**"
      ],
      "metadata": {
        "id": "xQaEH5ul3CPs"
      }
    },
    {
      "cell_type": "markdown",
      "source": [
        "Ahora ha llegado el momento del gráfico de sectores. Ya está bien encaminado, pero necesitamos realizar algunos ajustes.\n"
      ],
      "metadata": {
        "id": "StsTmw_i3N0q"
      }
    },
    {
      "cell_type": "code",
      "source": [],
      "metadata": {
        "id": "HPNBxhSh8yzy"
      },
      "execution_count": null,
      "outputs": []
    },
    {
      "cell_type": "markdown",
      "source": [
        "> #### <strong><font color=\"7b71ff\" size =6>Prompt:</font></strong>\n",
        "\n",
        "Ahora, vamos a refinar el gráfico de dona que produjimos para la proporción de usuarios que se adhieren al programa de cashback.\n",
        "\n",
        "Recuerda que el script original del gráfico es el siguiente:\n",
        "\n",
        "```python\n",
        "plt.figure(figsize=(6, 6))\n",
        "plt.pie(cashback_proporcion, labels=cashback_proporcion.index, autopct='%1.1f%%',\n",
        "        colors=['#FF6666', '#66b3ff'], startangle=90, explode=(0.05, 0), wedgeprops={'width': 0.4})\n",
        "\n",
        "# 3. Añadir título\n",
        "plt.title('Proporción de Usuarios Participando en el Programa de Cashback', fontsize=16)\n",
        "\n",
        "# 4. Mostrar el gráfico\n",
        "plt.axis('equal')  # Asegura que el gráfico sea un círculo\n",
        "plt.show()\n",
        "```\n",
        "\n",
        "Nuestro gráfico debe seguir la identidad visual de Zoop, con el fondo de la figura y del gráfico en el color GRIS_1, el color de la porción de valor \"No\" igual a GRIS_3, el color de la porción de valor \"Sí\" igual a AZUL_1 y el tamaño de la figura debe ser de (6, 6).\n",
        "\n",
        "El título de la figura es \"¿Participan en el programa de cashback?\" con un tamaño de 18 y su color GRIS_5.\n",
        "\n",
        "Las etiquetas de las porciones deben tener el mismo color que las porciones y un tamaño de 12, y los porcentajes deben estar en color BLANCO, también con un tamaño de 12.\n",
        "\n",
        "La propiedad de ancho de la dona (`wedgeprops`) debe ser de 0.4, la posición de los porcentajes dentro de la porción (`pctdistance`) debe ser de 0.8, el ángulo de inicio debe ser de 180 (`startangle`), y sin explosión de porciones.\n",
        "\n",
        "Utiliza las bibliotecas de visualización de datos de Python para crear esta visualización.\n"
      ],
      "metadata": {
        "id": "8MVLAZBb4l4Z"
      }
    },
    {
      "cell_type": "code",
      "source": [],
      "metadata": {
        "id": "3mTu1c-Y8wTi"
      },
      "execution_count": null,
      "outputs": []
    },
    {
      "cell_type": "code",
      "source": [],
      "metadata": {
        "id": "D8tlN45x8wP7"
      },
      "execution_count": null,
      "outputs": []
    },
    {
      "cell_type": "markdown",
      "source": [
        "<font color=\"7b71ff\" size=4> Comentarios: </font>\n",
        "\n",
        "---\n",
        "\n",
        "Hemos modificado otro gráfico, ahora el de dona, para representar la proporción de nuestros(as) clientes. Dimos mayor destaque al \"Sí\", utilizando el color como recurso de punto focal.\n"
      ],
      "metadata": {
        "id": "t-F0cRvT54ki"
      }
    },
    {
      "cell_type": "markdown",
      "source": [
        "## **5.3 - Ajustando los visuales de distribución**\n",
        "\n",
        "---\n"
      ],
      "metadata": {
        "id": "0W8lFf-U6N42"
      }
    },
    {
      "cell_type": "markdown",
      "source": [
        "Ahora vamos con los últimos 2 gráficos antes de la exportación de los visuales. Vamos a aplicar más técnicas de storytelling que aprendimos mediante el uso de la IA.\n"
      ],
      "metadata": {
        "id": "pk9VbSCp6v0g"
      }
    },
    {
      "cell_type": "markdown",
      "source": [
        "### **Gráfico 6 - Evaluaciones de los productos:**\n"
      ],
      "metadata": {
        "id": "ENCbI1v37u03"
      }
    },
    {
      "cell_type": "markdown",
      "source": [
        "Agora vamos para a distribuição das avaliações dos produtos em que criamos um histograma. Vamos adicionar mais um novo elemento visual e realizar alguns ajustes."
      ],
      "metadata": {
        "id": "t6Yp9lPW8SRp"
      }
    },
    {
      "cell_type": "code",
      "source": [],
      "metadata": {
        "id": "AoWfvsEL8uCL"
      },
      "execution_count": null,
      "outputs": []
    },
    {
      "cell_type": "markdown",
      "source": [
        "> #### <strong><font color=\"7b71ff\" size =6>Prompt:</font></strong>\n",
        "\n",
        "Ahora vamos con el gráfico de la Distribución de las Evaluaciones de Compra que produjimos anteriormente. Vamos a refinarlo usando las siguientes orientaciones.\n",
        "\n",
        "El script original que genera el gráfico es el siguiente:\n",
        "\n",
        "```python\n",
        "# 1. Configurar el tamaño del gráfico\n",
        "plt.figure(figsize=(10, 6))\n",
        "\n",
        "# 2. Crear el gráfico de distribución (histograma)\n",
        "sns.histplot(df['nota'], bins=11, kde=False, color='skyblue')\n",
        "\n",
        "# 3. Añadir etiquetas y título\n",
        "plt.title('Distribución de las Calificaciones de las Compras', fontsize=16)\n",
        "plt.xlabel('Calificación (0-10)', fontsize=12)\n",
        "plt.ylabel('Frecuencia', fontsize=12)\n",
        "\n",
        "# 4. Mostrar el gráfico\n",
        "plt.show()\n",
        "```\n",
        "\n",
        "Nuestro gráfico necesita seguir la identidad visual de Zoop, con el fondo de la figura y del gráfico en el color GRIS_1, el color de las columnas en ROJO_1 y el tamaño de la figura debe ser de (10, 6).\n",
        "\n",
        "El título de la figura es \"Distribución de las evaluaciones de las compras en 2023\" con tamaño 18 y su color GRIS_5.\n",
        "\n",
        "Las etiquetas del eje x (xticks) deben estar en el rango de 0 a 10 con 11 bins y tener tamaño 12 con el color AZUL_1. Las etiquetas del eje y (yticks) deben tener tamaño 12 con el color AZUL_1 y las etiquetas de los ejes x e y (xlabel e ylabel) también deben tener tamaño 12 con el color AZUL_1. Todos los bordes del gráfico deben ser suprimidos (['top', 'bottom', 'left', 'right']).\n",
        "\n",
        "El grid del eje y debe estar detrás del gráfico (`ax.set_axisbelow(True)`).\n",
        "\n",
        "Vamos a añadir una caja de anotación (`ax.annotate()`) con el fondo en color BLANCO y el borde en color GRIS_3 dentro del área del gráfico. El texto de la anotación es\n",
        "\n",
        "```python\n",
        "f\"Promedio de calificaciones = {df['nota'].mean().round(2)}\\n Calificación más común = {df['nota'].value_counts().idxmax()}\\n Frecuencia más común = {df['nota'].value_counts().max()}\"\n",
        "```\n",
        "\n",
        "en color AZUL_1. Añade la caja de anotación con el texto en la posición xytext=(2, 1800) y coloca una flecha, en color AZUL_1, saliendo de la caja hasta la posición xy=(8.7, 2250).\n",
        "\n",
        "Utiliza las bibliotecas de visualización de datos de Python para crear esta visualización.\n"
      ],
      "metadata": {
        "id": "9wauvnM5-8tl"
      }
    },
    {
      "cell_type": "code",
      "source": [],
      "metadata": {
        "id": "GggHmSJI8rBW"
      },
      "execution_count": null,
      "outputs": []
    },
    {
      "cell_type": "code",
      "source": [],
      "metadata": {
        "id": "CCEWR9S58q97"
      },
      "execution_count": null,
      "outputs": []
    },
    {
      "cell_type": "markdown",
      "source": [
        "<font color=\"7b71ff\" size=4> Comentarios: </font>\n",
        "\n",
        "---\n",
        "\n",
        "¡Una novedad más en nuestro gráfico! Añadimos la función de caja de anotaciones, que es muy útil para proporcionar información sobre los datos. Con ella es posible utilizar flechas como indicadores para destacar detalles.\n"
      ],
      "metadata": {
        "id": "xQZOKIRDBv00"
      }
    },
    {
      "cell_type": "markdown",
      "source": [
        "### **Gráfico 7 - Distribución del público por edad y sexo biológico:**\n"
      ],
      "metadata": {
        "id": "OvX96VEzB16Y"
      }
    },
    {
      "cell_type": "markdown",
      "source": [
        "Ahora vamos con nuestra última visualización.\n"
      ],
      "metadata": {
        "id": "A5-EoWVgCR28"
      }
    },
    {
      "cell_type": "code",
      "source": [],
      "metadata": {
        "id": "fATZ9ek88lCq"
      },
      "execution_count": null,
      "outputs": []
    },
    {
      "cell_type": "markdown",
      "source": [
        "> #### <strong><font color=\"7b71ff\" size =6>Prompt:</font></strong>\n",
        "\n",
        "Ahora vamos al gráfico de boxplot de la Distribución de la Edad por Sexo Biológico que produjimos anteriormente. Vamos a refinado usando las siguientes orientaciones.\n",
        "\n",
        "El script original que genera el gráfico es el siguiente:\n",
        "\n",
        "```python\n",
        "# 1. Configurar el tamaño del gráfico\n",
        "plt.figure(figsize=(10, 6))\n",
        "\n",
        "# 2. Crear el gráfico de boxplot\n",
        "sns.boxplot(x='sexo_biologico', y='edad', data=df, palette='Set2')\n",
        "\n",
        "# 3. Añadir etiquetas y título\n",
        "plt.title('Distribución de la Audiencia por Edad y Sexo Biológico', fontsize=16)\n",
        "plt.xlabel('Sexo Biológico', fontsize=12)\n",
        "plt.ylabel('Edad', fontsize=12)\n",
        "\n",
        "# 4. Mostrar el gráfico\n",
        "plt.show()\n",
        "```\n",
        "\n",
        "Nuestro gráfico debe seguir la identidad visual de Zoop, con el fondo de la figura y del gráfico en el color GRIS_1, y el tamaño de la figura debe ser de (10, 6).\n",
        "\n",
        "El título de la figura es \"Distribución de la Edad por Sexo Biológico de los  clientes\" con tamaño 18 y su color GRIS_5.\n",
        "\n",
        "La columna 'sexo_biologico' está representada en el eje x y la 'edad' en el eje y. La paleta de colores para los valores de x es [AZUL_1, AQUA_1].\n",
        "\n",
        "La etiqueta del eje x (xlabel) debe ser suprimida. Los rótulos del eje x y y (xticks y yticks) deben tener tamaño 12 con el color AZUL_1 y la etiqueta del eje y (ylabel) también debe tener tamaño 12 con el color AZUL_1. Todos los bordes del gráfico deben ser suprimidos y la cuadrícula del eje y debe estar detrás del gráfico (`ax.set_axisbelow(True)`).\n",
        "\n",
        "Vamos a agregar dos cajas de anotación (`ax.annotate()`) con el fondo en color BLANCO y el borde en color GRIS_3 dentro del área del gráfico.\n",
        "\n",
        "El texto de la primera anotación en color AZUL_1 es\n",
        "\n",
        "```python\n",
        "f\"Mínimo = df.groupby(\"sexo_biologico\")[\"edad\"].min()[1]\\n 1º quartil = df.groupby(\"sexo_biologico\")[\"edad\"].quantile(.25)[1]\\n 2º quartil = df.groupby(\"sexo_biologico\")[\"edad\"].median()[1]\\n 3º quartil = df.groupby(\"sexo_biologico\")[\"edad\"].quantile(.75)[1]\\n Máximo = df.groupby(\"sexo_biologico\")[\"edad\"].max()[1]\"\n",
        "```\n",
        "\n",
        "Agrega la caja de anotación con el texto en la posición xytext=(-0.4, 50) y coloca una flecha, en color AZUL_1, saliendo de la caja hasta la posición xy=(-0.1, 45).\n",
        "\n",
        "El texto de la segunda anotación en color AZUL_1 es\n",
        "\n",
        "```python\n",
        "f\"Mínimo = df.groupby(\"sexo_biologico\")[\"edad\"].min()[0]\\n 1º quartil = df.groupby(\"sexo_biologico\")[\"edad\"].quantile(.25)[0]\\n 2º quartil = df.groupby(\"sexo_biologico\")[\"edad\"].median()[0]\\n 3º quartil = df.groupby(\"sexo_biologico\")[\"edad\"].quantile(.75)[0]\\n Máximo = df.groupby(\"sexo_biologico\")[\"edad\"].max()[0]\"\n",
        "```\n",
        "\n",
        "\n",
        "Agrega la caja de anotación con el texto en la posición xytext=(0.6, 50) y coloca una flecha, en color AZUL_1, saliendo de la caja hasta la posición xy=(0.9, 45).\n",
        "\n",
        "Utiliza las bibliotecas de visualización de datos de Python para crear esta visualización.\n"
      ],
      "metadata": {
        "id": "u2WV7yloFTGp"
      }
    },
    {
      "cell_type": "code",
      "source": [],
      "metadata": {
        "id": "VwyrFJbh8iYq"
      },
      "execution_count": null,
      "outputs": []
    },
    {
      "cell_type": "code",
      "source": [],
      "metadata": {
        "id": "KokeV69t8iP-"
      },
      "execution_count": null,
      "outputs": []
    },
    {
      "cell_type": "markdown",
      "source": [
        "<font color=\"7b71ff\" size=4> Comentarios: </font>\n",
        "\n",
        "---\n",
        "\n",
        "Para nuestro último gráfico, creamos nuevamente el bloque de anotaciones señalando los valores que se muestran en un boxplot. Notamos que la distribución entre los clientes de sexo biológico masculino y femenino es bastante cercana, con solo un año de diferencia en el rango intercuartil (del 1º al 3º cuartil) en el caso del sexo biológico masculino. Zoop tiene en la mediana una clientela de 38 años de edad para ambos sexos.\n"
      ],
      "metadata": {
        "id": "hNRa4k9ABYTs"
      }
    },
    {
      "cell_type": "markdown",
      "source": [
        "## **5.4 - Exportando las visualizaciones**\n",
        "\n",
        "---\n",
        "\n"
      ],
      "metadata": {
        "id": "mTK8l5u7BlER"
      }
    },
    {
      "cell_type": "markdown",
      "source": [
        "¡Listo! Ahora que hemos finalizado los ajustes de todos los gráficos solicitados, generaremos un último código para exportar cada uno de los gráficos que transformamos en funciones en formato de imagen (PNG)."
      ],
      "metadata": {
        "id": "3tspl9LkCBcm"
      }
    },
    {
      "cell_type": "markdown",
      "source": [
        "<strong><font color=\"7b71ff\" size =6>Prompt:</font></strong>\n",
        "Ahora, vamos a nuestra última etapa: guardar las visualizaciones como imagen. Coloca cada uno de los gráficos que generamos dentro de una función y quiero que se aplique el siguiente procedimiento a cada una de ellas:\n",
        "\n",
        "```\n",
        "nombre_imagen = nombre_funcion()\n",
        "nombre_imagen.savefig('nombre_imagen.png', bbox_inches='tight')\n",
        "nombre_imagen.close()\n",
        "```\n",
        "Las funciones son:\n",
        "\n",
        "\n",
        "*   metodo_pago()\n",
        "*   ventas_mensuales()\n",
        "*   facturacion_por_categoria()\n",
        "*   ventas_por_trimestre()\n",
        "*   proporcion_cashback()\n",
        "*   distribucion_calificaciones()\n",
        "*   box_plot_edad_sexo()\n",
        "\n",
        "Reemplaza la variable \"nombre_imagen\" por \"grafico_\" seguido del nombre de la función que genera el gráfico.\n",
        "\n",
        "Utiliza el lenguaje Python para crear el código y no mostrar las imágenes."
      ],
      "metadata": {
        "id": "csUc52BgCb7C"
      }
    },
    {
      "cell_type": "code",
      "source": [],
      "metadata": {
        "id": "E8MJHMN98ewE"
      },
      "execution_count": null,
      "outputs": []
    },
    {
      "cell_type": "markdown",
      "source": [
        "¡Ahora es tu turno! ¿Qué tal descargar los gráficos y generar un informe con algunos insights y explicando los resultados?\n",
        "\n",
        "¡Espero que hayas disfrutado este curso y saques el máximo provecho del contenido!"
      ],
      "metadata": {
        "id": "kTJalNIIDsyA"
      }
    }
  ]
}